{
 "cells": [
  {
   "cell_type": "markdown",
   "metadata": {},
   "source": [
    "# Milestone 2"
   ]
  },
  {
   "cell_type": "markdown",
   "metadata": {},
   "source": [
    "### Part 1: Getting familiar with the data and constructing the Story Arcs"
   ]
  },
  {
   "cell_type": "markdown",
   "metadata": {},
   "source": [
    "In this section, we will construct the data pre-processing pipeline for our project. Specifically, we will explore the CMU Movie Corpus dataset by constructing the plot summary data frame and the movie meta data dataframe. \n",
    "\n",
    "We will then follow by splitting the movie plot into sentances and perform sentiment analysis on each sentance. With that, we will construct two columns called plot scores and plot classification. The plot scores column contains the list of sentiment scores ranging from (-1: negative) to (+1: positive) while the plot classification column contains the list of sentiment classes taking 3 discrete values (-1: negative), (0: neutral) and (1: positive). \n",
    "\n",
    "After performing the previous steps, we can join the two datasets (plot summary, movie meta data) by the wikipedia movie ID. We will then follow by contrsucting 4 different dataframes for the 4 most common genres (Action, Adventure, Comedy and Drama). Now since a movie can have multiple genres, we will make sure that the in constructed dataframes, a movie contain at most one of the four different genres listed. \n",
    "\n",
    "Finally, we now have all the needed information to perform clustering on the sentiment time series and with that, we will identify the 3 most common story emotional arcs for each genre. A story emotional arc refers to the plot of the sentiment values over the course of the plot lines which resembles a proxy to the type of events happining in the movies. In a nutshell, this resembles the data-processing pipeline that takes as input the CMU Movie Coprus dataset and outputs the sentiment scores and story emotional arcs of the various movies that we are given.  "
   ]
  },
  {
   "cell_type": "markdown",
   "metadata": {},
   "source": [
    "#### Part 1.1: Plot Summary dataset (pre-processing + sentiment retrieval)"
   ]
  },
  {
   "cell_type": "code",
   "execution_count": 1,
   "metadata": {
    "tags": []
   },
   "outputs": [
    {
     "name": "stdout",
     "output_type": "stream",
     "text": [
      "Requirement already satisfied: nltk in c:\\users\\melan\\anaconda3\\lib\\site-packages (3.6.5)Note: you may need to restart the kernel to use updated packages.\n",
      "Requirement already satisfied: click in c:\\users\\melan\\anaconda3\\lib\\site-packages (from nltk) (8.0.3)\n",
      "Requirement already satisfied: joblib in c:\\users\\melan\\anaconda3\\lib\\site-packages (from nltk) (1.1.0)\n",
      "Requirement already satisfied: regex>=2021.8.3 in c:\\users\\melan\\anaconda3\\lib\\site-packages (from nltk) (2021.8.3)\n",
      "Requirement already satisfied: tqdm in c:\\users\\melan\\anaconda3\\lib\\site-packages (from nltk) (4.62.3)\n",
      "Requirement already satisfied: colorama in c:\\users\\melan\\anaconda3\\lib\\site-packages (from click->nltk) (0.4.4)\n",
      "\n",
      "Requirement already satisfied: vaderSentiment in c:\\users\\melan\\anaconda3\\lib\\site-packages (3.3.2)\n",
      "Requirement already satisfied: requests in c:\\users\\melan\\anaconda3\\lib\\site-packages (from vaderSentiment) (2.26.0)\n",
      "Requirement already satisfied: certifi>=2017.4.17 in c:\\users\\melan\\anaconda3\\lib\\site-packages (from requests->vaderSentiment) (2021.10.8)\n",
      "Requirement already satisfied: charset-normalizer~=2.0.0 in c:\\users\\melan\\anaconda3\\lib\\site-packages (from requests->vaderSentiment) (2.0.4)\n",
      "Requirement already satisfied: urllib3<1.27,>=1.21.1 in c:\\users\\melan\\anaconda3\\lib\\site-packages (from requests->vaderSentiment) (1.26.7)\n",
      "Requirement already satisfied: idna<4,>=2.5 in c:\\users\\melan\\anaconda3\\lib\\site-packages (from requests->vaderSentiment) (3.2)\n",
      "Note: you may need to restart the kernel to use updated packages.\n",
      "Collecting tslearn\n",
      "  Downloading tslearn-0.5.2-cp39-cp39-win_amd64.whl (460 kB)\n",
      "Requirement already satisfied: scikit-learn in c:\\users\\melan\\anaconda3\\lib\\site-packages (from tslearn) (0.24.2)\n",
      "Requirement already satisfied: numpy in c:\\users\\melan\\anaconda3\\lib\\site-packages (from tslearn) (1.20.3)\n",
      "Requirement already satisfied: Cython in c:\\users\\melan\\anaconda3\\lib\\site-packages (from tslearn) (0.29.24)\n",
      "Requirement already satisfied: joblib in c:\\users\\melan\\anaconda3\\lib\\site-packages (from tslearn) (1.1.0)\n",
      "Requirement already satisfied: numba in c:\\users\\melan\\anaconda3\\lib\\site-packages (from tslearn) (0.54.1)\n",
      "Requirement already satisfied: scipy in c:\\users\\melan\\anaconda3\\lib\\site-packages (from tslearn) (1.7.1)\n",
      "Requirement already satisfied: setuptools in c:\\users\\melan\\anaconda3\\lib\\site-packages (from numba->tslearn) (58.0.4)\n",
      "Requirement already satisfied: llvmlite<0.38,>=0.37.0rc1 in c:\\users\\melan\\anaconda3\\lib\\site-packages (from numba->tslearn) (0.37.0)\n",
      "Requirement already satisfied: threadpoolctl>=2.0.0 in c:\\users\\melan\\anaconda3\\lib\\site-packages (from scikit-learn->tslearn) (2.2.0)\n",
      "Installing collected packages: tslearn\n",
      "Successfully installed tslearn-0.5.2\n",
      "Note: you may need to restart the kernel to use updated packages.\n"
     ]
    }
   ],
   "source": [
    "# Install the necessary libraries\n",
    "%pip install nltk\n",
    "%pip install vaderSentiment\n",
    "%pip install tslearn"
   ]
  },
  {
   "cell_type": "code",
   "execution_count": 2,
   "metadata": {
    "tags": []
   },
   "outputs": [],
   "source": [
    "#Imports that are needed for the project\n",
    "from itertools import zip_longest\n",
    "from vaderSentiment.vaderSentiment import SentimentIntensityAnalyzer\n",
    "from tslearn.clustering import KernelKMeans, TimeSeriesKMeans\n",
    "from tslearn.utils import to_time_series_dataset\n",
    "from tslearn.barycenters import softdtw_barycenter\n",
    "from scipy.signal import savgol_filter\n",
    "import pandas as pd\n",
    "from nltk import tokenize\n",
    "import matplotlib.pyplot as plt\n",
    "from typing import Dict\n",
    "import json\n",
    "import numpy as np\n",
    "import seaborn as sns\n",
    "\n",
    "import warnings\n",
    "warnings.filterwarnings('ignore', category=DeprecationWarning)\n",
    "warnings.filterwarnings(\"ignore\")"
   ]
  },
  {
   "cell_type": "code",
   "execution_count": 3,
   "metadata": {
    "tags": []
   },
   "outputs": [
    {
     "data": {
      "text/html": [
       "<div>\n",
       "<style scoped>\n",
       "    .dataframe tbody tr th:only-of-type {\n",
       "        vertical-align: middle;\n",
       "    }\n",
       "\n",
       "    .dataframe tbody tr th {\n",
       "        vertical-align: top;\n",
       "    }\n",
       "\n",
       "    .dataframe thead th {\n",
       "        text-align: right;\n",
       "    }\n",
       "</style>\n",
       "<table border=\"1\" class=\"dataframe\">\n",
       "  <thead>\n",
       "    <tr style=\"text-align: right;\">\n",
       "      <th></th>\n",
       "      <th>id</th>\n",
       "      <th>plot</th>\n",
       "    </tr>\n",
       "  </thead>\n",
       "  <tbody>\n",
       "    <tr>\n",
       "      <th>0</th>\n",
       "      <td>23890098</td>\n",
       "      <td>Shlykov, a hard-working taxi driver and Lyosha...</td>\n",
       "    </tr>\n",
       "    <tr>\n",
       "      <th>1</th>\n",
       "      <td>31186339</td>\n",
       "      <td>The nation of Panem consists of a wealthy Capi...</td>\n",
       "    </tr>\n",
       "    <tr>\n",
       "      <th>2</th>\n",
       "      <td>20663735</td>\n",
       "      <td>Poovalli Induchoodan  is sentenced for six yea...</td>\n",
       "    </tr>\n",
       "    <tr>\n",
       "      <th>3</th>\n",
       "      <td>2231378</td>\n",
       "      <td>The Lemon Drop Kid , a New York City swindler,...</td>\n",
       "    </tr>\n",
       "    <tr>\n",
       "      <th>4</th>\n",
       "      <td>595909</td>\n",
       "      <td>Seventh-day Adventist Church pastor Michael Ch...</td>\n",
       "    </tr>\n",
       "  </tbody>\n",
       "</table>\n",
       "</div>"
      ],
      "text/plain": [
       "         id                                               plot\n",
       "0  23890098  Shlykov, a hard-working taxi driver and Lyosha...\n",
       "1  31186339  The nation of Panem consists of a wealthy Capi...\n",
       "2  20663735  Poovalli Induchoodan  is sentenced for six yea...\n",
       "3   2231378  The Lemon Drop Kid , a New York City swindler,...\n",
       "4    595909  Seventh-day Adventist Church pastor Michael Ch..."
      ]
     },
     "execution_count": 3,
     "metadata": {},
     "output_type": "execute_result"
    }
   ],
   "source": [
    "# Read the Movie Summary Dataset\n",
    "df_plots = pd.read_csv('MovieSummaries/plot_summaries.txt', sep = '\\t', header=None, names = ['id', 'plot'])\n",
    "\n",
    "# Display the first 5 elements of the dataframe\n",
    "df_plots.head(5)"
   ]
  },
  {
   "cell_type": "code",
   "execution_count": 4,
   "metadata": {},
   "outputs": [
    {
     "data": {
      "text/html": [
       "<div>\n",
       "<style scoped>\n",
       "    .dataframe tbody tr th:only-of-type {\n",
       "        vertical-align: middle;\n",
       "    }\n",
       "\n",
       "    .dataframe tbody tr th {\n",
       "        vertical-align: top;\n",
       "    }\n",
       "\n",
       "    .dataframe thead th {\n",
       "        text-align: right;\n",
       "    }\n",
       "</style>\n",
       "<table border=\"1\" class=\"dataframe\">\n",
       "  <thead>\n",
       "    <tr style=\"text-align: right;\">\n",
       "      <th></th>\n",
       "      <th>id</th>\n",
       "      <th>plot</th>\n",
       "      <th>plot_sentances</th>\n",
       "    </tr>\n",
       "  </thead>\n",
       "  <tbody>\n",
       "    <tr>\n",
       "      <th>0</th>\n",
       "      <td>23890098</td>\n",
       "      <td>Shlykov, a hard-working taxi driver and Lyosha...</td>\n",
       "      <td>[Shlykov, a hard-working taxi driver and Lyosh...</td>\n",
       "    </tr>\n",
       "    <tr>\n",
       "      <th>1</th>\n",
       "      <td>31186339</td>\n",
       "      <td>The nation of Panem consists of a wealthy Capi...</td>\n",
       "      <td>[The nation of Panem consists of a wealthy Cap...</td>\n",
       "    </tr>\n",
       "  </tbody>\n",
       "</table>\n",
       "</div>"
      ],
      "text/plain": [
       "         id                                               plot  \\\n",
       "0  23890098  Shlykov, a hard-working taxi driver and Lyosha...   \n",
       "1  31186339  The nation of Panem consists of a wealthy Capi...   \n",
       "\n",
       "                                      plot_sentances  \n",
       "0  [Shlykov, a hard-working taxi driver and Lyosh...  \n",
       "1  [The nation of Panem consists of a wealthy Cap...  "
      ]
     },
     "execution_count": 4,
     "metadata": {},
     "output_type": "execute_result"
    }
   ],
   "source": [
    "#Tranform plots into arrays of sentences using the ntlk library\n",
    "df_plots['plot_sentances']= df_plots['plot'].apply(lambda t: tokenize.sent_tokenize(t))\n",
    "df_plots.head(2)"
   ]
  },
  {
   "cell_type": "code",
   "execution_count": 5,
   "metadata": {},
   "outputs": [],
   "source": [
    "# instantiate the sentiment analyzer\n",
    "analyzer = SentimentIntensityAnalyzer()\n",
    "\n",
    "# classify the sentiment into one of 3 classes (positive, negative, neutral)\n",
    "def classify(compound: float):\n",
    "    if compound >= 0.05:\n",
    "        #positive\n",
    "        return 1\n",
    "    elif compound <= -0.05:\n",
    "        #negative\n",
    "        return -1\n",
    "    #neutral\n",
    "    return 0\n",
    "\n",
    "# given a list of sentances, return the result of the analyzer\n",
    "def analyse_text(paragraph, classify_discrete = True): \n",
    "    res = []\n",
    "    for sentence in paragraph:\n",
    "        sentiment_result = analyzer.polarity_scores(sentence)\n",
    "        if classify_discrete:\n",
    "            res.append(classify(sentiment_result['compound']))\n",
    "        else:\n",
    "            res.append(sentiment_result['compound'])\n",
    "    \n",
    "    window = int(len(res)/6)\n",
    "    window = window + 1 if window%2 == 0 else window \n",
    "    \n",
    "    # we utilize a savgol filter, which will smooth the time series (without filtering the resultant time series might be noisy.)\n",
    "    return savgol_filter(res, window_length=window, polyorder=3) if (not classify_discrete and window>3) else res"
   ]
  },
  {
   "cell_type": "code",
   "execution_count": 6,
   "metadata": {},
   "outputs": [],
   "source": [
    "# Compute the plot sentitiment discrete classes and continuous scores (the two different columns described previously)\n",
    "df_plots[\"plot_classification\"] = df_plots[\"plot_sentances\"].apply(lambda t: analyse_text(t))\n",
    "df_plots[\"plot_scores\"] = df_plots[\"plot_sentances\"].apply(lambda t: analyse_text(t, classify_discrete=False))\n",
    "df_plots[\"number_of_sentances\"] = df_plots[\"plot_sentances\"].apply(lambda t: len(t))\n"
   ]
  },
  {
   "cell_type": "code",
   "execution_count": 7,
   "metadata": {},
   "outputs": [
    {
     "data": {
      "text/html": [
       "<div>\n",
       "<style scoped>\n",
       "    .dataframe tbody tr th:only-of-type {\n",
       "        vertical-align: middle;\n",
       "    }\n",
       "\n",
       "    .dataframe tbody tr th {\n",
       "        vertical-align: top;\n",
       "    }\n",
       "\n",
       "    .dataframe thead th {\n",
       "        text-align: right;\n",
       "    }\n",
       "</style>\n",
       "<table border=\"1\" class=\"dataframe\">\n",
       "  <thead>\n",
       "    <tr style=\"text-align: right;\">\n",
       "      <th></th>\n",
       "      <th>id</th>\n",
       "      <th>plot</th>\n",
       "      <th>plot_sentances</th>\n",
       "      <th>plot_classification</th>\n",
       "      <th>plot_scores</th>\n",
       "      <th>number_of_sentances</th>\n",
       "    </tr>\n",
       "  </thead>\n",
       "  <tbody>\n",
       "    <tr>\n",
       "      <th>0</th>\n",
       "      <td>23890098</td>\n",
       "      <td>Shlykov, a hard-working taxi driver and Lyosha...</td>\n",
       "      <td>[Shlykov, a hard-working taxi driver and Lyosh...</td>\n",
       "      <td>[0]</td>\n",
       "      <td>[0.0083]</td>\n",
       "      <td>1</td>\n",
       "    </tr>\n",
       "    <tr>\n",
       "      <th>1</th>\n",
       "      <td>31186339</td>\n",
       "      <td>The nation of Panem consists of a wealthy Capi...</td>\n",
       "      <td>[The nation of Panem consists of a wealthy Cap...</td>\n",
       "      <td>[0, -1, 1, 0, 0, -1, -1, 1, 1, 1, 0, -1, -1, 0...</td>\n",
       "      <td>[-0.22422929292929272, 0.01196919191919163, 0....</td>\n",
       "      <td>52</td>\n",
       "    </tr>\n",
       "    <tr>\n",
       "      <th>2</th>\n",
       "      <td>20663735</td>\n",
       "      <td>Poovalli Induchoodan  is sentenced for six yea...</td>\n",
       "      <td>[Poovalli Induchoodan  is sentenced for six ye...</td>\n",
       "      <td>[-1, 1, -1, -1, -1, -1, -1, 1, 1, 1, 0, -1, -1...</td>\n",
       "      <td>[-0.8036999999999926, 0.34680000000000144, 0.0...</td>\n",
       "      <td>26</td>\n",
       "    </tr>\n",
       "    <tr>\n",
       "      <th>3</th>\n",
       "      <td>2231378</td>\n",
       "      <td>The Lemon Drop Kid , a New York City swindler,...</td>\n",
       "      <td>[The Lemon Drop Kid , a New York City swindler...</td>\n",
       "      <td>[-1, 1, 1, -1, -1, 0, 0, 1, -1, -1, 1, 0, -1, ...</td>\n",
       "      <td>[-0.08758181818181772, -0.2674106060606062, -0...</td>\n",
       "      <td>49</td>\n",
       "    </tr>\n",
       "    <tr>\n",
       "      <th>4</th>\n",
       "      <td>595909</td>\n",
       "      <td>Seventh-day Adventist Church pastor Michael Ch...</td>\n",
       "      <td>[Seventh-day Adventist Church pastor Michael C...</td>\n",
       "      <td>[1, 1, 1, -1, 1, 0, -1, 1, -1, -1, -1, 1, -1, ...</td>\n",
       "      <td>[0.4019, 0.0772, 0.2732, -0.6367, 0.4215, 0.0,...</td>\n",
       "      <td>15</td>\n",
       "    </tr>\n",
       "  </tbody>\n",
       "</table>\n",
       "</div>"
      ],
      "text/plain": [
       "         id                                               plot  \\\n",
       "0  23890098  Shlykov, a hard-working taxi driver and Lyosha...   \n",
       "1  31186339  The nation of Panem consists of a wealthy Capi...   \n",
       "2  20663735  Poovalli Induchoodan  is sentenced for six yea...   \n",
       "3   2231378  The Lemon Drop Kid , a New York City swindler,...   \n",
       "4    595909  Seventh-day Adventist Church pastor Michael Ch...   \n",
       "\n",
       "                                      plot_sentances  \\\n",
       "0  [Shlykov, a hard-working taxi driver and Lyosh...   \n",
       "1  [The nation of Panem consists of a wealthy Cap...   \n",
       "2  [Poovalli Induchoodan  is sentenced for six ye...   \n",
       "3  [The Lemon Drop Kid , a New York City swindler...   \n",
       "4  [Seventh-day Adventist Church pastor Michael C...   \n",
       "\n",
       "                                 plot_classification  \\\n",
       "0                                                [0]   \n",
       "1  [0, -1, 1, 0, 0, -1, -1, 1, 1, 1, 0, -1, -1, 0...   \n",
       "2  [-1, 1, -1, -1, -1, -1, -1, 1, 1, 1, 0, -1, -1...   \n",
       "3  [-1, 1, 1, -1, -1, 0, 0, 1, -1, -1, 1, 0, -1, ...   \n",
       "4  [1, 1, 1, -1, 1, 0, -1, 1, -1, -1, -1, 1, -1, ...   \n",
       "\n",
       "                                         plot_scores  number_of_sentances  \n",
       "0                                           [0.0083]                    1  \n",
       "1  [-0.22422929292929272, 0.01196919191919163, 0....                   52  \n",
       "2  [-0.8036999999999926, 0.34680000000000144, 0.0...                   26  \n",
       "3  [-0.08758181818181772, -0.2674106060606062, -0...                   49  \n",
       "4  [0.4019, 0.0772, 0.2732, -0.6367, 0.4215, 0.0,...                   15  "
      ]
     },
     "execution_count": 7,
     "metadata": {},
     "output_type": "execute_result"
    }
   ],
   "source": [
    "# display the first 5 elements to view the newly added columns \n",
    "df_plots.head(5)"
   ]
  },
  {
   "cell_type": "markdown",
   "metadata": {},
   "source": [
    "#### Part 1.2: Movie Metadata dataset (pre-processing + merging)"
   ]
  },
  {
   "cell_type": "code",
   "execution_count": 8,
   "metadata": {},
   "outputs": [
    {
     "data": {
      "text/html": [
       "<div>\n",
       "<style scoped>\n",
       "    .dataframe tbody tr th:only-of-type {\n",
       "        vertical-align: middle;\n",
       "    }\n",
       "\n",
       "    .dataframe tbody tr th {\n",
       "        vertical-align: top;\n",
       "    }\n",
       "\n",
       "    .dataframe thead th {\n",
       "        text-align: right;\n",
       "    }\n",
       "</style>\n",
       "<table border=\"1\" class=\"dataframe\">\n",
       "  <thead>\n",
       "    <tr style=\"text-align: right;\">\n",
       "      <th></th>\n",
       "      <th>id</th>\n",
       "      <th>FreebaseId</th>\n",
       "      <th>Title</th>\n",
       "      <th>release date</th>\n",
       "      <th>boxOffice</th>\n",
       "      <th>Runtime</th>\n",
       "      <th>language</th>\n",
       "      <th>country</th>\n",
       "      <th>genres</th>\n",
       "    </tr>\n",
       "  </thead>\n",
       "  <tbody>\n",
       "    <tr>\n",
       "      <th>0</th>\n",
       "      <td>975900</td>\n",
       "      <td>/m/03vyhn</td>\n",
       "      <td>Ghosts of Mars</td>\n",
       "      <td>2001-08-24</td>\n",
       "      <td>14010832.0</td>\n",
       "      <td>98.0</td>\n",
       "      <td>{\"/m/02h40lc\": \"English Language\"}</td>\n",
       "      <td>{\"/m/09c7w0\": \"United States of America\"}</td>\n",
       "      <td>{\"/m/01jfsb\": \"Thriller\", \"/m/06n90\": \"Science...</td>\n",
       "    </tr>\n",
       "    <tr>\n",
       "      <th>1</th>\n",
       "      <td>3196793</td>\n",
       "      <td>/m/08yl5d</td>\n",
       "      <td>Getting Away with Murder: The JonBenét Ramsey ...</td>\n",
       "      <td>2000-02-16</td>\n",
       "      <td>NaN</td>\n",
       "      <td>95.0</td>\n",
       "      <td>{\"/m/02h40lc\": \"English Language\"}</td>\n",
       "      <td>{\"/m/09c7w0\": \"United States of America\"}</td>\n",
       "      <td>{\"/m/02n4kr\": \"Mystery\", \"/m/03bxz7\": \"Biograp...</td>\n",
       "    </tr>\n",
       "    <tr>\n",
       "      <th>2</th>\n",
       "      <td>28463795</td>\n",
       "      <td>/m/0crgdbh</td>\n",
       "      <td>Brun bitter</td>\n",
       "      <td>1988</td>\n",
       "      <td>NaN</td>\n",
       "      <td>83.0</td>\n",
       "      <td>{\"/m/05f_3\": \"Norwegian Language\"}</td>\n",
       "      <td>{\"/m/05b4w\": \"Norway\"}</td>\n",
       "      <td>{\"/m/0lsxr\": \"Crime Fiction\", \"/m/07s9rl0\": \"D...</td>\n",
       "    </tr>\n",
       "    <tr>\n",
       "      <th>3</th>\n",
       "      <td>9363483</td>\n",
       "      <td>/m/0285_cd</td>\n",
       "      <td>White Of The Eye</td>\n",
       "      <td>1987</td>\n",
       "      <td>NaN</td>\n",
       "      <td>110.0</td>\n",
       "      <td>{\"/m/02h40lc\": \"English Language\"}</td>\n",
       "      <td>{\"/m/07ssc\": \"United Kingdom\"}</td>\n",
       "      <td>{\"/m/01jfsb\": \"Thriller\", \"/m/0glj9q\": \"Erotic...</td>\n",
       "    </tr>\n",
       "    <tr>\n",
       "      <th>4</th>\n",
       "      <td>261236</td>\n",
       "      <td>/m/01mrr1</td>\n",
       "      <td>A Woman in Flames</td>\n",
       "      <td>1983</td>\n",
       "      <td>NaN</td>\n",
       "      <td>106.0</td>\n",
       "      <td>{\"/m/04306rv\": \"German Language\"}</td>\n",
       "      <td>{\"/m/0345h\": \"Germany\"}</td>\n",
       "      <td>{\"/m/07s9rl0\": \"Drama\"}</td>\n",
       "    </tr>\n",
       "  </tbody>\n",
       "</table>\n",
       "</div>"
      ],
      "text/plain": [
       "         id  FreebaseId                                              Title  \\\n",
       "0    975900   /m/03vyhn                                     Ghosts of Mars   \n",
       "1   3196793   /m/08yl5d  Getting Away with Murder: The JonBenét Ramsey ...   \n",
       "2  28463795  /m/0crgdbh                                        Brun bitter   \n",
       "3   9363483  /m/0285_cd                                   White Of The Eye   \n",
       "4    261236   /m/01mrr1                                  A Woman in Flames   \n",
       "\n",
       "  release date   boxOffice  Runtime                            language  \\\n",
       "0   2001-08-24  14010832.0     98.0  {\"/m/02h40lc\": \"English Language\"}   \n",
       "1   2000-02-16         NaN     95.0  {\"/m/02h40lc\": \"English Language\"}   \n",
       "2         1988         NaN     83.0  {\"/m/05f_3\": \"Norwegian Language\"}   \n",
       "3         1987         NaN    110.0  {\"/m/02h40lc\": \"English Language\"}   \n",
       "4         1983         NaN    106.0   {\"/m/04306rv\": \"German Language\"}   \n",
       "\n",
       "                                     country  \\\n",
       "0  {\"/m/09c7w0\": \"United States of America\"}   \n",
       "1  {\"/m/09c7w0\": \"United States of America\"}   \n",
       "2                     {\"/m/05b4w\": \"Norway\"}   \n",
       "3             {\"/m/07ssc\": \"United Kingdom\"}   \n",
       "4                    {\"/m/0345h\": \"Germany\"}   \n",
       "\n",
       "                                              genres  \n",
       "0  {\"/m/01jfsb\": \"Thriller\", \"/m/06n90\": \"Science...  \n",
       "1  {\"/m/02n4kr\": \"Mystery\", \"/m/03bxz7\": \"Biograp...  \n",
       "2  {\"/m/0lsxr\": \"Crime Fiction\", \"/m/07s9rl0\": \"D...  \n",
       "3  {\"/m/01jfsb\": \"Thriller\", \"/m/0glj9q\": \"Erotic...  \n",
       "4                            {\"/m/07s9rl0\": \"Drama\"}  "
      ]
     },
     "execution_count": 8,
     "metadata": {},
     "output_type": "execute_result"
    }
   ],
   "source": [
    "# read the movie meta-data dataset\n",
    "df_metadatas = pd.read_csv('MovieSummaries/movie.metadata.tsv',sep='\\t', names=[\"id\", \"FreebaseId\", \"Title\", \"release date\", \"boxOffice\", \"Runtime\", \"language\", \"country\", \"genres\"])\n",
    "df_metadatas.head(5)"
   ]
  },
  {
   "cell_type": "code",
   "execution_count": 9,
   "metadata": {},
   "outputs": [
    {
     "data": {
      "text/html": [
       "<div>\n",
       "<style scoped>\n",
       "    .dataframe tbody tr th:only-of-type {\n",
       "        vertical-align: middle;\n",
       "    }\n",
       "\n",
       "    .dataframe tbody tr th {\n",
       "        vertical-align: top;\n",
       "    }\n",
       "\n",
       "    .dataframe thead th {\n",
       "        text-align: right;\n",
       "    }\n",
       "</style>\n",
       "<table border=\"1\" class=\"dataframe\">\n",
       "  <thead>\n",
       "    <tr style=\"text-align: right;\">\n",
       "      <th></th>\n",
       "      <th>id</th>\n",
       "      <th>plot</th>\n",
       "      <th>release date</th>\n",
       "      <th>Title</th>\n",
       "      <th>boxOffice</th>\n",
       "      <th>plot_classification</th>\n",
       "      <th>plot_scores</th>\n",
       "      <th>country</th>\n",
       "      <th>genres</th>\n",
       "      <th>number_of_sentances</th>\n",
       "    </tr>\n",
       "  </thead>\n",
       "  <tbody>\n",
       "    <tr>\n",
       "      <th>0</th>\n",
       "      <td>975900</td>\n",
       "      <td>Set in the second half of the 22nd century, th...</td>\n",
       "      <td>2001-08-24</td>\n",
       "      <td>Ghosts of Mars</td>\n",
       "      <td>14010832.0</td>\n",
       "      <td>[1, 1, -1, -1, 1, 0, -1, -1, -1, 0, 1, -1, -1,...</td>\n",
       "      <td>[0.2235, 0.144, -0.5423, -0.296, 0.25, 0.0, -0...</td>\n",
       "      <td>{\"/m/09c7w0\": \"United States of America\"}</td>\n",
       "      <td>{\"/m/01jfsb\": \"Thriller\", \"/m/06n90\": \"Science...</td>\n",
       "      <td>15</td>\n",
       "    </tr>\n",
       "    <tr>\n",
       "      <th>1</th>\n",
       "      <td>9363483</td>\n",
       "      <td>A series of murders of rich young women throug...</td>\n",
       "      <td>1987</td>\n",
       "      <td>White Of The Eye</td>\n",
       "      <td>NaN</td>\n",
       "      <td>[-1, 1, 1, -1, -1, -1, 0, 0, -1, -1, 1, 0, 1, ...</td>\n",
       "      <td>[-0.6641833333333406, 0.3856095238095242, 0.41...</td>\n",
       "      <td>{\"/m/07ssc\": \"United Kingdom\"}</td>\n",
       "      <td>{\"/m/01jfsb\": \"Thriller\", \"/m/0glj9q\": \"Erotic...</td>\n",
       "      <td>36</td>\n",
       "    </tr>\n",
       "    <tr>\n",
       "      <th>2</th>\n",
       "      <td>261236</td>\n",
       "      <td>Eva, an upper class housewife, becomes frustra...</td>\n",
       "      <td>1983</td>\n",
       "      <td>A Woman in Flames</td>\n",
       "      <td>NaN</td>\n",
       "      <td>[-1, 0, 0, 1, 0, 0, 0, 1, -1, 1, 1, -1, -1, -1...</td>\n",
       "      <td>[-0.7030200000000022, -0.2479199999999998, 0.3...</td>\n",
       "      <td>{\"/m/0345h\": \"Germany\"}</td>\n",
       "      <td>{\"/m/07s9rl0\": \"Drama\"}</td>\n",
       "      <td>24</td>\n",
       "    </tr>\n",
       "    <tr>\n",
       "      <th>3</th>\n",
       "      <td>18998739</td>\n",
       "      <td>Every hundred years, the evil Morgana  returns...</td>\n",
       "      <td>2002</td>\n",
       "      <td>The Sorcerer's Apprentice</td>\n",
       "      <td>NaN</td>\n",
       "      <td>[-1, -1, 0, 1, 1, -1, -1]</td>\n",
       "      <td>[-0.836, -0.5106, 0.0, 0.6486, 0.3182, -0.3612...</td>\n",
       "      <td>{\"/m/0hzlz\": \"South Africa\"}</td>\n",
       "      <td>{\"/m/0hqxf\": \"Family Film\", \"/m/01hmnh\": \"Fant...</td>\n",
       "      <td>7</td>\n",
       "    </tr>\n",
       "    <tr>\n",
       "      <th>4</th>\n",
       "      <td>6631279</td>\n",
       "      <td>Adam, a San Francisco-based artist who works a...</td>\n",
       "      <td>1997-04-04</td>\n",
       "      <td>Little city</td>\n",
       "      <td>NaN</td>\n",
       "      <td>[0, -1, 1, 0, -1, -1, 0, 0, -1]</td>\n",
       "      <td>[-0.0258, -0.3612, 0.6705, 0.0, -0.4404, -0.12...</td>\n",
       "      <td>{\"/m/09c7w0\": \"United States of America\"}</td>\n",
       "      <td>{\"/m/06cvj\": \"Romantic comedy\", \"/m/0hj3n0w\": ...</td>\n",
       "      <td>9</td>\n",
       "    </tr>\n",
       "  </tbody>\n",
       "</table>\n",
       "</div>"
      ],
      "text/plain": [
       "         id                                               plot release date  \\\n",
       "0    975900  Set in the second half of the 22nd century, th...   2001-08-24   \n",
       "1   9363483  A series of murders of rich young women throug...         1987   \n",
       "2    261236  Eva, an upper class housewife, becomes frustra...         1983   \n",
       "3  18998739  Every hundred years, the evil Morgana  returns...         2002   \n",
       "4   6631279  Adam, a San Francisco-based artist who works a...   1997-04-04   \n",
       "\n",
       "                       Title   boxOffice  \\\n",
       "0             Ghosts of Mars  14010832.0   \n",
       "1           White Of The Eye         NaN   \n",
       "2          A Woman in Flames         NaN   \n",
       "3  The Sorcerer's Apprentice         NaN   \n",
       "4                Little city         NaN   \n",
       "\n",
       "                                 plot_classification  \\\n",
       "0  [1, 1, -1, -1, 1, 0, -1, -1, -1, 0, 1, -1, -1,...   \n",
       "1  [-1, 1, 1, -1, -1, -1, 0, 0, -1, -1, 1, 0, 1, ...   \n",
       "2  [-1, 0, 0, 1, 0, 0, 0, 1, -1, 1, 1, -1, -1, -1...   \n",
       "3                          [-1, -1, 0, 1, 1, -1, -1]   \n",
       "4                    [0, -1, 1, 0, -1, -1, 0, 0, -1]   \n",
       "\n",
       "                                         plot_scores  \\\n",
       "0  [0.2235, 0.144, -0.5423, -0.296, 0.25, 0.0, -0...   \n",
       "1  [-0.6641833333333406, 0.3856095238095242, 0.41...   \n",
       "2  [-0.7030200000000022, -0.2479199999999998, 0.3...   \n",
       "3  [-0.836, -0.5106, 0.0, 0.6486, 0.3182, -0.3612...   \n",
       "4  [-0.0258, -0.3612, 0.6705, 0.0, -0.4404, -0.12...   \n",
       "\n",
       "                                     country  \\\n",
       "0  {\"/m/09c7w0\": \"United States of America\"}   \n",
       "1             {\"/m/07ssc\": \"United Kingdom\"}   \n",
       "2                    {\"/m/0345h\": \"Germany\"}   \n",
       "3               {\"/m/0hzlz\": \"South Africa\"}   \n",
       "4  {\"/m/09c7w0\": \"United States of America\"}   \n",
       "\n",
       "                                              genres  number_of_sentances  \n",
       "0  {\"/m/01jfsb\": \"Thriller\", \"/m/06n90\": \"Science...                   15  \n",
       "1  {\"/m/01jfsb\": \"Thriller\", \"/m/0glj9q\": \"Erotic...                   36  \n",
       "2                            {\"/m/07s9rl0\": \"Drama\"}                   24  \n",
       "3  {\"/m/0hqxf\": \"Family Film\", \"/m/01hmnh\": \"Fant...                    7  \n",
       "4  {\"/m/06cvj\": \"Romantic comedy\", \"/m/0hj3n0w\": ...                    9  "
      ]
     },
     "execution_count": 9,
     "metadata": {},
     "output_type": "execute_result"
    }
   ],
   "source": [
    "# Merge the two dataframes based on the Movie Wikipedia ID\n",
    "processed_df = df_metadatas.merge(df_plots, left_on=\"id\", right_on='id')[['id', 'plot', 'release date', 'Title', 'boxOffice', 'plot_classification', 'plot_scores', \"country\", \"genres\", \"number_of_sentances\"]]\n",
    "processed_df.head(5)"
   ]
  },
  {
   "cell_type": "code",
   "execution_count": 10,
   "metadata": {},
   "outputs": [
    {
     "name": "stdout",
     "output_type": "stream",
     "text": [
      "The initial size of the dataset : 42204\n",
      "The size of the dataset after removing movies that have no revenue values: 7587\n",
      "The size of the dataset after removing movies that have plot sentances less than 5: 28045\n"
     ]
    }
   ],
   "source": [
    "# count the number of movies that we already have in the dataset after the merge \n",
    "initial_size_of_the_dataset = len(processed_df)\n",
    "print(f\"The initial size of the dataset : {initial_size_of_the_dataset}\")\n",
    "\n",
    "# drop the rows that have no box office revenues (we are interrested in the profitability of story arcs)\n",
    "dropped_processed_df = processed_df.dropna(subset=[\"boxOffice\"])\n",
    "size_of_the_dataset = len(dropped_processed_df)\n",
    "print(f\"The size of the dataset after removing movies that have no revenue values: {size_of_the_dataset}\")\n",
    "\n",
    "#filter the movies that have plot sentances lower than 5\n",
    "processed_df = processed_df[processed_df[\"number_of_sentances\"]>5]\n",
    "size_of_the_dataset = len(processed_df)\n",
    "print(f\"The size of the dataset after removing movies that have plot sentances less than 5: {size_of_the_dataset}\")"
   ]
  },
  {
   "cell_type": "code",
   "execution_count": 11,
   "metadata": {},
   "outputs": [
    {
     "data": {
      "image/png": "[encoded data removed]",
      "text/plain": [
       "<Figure size 432x288 with 1 Axes>"
      ]
     },
     "metadata": {
      "needs_background": "light"
     },
     "output_type": "display_data"
    }
   ],
   "source": [
    "# let us plot the distribution of the box office revenue of different movies\n",
    "plt.hist(processed_df['boxOffice'],bins=100,log=True,histtype='step')\n",
    "plt.title('Histogram of Revenue')\n",
    "plt.ylabel('# of movies (in log scale)')\n",
    "plt.xlabel('Revenue')\n",
    "plt.show()"
   ]
  },
  {
   "cell_type": "markdown",
   "metadata": {},
   "source": [
    "Now since the movie arcs are highly dependant on the genre, we will divide our dataset into 4 different data frames where each data frame contain only the genre that we are interrested in. Yet movies, tend not to belong to only one genre but to multiple genres. Accordingly, we splitted the dataset in a mutually exclusive mannar. Specifically, when we are constructing a dataframe of a genre of interest, we made sure that the choosen movies does not share any other genre of interest besides the constructed one."
   ]
  },
  {
   "cell_type": "code",
   "execution_count": 12,
   "metadata": {
    "tags": []
   },
   "outputs": [],
   "source": [
    "genres_of_interest =  [\"adventure\", \"drama\", \"comedy\", \"action\", \"thriller\", \"science fiction\", \"costume adventure\", \"romance comedy\"]\n",
    "\n",
    "# In this part, we create different dataframes for the most common genres (1. Adventure, 2. Action, 3. Drama, 4. Comedy)\n",
    "def is_needed_genre(genre_movie: Dict[str, str],genres_to_match: str):\n",
    "        # get list of genres present in the movie\n",
    "        list_of_genres_in_movie = list(genre_movie.values())\n",
    "\n",
    "        # get list of genres to discard to avoid duplicates\n",
    "        genres_to_discard = [genre for genre in genres_of_interest if genre not in genres_to_match]\n",
    "        \n",
    "        # flags to be used\n",
    "        contains_needed_genre = False\n",
    "        contains_not_needed_genres = False\n",
    "        \n",
    "        # iterate over all genres present in the movies\n",
    "        for genre in list_of_genres_in_movie:\n",
    "            # check if there is a match\n",
    "            if (genre.lower() in genres_to_match):\n",
    "                contains_needed_genre = True\n",
    "            \n",
    "            if (genre.lower() in genres_to_discard):\n",
    "                contains_not_needed_genres = True\n",
    "        \n",
    "        # return True only if meets the following criteria\n",
    "        return (contains_needed_genre) and (not contains_not_needed_genres)\n",
    "\n",
    "# create column for every genre needed (Here we choose the Top 4 genres present)\n",
    "processed_df[\"action\"] = processed_df['genres'].apply(lambda genres: is_needed_genre(json.loads(genres), [\"action\", \"thriller\"]))\n",
    "processed_df[\"adventure\"] = processed_df['genres'].apply(lambda genres: is_needed_genre(json.loads(genres), [\"adventure\", \"science fiction\", \"costume adventure\"]))\n",
    "processed_df[\"drama\"] = processed_df['genres'].apply(lambda genres: is_needed_genre(json.loads(genres), [\"drama\"]))\n",
    "processed_df[\"comedy\"] = processed_df['genres'].apply(lambda genres: is_needed_genre(json.loads(genres), [\"comedy\", \"romance comedy\"]))"
   ]
  },
  {
   "cell_type": "code",
   "execution_count": 13,
   "metadata": {},
   "outputs": [],
   "source": [
    "# create the action dataframe\n",
    "action_df = processed_df[processed_df[\"action\"]].copy().drop([\"action\", \"comedy\", \"drama\", \"adventure\"], axis=1)\n",
    "\n",
    "# create the adventure dataframe\n",
    "adventure_df = processed_df[processed_df[\"adventure\"]].copy().drop([\"action\", \"comedy\", \"drama\", \"adventure\"], axis=1)\n",
    "\n",
    "# create the drama dataframe\n",
    "drama_df = processed_df[processed_df[\"drama\"]].copy().drop([\"action\", \"comedy\", \"drama\", \"adventure\"], axis=1)\n",
    "\n",
    "# create the comedy dataframe\n",
    "comedy_df = processed_df[processed_df[\"comedy\"]].copy().drop([\"action\", \"comedy\", \"drama\", \"adventure\"], axis=1)"
   ]
  },
  {
   "cell_type": "code",
   "execution_count": 14,
   "metadata": {},
   "outputs": [
    {
     "name": "stdout",
     "output_type": "stream",
     "text": [
      "The size of the action dataset is 2375\n",
      "The size of the adventure dataset is 1019\n",
      "The size of the drama dataset is 7414\n",
      "The size of the comedy dataset is 3792\n"
     ]
    }
   ],
   "source": [
    "# Let us visualize the size of the constructed dataset\n",
    "print(f\"The size of the action dataset is {len(action_df)}\")\n",
    "print(f\"The size of the adventure dataset is {len(adventure_df)}\")\n",
    "print(f\"The size of the drama dataset is {len(drama_df)}\")\n",
    "print(f\"The size of the comedy dataset is {len(comedy_df)}\")"
   ]
  },
  {
   "cell_type": "markdown",
   "metadata": {},
   "source": [
    "Now that we have the different dataframes, we can visualize a randomly choosen story arc of a movie for each genre."
   ]
  },
  {
   "cell_type": "code",
   "execution_count": 15,
   "metadata": {},
   "outputs": [
    {
     "data": {
      "text/plain": [
       "Text(0.04, 0.5, 'Sentiment Value')"
      ]
     },
     "execution_count": 15,
     "metadata": {},
     "output_type": "execute_result"
    },
    {
     "data": {
      "image/png": "[encoded data removed]",
      "text/plain": [
       "<Figure size 504x504 with 4 Axes>"
      ]
     },
     "metadata": {
      "needs_background": "light"
     },
     "output_type": "display_data"
    }
   ],
   "source": [
    "# now let us visualize different movie arcs for each genre (a sample from each)\n",
    "fig, axis = plt.subplots(4, figsize=(7,7))\n",
    "# plot the random adventure movie arc\n",
    "axis[0].plot(list(action_df.iloc[11][\"plot_scores\"]), color=\"orange\")\n",
    "axis[0].set_title(\"Action Movie Arc\")\n",
    "\n",
    "axis[1].plot(list(adventure_df.iloc[10][\"plot_scores\"]))\n",
    "axis[1].set_title(\"Adventure Movie Arc\")\n",
    "\n",
    "axis[2].plot(list(drama_df.iloc[5][\"plot_scores\"]), color=\"purple\")\n",
    "axis[2].set_title(\"Drama Movie Arc\")\n",
    "\n",
    "axis[3].plot(list(comedy_df.iloc[14][\"plot_scores\"]), color=\"green\")\n",
    "axis[3].set_title(\"Comedy Movie Arc\")\n",
    "\n",
    "fig.subplots_adjust(hspace=0.5)\n",
    "fig.text(0.5, 0.04, \"Sentance Number (Temporal)\", ha=\"center\")\n",
    "fig.text(0.04, 0.5, \"Sentiment Value\", va=\"center\", rotation=\"vertical\")"
   ]
  },
  {
   "cell_type": "markdown",
   "metadata": {},
   "source": [
    "Visualizing one movie is often noisy and not representative, accordingly, we will find the average sentiment score for all the movies in each genre. With that, we compute per index average to account for the fact that different movies have different lengths. "
   ]
  },
  {
   "cell_type": "code",
   "execution_count": 16,
   "metadata": {},
   "outputs": [
    {
     "data": {
      "text/plain": [
       "Text(0.04, 0.5, 'Sentiment Value')"
      ]
     },
     "execution_count": 16,
     "metadata": {},
     "output_type": "execute_result"
    },
    {
     "data": {
      "image/png": "[encoded data removed]",
      "text/plain": [
       "<Figure size 504x720 with 5 Axes>"
      ]
     },
     "metadata": {
      "needs_background": "light"
     },
     "output_type": "display_data"
    }
   ],
   "source": [
    "# Visualize the most common movie arc in each genre (by taking average of all the datapoints)\n",
    "def get_most_common_movie_arc(series_frame):\n",
    "    dictionary = series_frame.to_dict()\n",
    "    list_values = [emotional_arc for emotional_arc in dictionary.values()]\n",
    "    columns = zip_longest(*list_values, fillvalue=0)\n",
    "    return [sum(col)/len(list_values) for col in columns]     \n",
    "\n",
    "fig, axis = plt.subplots(5, figsize=(7,10))\n",
    "# plot the random adventure movie arc\n",
    "axis[0].plot(savgol_filter(get_most_common_movie_arc(action_df[\"plot_scores\"]), 21,3), color=\"orange\")\n",
    "axis[0].set_title(\"Action Movie Arc\")\n",
    "\n",
    "axis[1].plot(savgol_filter(get_most_common_movie_arc(adventure_df[\"plot_scores\"]), 21 ,3))\n",
    "axis[1].set_title(\"Adventure Movie Arc\")\n",
    "\n",
    "axis[2].plot(savgol_filter(get_most_common_movie_arc(drama_df[\"plot_scores\"]), 21 ,3), color=\"purple\")\n",
    "axis[2].set_title(\"Drama Movie Arc\")\n",
    "\n",
    "axis[3].plot(savgol_filter(get_most_common_movie_arc(comedy_df[\"plot_scores\"]), 21 ,3), color=\"green\")\n",
    "axis[3].set_title(\"Comedy Movie Arc\")\n",
    "\n",
    "axis[4].plot(savgol_filter(get_most_common_movie_arc(processed_df[\"plot_scores\"]), 21 ,3), color=\"gray\")\n",
    "axis[4].set_title(\"Common Movie Arc (all genres)\")\n",
    "\n",
    "fig.subplots_adjust(hspace=0.5)\n",
    "fig.text(0.5, 0.04, \"Sentance Number (Temporal)\", ha=\"center\")\n",
    "fig.text(0.04, 0.5, \"Sentiment Value\", va=\"center\", rotation=\"vertical\")"
   ]
  },
  {
   "cell_type": "code",
   "execution_count": 17,
   "metadata": {},
   "outputs": [],
   "source": [
    "def form_features(series_frame):\n",
    "    dictionary = series_frame.to_dict()\n",
    "    list_values = [list(emotional_arc) for emotional_arc in dictionary.values() if len(list(emotional_arc))>2]\n",
    "    return to_time_series_dataset(list_values)\n",
    "\n",
    "def get_most_common_movie_arc_using_softdtw(series_frame):\n",
    "    centers =  softdtw_barycenter(form_features(series_frame), max_iter=5)  \n",
    "    return centers"
   ]
  },
  {
   "cell_type": "code",
   "execution_count": 18,
   "metadata": {},
   "outputs": [
    {
     "ename": "KeyboardInterrupt",
     "evalue": "",
     "output_type": "error",
     "traceback": [
      "\u001b[1;31m---------------------------------------------------------------------------\u001b[0m",
      "\u001b[1;31mKeyboardInterrupt\u001b[0m                         Traceback (most recent call last)",
      "\u001b[1;32m~\\AppData\\Local\\Temp/ipykernel_13976/3807806116.py\u001b[0m in \u001b[0;36m<module>\u001b[1;34m\u001b[0m\n\u001b[0;32m     16\u001b[0m \u001b[0maxis\u001b[0m\u001b[1;33m[\u001b[0m\u001b[1;36m3\u001b[0m\u001b[1;33m]\u001b[0m\u001b[1;33m.\u001b[0m\u001b[0mset_title\u001b[0m\u001b[1;33m(\u001b[0m\u001b[1;34m\"Comedy Movie Arc\"\u001b[0m\u001b[1;33m)\u001b[0m\u001b[1;33m\u001b[0m\u001b[1;33m\u001b[0m\u001b[0m\n\u001b[0;32m     17\u001b[0m \u001b[1;33m\u001b[0m\u001b[0m\n\u001b[1;32m---> 18\u001b[1;33m \u001b[0maxis\u001b[0m\u001b[1;33m[\u001b[0m\u001b[1;36m4\u001b[0m\u001b[1;33m]\u001b[0m\u001b[1;33m.\u001b[0m\u001b[0mplot\u001b[0m\u001b[1;33m(\u001b[0m\u001b[0mget_most_common_movie_arc_using_softdtw\u001b[0m\u001b[1;33m(\u001b[0m\u001b[0mprocessed_df\u001b[0m\u001b[1;33m[\u001b[0m\u001b[1;34m\"plot_scores\"\u001b[0m\u001b[1;33m]\u001b[0m\u001b[1;33m)\u001b[0m\u001b[1;33m,\u001b[0m \u001b[0mcolor\u001b[0m\u001b[1;33m=\u001b[0m\u001b[1;34m\"gray\"\u001b[0m\u001b[1;33m)\u001b[0m\u001b[1;33m\u001b[0m\u001b[1;33m\u001b[0m\u001b[0m\n\u001b[0m\u001b[0;32m     19\u001b[0m \u001b[0maxis\u001b[0m\u001b[1;33m[\u001b[0m\u001b[1;36m4\u001b[0m\u001b[1;33m]\u001b[0m\u001b[1;33m.\u001b[0m\u001b[0mset_title\u001b[0m\u001b[1;33m(\u001b[0m\u001b[1;34m\"Common Movie Arc (all genres)\"\u001b[0m\u001b[1;33m)\u001b[0m\u001b[1;33m\u001b[0m\u001b[1;33m\u001b[0m\u001b[0m\n\u001b[0;32m     20\u001b[0m \u001b[1;33m\u001b[0m\u001b[0m\n",
      "\u001b[1;32m~\\AppData\\Local\\Temp/ipykernel_13976/2525961339.py\u001b[0m in \u001b[0;36mget_most_common_movie_arc_using_softdtw\u001b[1;34m(series_frame)\u001b[0m\n\u001b[0;32m      5\u001b[0m \u001b[1;33m\u001b[0m\u001b[0m\n\u001b[0;32m      6\u001b[0m \u001b[1;32mdef\u001b[0m \u001b[0mget_most_common_movie_arc_using_softdtw\u001b[0m\u001b[1;33m(\u001b[0m\u001b[0mseries_frame\u001b[0m\u001b[1;33m)\u001b[0m\u001b[1;33m:\u001b[0m\u001b[1;33m\u001b[0m\u001b[1;33m\u001b[0m\u001b[0m\n\u001b[1;32m----> 7\u001b[1;33m     \u001b[0mcenters\u001b[0m \u001b[1;33m=\u001b[0m  \u001b[0msoftdtw_barycenter\u001b[0m\u001b[1;33m(\u001b[0m\u001b[0mform_features\u001b[0m\u001b[1;33m(\u001b[0m\u001b[0mseries_frame\u001b[0m\u001b[1;33m)\u001b[0m\u001b[1;33m,\u001b[0m \u001b[0mmax_iter\u001b[0m\u001b[1;33m=\u001b[0m\u001b[1;36m5\u001b[0m\u001b[1;33m)\u001b[0m\u001b[1;33m\u001b[0m\u001b[1;33m\u001b[0m\u001b[0m\n\u001b[0m\u001b[0;32m      8\u001b[0m     \u001b[1;32mreturn\u001b[0m \u001b[0mcenters\u001b[0m\u001b[1;33m\u001b[0m\u001b[1;33m\u001b[0m\u001b[0m\n",
      "\u001b[1;32m~\\anaconda3\\lib\\site-packages\\tslearn\\barycenters\\softdtw.py\u001b[0m in \u001b[0;36msoftdtw_barycenter\u001b[1;34m(X, gamma, weights, method, tol, max_iter, init)\u001b[0m\n\u001b[0;32m     95\u001b[0m             \u001b[0mbarycenter\u001b[0m \u001b[1;33m=\u001b[0m \u001b[0meuclidean_barycenter\u001b[0m\u001b[1;33m(\u001b[0m\u001b[0mX_\u001b[0m\u001b[1;33m,\u001b[0m \u001b[0mweights\u001b[0m\u001b[1;33m)\u001b[0m\u001b[1;33m\u001b[0m\u001b[1;33m\u001b[0m\u001b[0m\n\u001b[0;32m     96\u001b[0m         \u001b[1;32melse\u001b[0m\u001b[1;33m:\u001b[0m\u001b[1;33m\u001b[0m\u001b[1;33m\u001b[0m\u001b[0m\n\u001b[1;32m---> 97\u001b[1;33m             \u001b[0mresampled_X\u001b[0m \u001b[1;33m=\u001b[0m \u001b[0mTimeSeriesResampler\u001b[0m\u001b[1;33m(\u001b[0m\u001b[0msz\u001b[0m\u001b[1;33m=\u001b[0m\u001b[0mX_\u001b[0m\u001b[1;33m.\u001b[0m\u001b[0mshape\u001b[0m\u001b[1;33m[\u001b[0m\u001b[1;36m1\u001b[0m\u001b[1;33m]\u001b[0m\u001b[1;33m)\u001b[0m\u001b[1;33m.\u001b[0m\u001b[0mfit_transform\u001b[0m\u001b[1;33m(\u001b[0m\u001b[0mX_\u001b[0m\u001b[1;33m)\u001b[0m\u001b[1;33m\u001b[0m\u001b[1;33m\u001b[0m\u001b[0m\n\u001b[0m\u001b[0;32m     98\u001b[0m             \u001b[0mbarycenter\u001b[0m \u001b[1;33m=\u001b[0m \u001b[0meuclidean_barycenter\u001b[0m\u001b[1;33m(\u001b[0m\u001b[0mresampled_X\u001b[0m\u001b[1;33m,\u001b[0m \u001b[0mweights\u001b[0m\u001b[1;33m)\u001b[0m\u001b[1;33m\u001b[0m\u001b[1;33m\u001b[0m\u001b[0m\n\u001b[0;32m     99\u001b[0m     \u001b[1;32melse\u001b[0m\u001b[1;33m:\u001b[0m\u001b[1;33m\u001b[0m\u001b[1;33m\u001b[0m\u001b[0m\n",
      "\u001b[1;32m~\\anaconda3\\lib\\site-packages\\tslearn\\preprocessing\\preprocessing.py\u001b[0m in \u001b[0;36mfit_transform\u001b[1;34m(self, X, y, **kwargs)\u001b[0m\n\u001b[0;32m     69\u001b[0m             \u001b[0mResampled\u001b[0m \u001b[0mtime\u001b[0m \u001b[0mseries\u001b[0m \u001b[0mdataset\u001b[0m\u001b[1;33m.\u001b[0m\u001b[1;33m\u001b[0m\u001b[1;33m\u001b[0m\u001b[0m\n\u001b[0;32m     70\u001b[0m         \"\"\"\n\u001b[1;32m---> 71\u001b[1;33m         \u001b[1;32mreturn\u001b[0m \u001b[0mself\u001b[0m\u001b[1;33m.\u001b[0m\u001b[0mfit\u001b[0m\u001b[1;33m(\u001b[0m\u001b[0mX\u001b[0m\u001b[1;33m)\u001b[0m\u001b[1;33m.\u001b[0m\u001b[0mtransform\u001b[0m\u001b[1;33m(\u001b[0m\u001b[0mX\u001b[0m\u001b[1;33m)\u001b[0m\u001b[1;33m\u001b[0m\u001b[1;33m\u001b[0m\u001b[0m\n\u001b[0m\u001b[0;32m     72\u001b[0m \u001b[1;33m\u001b[0m\u001b[0m\n\u001b[0;32m     73\u001b[0m     \u001b[1;32mdef\u001b[0m \u001b[0mtransform\u001b[0m\u001b[1;33m(\u001b[0m\u001b[0mself\u001b[0m\u001b[1;33m,\u001b[0m \u001b[0mX\u001b[0m\u001b[1;33m,\u001b[0m \u001b[0my\u001b[0m\u001b[1;33m=\u001b[0m\u001b[1;32mNone\u001b[0m\u001b[1;33m,\u001b[0m \u001b[1;33m**\u001b[0m\u001b[0mkwargs\u001b[0m\u001b[1;33m)\u001b[0m\u001b[1;33m:\u001b[0m\u001b[1;33m\u001b[0m\u001b[1;33m\u001b[0m\u001b[0m\n",
      "\u001b[1;32m~\\anaconda3\\lib\\site-packages\\tslearn\\preprocessing\\preprocessing.py\u001b[0m in \u001b[0;36mtransform\u001b[1;34m(self, X, y, **kwargs)\u001b[0m\n\u001b[0;32m     84\u001b[0m             \u001b[0mResampled\u001b[0m \u001b[0mtime\u001b[0m \u001b[0mseries\u001b[0m \u001b[0mdataset\u001b[0m\u001b[1;33m.\u001b[0m\u001b[1;33m\u001b[0m\u001b[1;33m\u001b[0m\u001b[0m\n\u001b[0;32m     85\u001b[0m         \"\"\"\n\u001b[1;32m---> 86\u001b[1;33m         \u001b[0mX_\u001b[0m \u001b[1;33m=\u001b[0m \u001b[0mto_time_series_dataset\u001b[0m\u001b[1;33m(\u001b[0m\u001b[0mX\u001b[0m\u001b[1;33m)\u001b[0m\u001b[1;33m\u001b[0m\u001b[1;33m\u001b[0m\u001b[0m\n\u001b[0m\u001b[0;32m     87\u001b[0m         \u001b[1;32mif\u001b[0m \u001b[0mself\u001b[0m\u001b[1;33m.\u001b[0m\u001b[0msz_\u001b[0m \u001b[1;33m==\u001b[0m \u001b[1;36m1\u001b[0m\u001b[1;33m:\u001b[0m\u001b[1;33m\u001b[0m\u001b[1;33m\u001b[0m\u001b[0m\n\u001b[0;32m     88\u001b[0m             \u001b[1;32mreturn\u001b[0m \u001b[0mself\u001b[0m\u001b[1;33m.\u001b[0m\u001b[0m_transform_unit_sz\u001b[0m\u001b[1;33m(\u001b[0m\u001b[0mX_\u001b[0m\u001b[1;33m)\u001b[0m\u001b[1;33m\u001b[0m\u001b[1;33m\u001b[0m\u001b[0m\n",
      "\u001b[1;32m~\\anaconda3\\lib\\site-packages\\tslearn\\utils\\utils.py\u001b[0m in \u001b[0;36mto_time_series_dataset\u001b[1;34m(dataset, dtype)\u001b[0m\n\u001b[0;32m    213\u001b[0m     \u001b[1;32mfor\u001b[0m \u001b[0mi\u001b[0m \u001b[1;32min\u001b[0m \u001b[0mrange\u001b[0m\u001b[1;33m(\u001b[0m\u001b[0mn_ts\u001b[0m\u001b[1;33m)\u001b[0m\u001b[1;33m:\u001b[0m\u001b[1;33m\u001b[0m\u001b[1;33m\u001b[0m\u001b[0m\n\u001b[0;32m    214\u001b[0m         \u001b[0mts\u001b[0m \u001b[1;33m=\u001b[0m \u001b[0mto_time_series\u001b[0m\u001b[1;33m(\u001b[0m\u001b[0mdataset\u001b[0m\u001b[1;33m[\u001b[0m\u001b[0mi\u001b[0m\u001b[1;33m]\u001b[0m\u001b[1;33m,\u001b[0m \u001b[0mremove_nans\u001b[0m\u001b[1;33m=\u001b[0m\u001b[1;32mTrue\u001b[0m\u001b[1;33m)\u001b[0m\u001b[1;33m\u001b[0m\u001b[1;33m\u001b[0m\u001b[0m\n\u001b[1;32m--> 215\u001b[1;33m         \u001b[0mdataset_out\u001b[0m\u001b[1;33m[\u001b[0m\u001b[0mi\u001b[0m\u001b[1;33m,\u001b[0m \u001b[1;33m:\u001b[0m\u001b[0mts\u001b[0m\u001b[1;33m.\u001b[0m\u001b[0mshape\u001b[0m\u001b[1;33m[\u001b[0m\u001b[1;36m0\u001b[0m\u001b[1;33m]\u001b[0m\u001b[1;33m]\u001b[0m \u001b[1;33m=\u001b[0m \u001b[0mts\u001b[0m\u001b[1;33m\u001b[0m\u001b[1;33m\u001b[0m\u001b[0m\n\u001b[0m\u001b[0;32m    216\u001b[0m     \u001b[1;32mreturn\u001b[0m \u001b[0mdataset_out\u001b[0m\u001b[1;33m.\u001b[0m\u001b[0mastype\u001b[0m\u001b[1;33m(\u001b[0m\u001b[0mdtype\u001b[0m\u001b[1;33m)\u001b[0m\u001b[1;33m\u001b[0m\u001b[1;33m\u001b[0m\u001b[0m\n\u001b[0;32m    217\u001b[0m \u001b[1;33m\u001b[0m\u001b[0m\n",
      "\u001b[1;31mKeyboardInterrupt\u001b[0m: "
     ]
    },
    {
     "data": {
      "image/png": "[encoded data removed]",
      "text/plain": [
       "<Figure size 504x720 with 5 Axes>"
      ]
     },
     "metadata": {
      "needs_background": "light"
     },
     "output_type": "display_data"
    }
   ],
   "source": [
    "# Averaging using tslearn library\n",
    "# Visualize the most common movie arc in each genre (by taking average of all the datapoints)\n",
    "\n",
    "fig, axis = plt.subplots(5, figsize=(7,10))\n",
    "\n",
    "axis[0].plot(get_most_common_movie_arc_using_softdtw(action_df[\"plot_scores\"]), color=\"orange\")\n",
    "axis[0].set_title(\"Action Movie Arc\")\n",
    "\n",
    "axis[1].plot(get_most_common_movie_arc_using_softdtw(adventure_df[\"plot_scores\"]))\n",
    "axis[1].set_title(\"Adventure Movie Arc\")\n",
    "\n",
    "axis[2].plot(get_most_common_movie_arc_using_softdtw(drama_df[\"plot_scores\"]), color=\"purple\")\n",
    "axis[2].set_title(\"Drama Movie Arc\")\n",
    "\n",
    "axis[3].plot(get_most_common_movie_arc_using_softdtw(comedy_df[\"plot_scores\"]), color=\"green\")\n",
    "axis[3].set_title(\"Comedy Movie Arc\")\n",
    "\n",
    "axis[4].plot(get_most_common_movie_arc_using_softdtw(processed_df[\"plot_scores\"]), color=\"gray\")\n",
    "axis[4].set_title(\"Common Movie Arc (all genres)\")\n",
    "\n",
    "fig.subplots_adjust(hspace=0.5)\n",
    "fig.text(0.5, 0.04, \"Sentance Number (Temporal)\", ha=\"center\")\n",
    "fig.text(0.04, 0.5, \"Sentiment Value\", va=\"center\", rotation=\"vertical\")"
   ]
  },
  {
   "cell_type": "markdown",
   "metadata": {},
   "source": [
    "Now that, we have a rough idea about the most representative story arc of each genre, we will cluster the different time series (sentiment scores per plot) into 3 different clusters based on the plot_classification feature of each movie. We believe that utilizing the plot_classification feature (i.e. the discrete class features) is more representative compared to the plot_score feature (i.e. the actual sentiment score ranging from -1 to 1 feature)."
   ]
  },
  {
   "cell_type": "code",
   "execution_count": null,
   "metadata": {},
   "outputs": [],
   "source": [
    "# cluster the action genre time series\n",
    "gak_km = TimeSeriesKMeans(n_clusters=3)\n",
    "labels_gak = gak_km.fit_predict(form_features(action_df[\"plot_classification\"]))\n",
    "action_df[\"cluster_id\"] = labels_gak\n",
    "\n",
    "# cluster the adventure genre time series\n",
    "gak_km = TimeSeriesKMeans(n_clusters=3)\n",
    "labels_gak = gak_km.fit_predict(form_features(adventure_df[\"plot_classification\"]))\n",
    "adventure_df[\"cluster_id\"] = labels_gak\n",
    "\n",
    "# cluster the drama genre time series\n",
    "gak_km = TimeSeriesKMeans(n_clusters=3)\n",
    "labels_gak = gak_km.fit_predict(form_features(drama_df[\"plot_classification\"]))\n",
    "drama_df[\"cluster_id\"] = labels_gak\n",
    "\n",
    "# cluster the drama genre time series\n",
    "gak_km = TimeSeriesKMeans(n_clusters=3)\n",
    "labels_gak = gak_km.fit_predict(form_features(comedy_df[\"plot_classification\"]))\n",
    "comedy_df[\"cluster_id\"] = labels_gak"
   ]
  },
  {
   "cell_type": "markdown",
   "metadata": {},
   "source": [
    "Finally, after performing the clustering, we will view the different time series generated per genre and notice the most common story arcs."
   ]
  },
  {
   "cell_type": "code",
   "execution_count": null,
   "metadata": {},
   "outputs": [],
   "source": [
    "fig = plt.figure(figsize = (10,15))\n",
    "\n",
    "# form data loader of the different clusters \n",
    "dataset_by_genre = {\"Action\": action_df, \"Adventure\": adventure_df, \"Drama\":drama_df, \"Comedy\":comedy_df}\n",
    "\n",
    "subfigs = fig.subfigures(nrows=4, ncols=1)\n",
    "for index, jointed_genres in enumerate(zip(dataset_by_genre.keys(), subfigs)):\n",
    "    jointed_genres[1].suptitle(f\"{jointed_genres[0]} Movies\")\n",
    "    groued_dataset = dataset_by_genre[jointed_genres[0]].groupby(\"cluster_id\")\n",
    "    colors = plt.rcParams[\"axes.prop_cycle\"]()\n",
    "\n",
    "    # create 1x3 subplots per subfig\n",
    "    axs = jointed_genres[1].subplots(nrows=1, ncols=3, sharex=True, sharey=True)\n",
    "    for key in groued_dataset.groups.keys():\n",
    "\n",
    "        # get color\n",
    "        c = next(colors)[\"color\"]\n",
    "        common_featurs= get_most_common_movie_arc_using_softdtw(groued_dataset.get_group(key)[\"plot_scores\"])\n",
    "\n",
    "        # filter value\n",
    "        axs[key].plot(common_featurs, color=c)\n",
    "        axs[key].set_title(f\"cluster {key + 1}\")\n",
    "\n",
    "# common axis label\n",
    "fig.supxlabel('Sentance Number')\n",
    "fig.supylabel('Sentiment Value')"
   ]
  },
  {
   "cell_type": "markdown",
   "metadata": {},
   "source": [
    "To conclude on this part, we were able to construct a data processing pipeline that will allow us to analyze the sentiment of the movies and the various story arcs present in each genre. In Milestone 3, we will perform an in-depth analysis on the choice of clustering algorithms and find the optimal number of clusters that will maximize the inter-class variance and minimize the intra-class variance.  "
   ]
  },
  {
   "cell_type": "markdown",
   "metadata": {},
   "source": [
    "### Part 2: From the provided dataset to our sicentific question"
   ]
  },
  {
   "cell_type": "markdown",
   "metadata": {},
   "source": [
    "We'd want to examine and answer many scientific questions now that we've studied and visualized the CMU Corpus dataset. These are the questions:\n",
    "\n",
    "* What is the effect of the presence of emotions on the success of the movie (Do emotional movies have a higher rating IMDB)? Does the effect differ between genres?\n",
    "\n",
    "* What is the effect of the positive/negative emotions on the success of the movie (Do movies that are predominently positive (more than 70% of the lines are positive) have a higher IMDB rating? or is the opposite effect true? and do the observed effect vary per genre? \n",
    "\n",
    "* What is the most profitable movie arc per genre, is their a clear winner among the various clusters?\n",
    "\n",
    "* What is the most rated movie per genre, is their a clear winner among the various clusters?\n",
    "\n",
    "In order to answer the above posed questions, we need to construct the needed dataframes before running any statstical tests to answer our questions. In this section, we will construct the various needed datasets and we will perform the extensive analysis in Milestone 3."
   ]
  },
  {
   "cell_type": "markdown",
   "metadata": {},
   "source": [
    "#### Sentiment dataframe"
   ]
  },
  {
   "cell_type": "code",
   "execution_count": null,
   "metadata": {},
   "outputs": [],
   "source": [
    "# for each genre, get the negative score, neutral score and positive score\n",
    "for dataset in dataset_by_genre.values():\n",
    "    # get the negative scores\n",
    "    dataset[\"negative_score\"] = dataset[\"plot_classification\"].apply(lambda x: np.sum(np.array(x) == -1))\n",
    "\n",
    "    # get the neutral scores\n",
    "    dataset[\"neutral_score\"] = dataset[\"plot_classification\"].apply(lambda x: np.sum(np.array(x) == 0))\n",
    "\n",
    "    # get the positive scores\n",
    "    dataset[\"positive_score\"] = dataset[\"plot_classification\"].apply(lambda x: np.sum(np.array(x) == 1))\n",
    "\n",
    "# visualize one the dataframe\n",
    "action_df.head()"
   ]
  },
  {
   "cell_type": "code",
   "execution_count": null,
   "metadata": {},
   "outputs": [],
   "source": [
    "# for each genre, classify the plot as neutral, negative and positive\n",
    "for dataset in dataset_by_genre.values():\n",
    "    # classify \n",
    "    dataset.loc[(dataset[\"neutral_score\"]>=0.5*dataset[\"number_of_sentances\"] ),\"movie_sentiment\"] = 'neutral_movie'\n",
    "    dataset.loc[(dataset[\"negative_score\"]>=0.5*dataset[\"number_of_sentances\"] ),\"movie_sentiment\"] = 'negative_movie'\n",
    "    dataset.loc[(dataset[\"positive_score\"]>=0.5*dataset[\"number_of_sentances\"] ),\"movie_sentiment\"] = 'positive_movie'\n",
    "\n",
    "# visualize one the dataframe\n",
    "action_df.head()"
   ]
  },
  {
   "cell_type": "code",
   "execution_count": null,
   "metadata": {},
   "outputs": [],
   "source": [
    "df_frame = action_df[action_df['movie_sentiment']!=\"\"]\n",
    "\n",
    "fig, axis = plt.subplots(4, figsize=(6,10), sharey=True)\n",
    "fig.tight_layout() # Or equivalently,  \"plt.tight_layout()\"\n",
    "\n",
    "\n",
    "for index, dataset in enumerate(dataset_by_genre.keys()):\n",
    "    df_frame = dataset_by_genre[dataset][dataset_by_genre[dataset]['movie_sentiment']!=\"\"]\n",
    "    head = df_frame['movie_sentiment'].value_counts().loc[[\"negative_movie\", \"neutral_movie\", \"positive_movie\"]]\n",
    "    axis[index].bar(head.index, head.values, color=[\"red\", \"orange\", \"green\"])\n",
    "    axis[index].set_title(f\"{dataset} Movies\")\n",
    "    \n",
    "fig.subplots_adjust(hspace=0.5)\n",
    "fig.text(0.5, 0.00, \"Sentance Number (Temporal)\", ha=\"center\")\n",
    "fig.text(0.0, 0.5, \"Sentiment Value\", va=\"center\", rotation=\"vertical\")"
   ]
  },
  {
   "cell_type": "markdown",
   "metadata": {},
   "source": [
    "#### Ratings dataframe"
   ]
  },
  {
   "cell_type": "code",
   "execution_count": null,
   "metadata": {},
   "outputs": [],
   "source": [
    "#load the necessary datasets\n",
    "df_name_basics = pd.read_csv('IMDb/title.basics.tsv.gz', sep = '\\t',compression ='gzip', low_memory=False)"
   ]
  },
  {
   "cell_type": "code",
   "execution_count": null,
   "metadata": {},
   "outputs": [],
   "source": [
    "df_ratings = pd.read_csv('IMDb/title.ratings.tsv.gz', sep = '\\t',compression ='gzip', low_memory=False)"
   ]
  },
  {
   "cell_type": "code",
   "execution_count": null,
   "metadata": {},
   "outputs": [],
   "source": [
    "#only choose the rows which correspond to a data of a movie\n",
    "df_title = df_name_basics[df_name_basics['titleType'] == 'movie']"
   ]
  },
  {
   "cell_type": "code",
   "execution_count": null,
   "metadata": {},
   "outputs": [],
   "source": [
    "#merge the dataset with the titles and the dataset with the ratings\n",
    "df_imdb = df_title.merge(df_ratings, left_on='tconst', right_on='tconst')"
   ]
  },
  {
   "cell_type": "code",
   "execution_count": null,
   "metadata": {},
   "outputs": [],
   "source": [
    "#create datasets of average ratings of a movie considering the ratings of movies with titles in different language\n",
    "\n",
    "df_imdb= df_imdb[['originalTitle', 'averageRating', 'numVotes', 'primaryTitle']] #contains all ratings for every movie\n",
    "df_imdb['multiplication'] = df_imdb['averageRating']*df_imdb['numVotes']\n",
    "grouped = pd.DataFrame()\n",
    "grouped['sum_of_mult'] = df_imdb[['originalTitle', 'multiplication']].groupby('originalTitle').sum()\n",
    "grouped['sum_of_vote'] = df_imdb[['originalTitle', 'numVotes']].groupby('originalTitle').sum()\n",
    "grouped['average_rating'] = grouped['sum_of_mult']/grouped['sum_of_vote']\n",
    "\n",
    "grouped = grouped.reset_index(level=0)\n",
    "grouped.drop(['sum_of_mult'], axis =1).head()\n",
    "\n",
    "#average ratings for every genre\n",
    "for dataset in enumerate(dataset_by_genre.keys()):\n",
    "    merged_df = grouped.merge(dataset_by_genre[dataset], left_on = 'originalTitle', right_on = 'Title')\n",
    "    #how to create each dataset? here it's overwriting\n",
    "    "
   ]
  },
  {
   "cell_type": "markdown",
   "metadata": {},
   "source": [
    "#### Part 2.1: Emotional vs Non-emotional movies (ratings)"
   ]
  },
  {
   "cell_type": "markdown",
   "metadata": {},
   "source": [
    "#### Part 2.2: Positive vs Negative movies (ratings)"
   ]
  },
  {
   "cell_type": "markdown",
   "metadata": {},
   "source": [
    "#### Part 2.3: Most profitable movie arc per genre (box office)"
   ]
  },
  {
   "cell_type": "markdown",
   "metadata": {},
   "source": [
    "#### Part 2.4: Most rated movie arc per genre (ratings)"
   ]
  }
 ],
 "metadata": {
  "kernelspec": {
   "display_name": "Python 3 (ipykernel)",
   "language": "python",
   "name": "python3"
  },
  "language_info": {
   "codemirror_mode": {
    "name": "ipython",
    "version": 3
   },
   "file_extension": ".py",
   "mimetype": "text/x-python",
   "name": "python",
   "nbconvert_exporter": "python",
   "pygments_lexer": "ipython3",
   "version": "3.9.7"
  },
  "vscode": {
   "interpreter": {
    "hash": "e28b144620c4d623d94042c2e69c63fcf6b3693ac8ae89d9d540220aea70627f"
   }
  }
 },
 "nbformat": 4,
 "nbformat_minor": 4
}
