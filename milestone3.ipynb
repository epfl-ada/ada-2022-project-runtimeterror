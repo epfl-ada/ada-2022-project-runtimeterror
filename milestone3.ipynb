{
 "cells": [
  {
   "attachments": {},
   "cell_type": "markdown",
   "metadata": {},
   "source": [
    "# Milestone 3"
   ]
  },
  {
   "attachments": {},
   "cell_type": "markdown",
   "metadata": {},
   "source": [
    "### Abstarct\n",
    "\n",
    "The majority of plots follow one of a few well-known plot arcs in the film industry. Consider a story in which the main character begins in turmoil and ends in happiness, or in which the main character lives blissfully but encounters challenges that must be addressed before returning to his/her delight. In this research, we propose to investigate this phenomena in order to determine the most popular narratives, how lucrative certain storylines are, and how the most prevalent storyline evolves over time. Accordingly, in order to asses this phenomena, we will first construct the various movie arcs from the movie plots. We propose splitting the movie plots into sentences and performing sentiment analysis on every sentence. With that, we can generate for every movie present in the CMU Movie Corpus dataset it's corresponding story arcs. Performing such analysis provides us with rich information on the various emotions present in the movies and how such emotions evolves over the course of the movie."
   ]
  },
  {
   "cell_type": "markdown",
   "metadata": {},
   "source": [
    "### Part 1: Getting familiar with the data and constructing the Story Arcs"
   ]
  },
  {
   "attachments": {},
   "cell_type": "markdown",
   "metadata": {},
   "source": [
    "In this project, we will build a data preprocessing pipeline to analyze the CMU Movie Corpus dataset. Specifically, we will create a plot summary dataframe and a movie meta data dataframe from the dataset.\n",
    "\n",
    "Next, we will split the movie plots into sentences and perform sentiment analysis on each sentence to create two new columns: \"plot scores\" and \"plot classification.\" The \"plot scores\" column will contain a continuous sentiment score ranging from -1 (negative) to 1 (positive), while the \"plot classification\" column will contain a discrete sentiment class of -1 (negative), 0 (neutral), or 1 (positive).\n",
    "\n",
    "We will then join the plot summary and movie meta data dataframes by the Wikipedia movie ID. From there, we will create four separate dataframes for the most common genres: action, horror, comedy, and drama. To ensure that each movie is only assigned one of these genres, we will make sure that each movie appears in at most one of the four dataframes.\n",
    "\n",
    "Finally, we will use these dataframes to perform clustering on the sentiment time series for each genre and identify the most common emotional arcs for each genre. An emotional arc refers to the plot of sentiment values over the course of a movie, which can give us insight into the types of events that occur in the film. This pipeline will take the CMU Movie Corpus dataset as input and output the sentiment scores and emotional arcs for the movies in the dataset."
   ]
  },
  {
   "cell_type": "markdown",
   "metadata": {},
   "source": [
    "#### Part 1.1: Plot Summary dataset (pre-processing + sentiment retrieval)"
   ]
  },
  {
   "attachments": {},
   "cell_type": "markdown",
   "metadata": {},
   "source": [
    "In this section, we will perform the plot pre-processing step (sentence tokenization) and sentiment analysis (vader sentiment analyzer). "
   ]
  },
  {
   "cell_type": "code",
   "execution_count": null,
   "metadata": {
    "tags": []
   },
   "outputs": [],
   "source": [
    "# Install the necessary libraries\n",
    "%pip install nltk\n",
    "%pip install vaderSentiment\n",
    "%pip install tslearn"
   ]
  },
  {
   "cell_type": "code",
   "execution_count": 1,
   "metadata": {
    "tags": []
   },
   "outputs": [],
   "source": [
    "#Imports that are needed for the project\n",
    "from vaderSentiment.vaderSentiment import SentimentIntensityAnalyzer\n",
    "from tslearn.clustering import KernelKMeans, TimeSeriesKMeans, silhouette_score\n",
    "from collections import defaultdict\n",
    "from tslearn.utils import to_time_series_dataset\n",
    "from tslearn.barycenters import softdtw_barycenter\n",
    "from scipy.signal import savgol_filter\n",
    "import pandas as pd\n",
    "from nltk import tokenize\n",
    "import matplotlib.pyplot as plt\n",
    "from typing import Dict\n",
    "import json\n",
    "import numpy as np\n",
    "import seaborn as sns\n",
    "import pickle\n",
    "from scipy import stats\n",
    "import statsmodels.formula.api as smf\n",
    "\n",
    "import warnings\n",
    "warnings.filterwarnings('ignore', category=DeprecationWarning)\n",
    "warnings.filterwarnings(\"ignore\")\n"
   ]
  },
  {
   "attachments": {},
   "cell_type": "markdown",
   "metadata": {},
   "source": [
    "To begin our analysis, we will first need to read in the plot_summaries dataset and store it in a dataframe. The plot_summaries dataset contains descriptions of the plots of various movies, which we will use to construct the story arcs. "
   ]
  },
  {
   "cell_type": "code",
   "execution_count": 2,
   "metadata": {
    "tags": []
   },
   "outputs": [
    {
     "data": {
      "text/html": [
       "<div>\n",
       "<style scoped>\n",
       "    .dataframe tbody tr th:only-of-type {\n",
       "        vertical-align: middle;\n",
       "    }\n",
       "\n",
       "    .dataframe tbody tr th {\n",
       "        vertical-align: top;\n",
       "    }\n",
       "\n",
       "    .dataframe thead th {\n",
       "        text-align: right;\n",
       "    }\n",
       "</style>\n",
       "<table border=\"1\" class=\"dataframe\">\n",
       "  <thead>\n",
       "    <tr style=\"text-align: right;\">\n",
       "      <th></th>\n",
       "      <th>id</th>\n",
       "      <th>plot</th>\n",
       "    </tr>\n",
       "  </thead>\n",
       "  <tbody>\n",
       "    <tr>\n",
       "      <th>0</th>\n",
       "      <td>23890098</td>\n",
       "      <td>Shlykov, a hard-working taxi driver and Lyosha...</td>\n",
       "    </tr>\n",
       "    <tr>\n",
       "      <th>1</th>\n",
       "      <td>31186339</td>\n",
       "      <td>The nation of Panem consists of a wealthy Capi...</td>\n",
       "    </tr>\n",
       "    <tr>\n",
       "      <th>2</th>\n",
       "      <td>20663735</td>\n",
       "      <td>Poovalli Induchoodan  is sentenced for six yea...</td>\n",
       "    </tr>\n",
       "    <tr>\n",
       "      <th>3</th>\n",
       "      <td>2231378</td>\n",
       "      <td>The Lemon Drop Kid , a New York City swindler,...</td>\n",
       "    </tr>\n",
       "    <tr>\n",
       "      <th>4</th>\n",
       "      <td>595909</td>\n",
       "      <td>Seventh-day Adventist Church pastor Michael Ch...</td>\n",
       "    </tr>\n",
       "  </tbody>\n",
       "</table>\n",
       "</div>"
      ],
      "text/plain": [
       "         id                                               plot\n",
       "0  23890098  Shlykov, a hard-working taxi driver and Lyosha...\n",
       "1  31186339  The nation of Panem consists of a wealthy Capi...\n",
       "2  20663735  Poovalli Induchoodan  is sentenced for six yea...\n",
       "3   2231378  The Lemon Drop Kid , a New York City swindler,...\n",
       "4    595909  Seventh-day Adventist Church pastor Michael Ch..."
      ]
     },
     "execution_count": 2,
     "metadata": {},
     "output_type": "execute_result"
    }
   ],
   "source": [
    "# Read the Movie Summary Dataset\n",
    "df_plots = pd.read_csv('MovieSummaries/plot_summaries.txt', sep = '\\t', header=None, names = ['id', 'plot'])\n",
    "\n",
    "# Display the first 5 elements of the dataframe\n",
    "df_plots.head(5)"
   ]
  },
  {
   "attachments": {},
   "cell_type": "markdown",
   "metadata": {},
   "source": [
    "Once we have the movie plots stored in a dataframe, the next step is to preprocess them by performing sentence tokenization. This involves splitting the plot into a list of sentences, which can be done using the natural language processing (NLTK) library."
   ]
  },
  {
   "cell_type": "code",
   "execution_count": 3,
   "metadata": {},
   "outputs": [
    {
     "data": {
      "text/html": [
       "<div>\n",
       "<style scoped>\n",
       "    .dataframe tbody tr th:only-of-type {\n",
       "        vertical-align: middle;\n",
       "    }\n",
       "\n",
       "    .dataframe tbody tr th {\n",
       "        vertical-align: top;\n",
       "    }\n",
       "\n",
       "    .dataframe thead th {\n",
       "        text-align: right;\n",
       "    }\n",
       "</style>\n",
       "<table border=\"1\" class=\"dataframe\">\n",
       "  <thead>\n",
       "    <tr style=\"text-align: right;\">\n",
       "      <th></th>\n",
       "      <th>id</th>\n",
       "      <th>plot</th>\n",
       "      <th>plot_sentances</th>\n",
       "    </tr>\n",
       "  </thead>\n",
       "  <tbody>\n",
       "    <tr>\n",
       "      <th>0</th>\n",
       "      <td>23890098</td>\n",
       "      <td>Shlykov, a hard-working taxi driver and Lyosha...</td>\n",
       "      <td>[Shlykov, a hard-working taxi driver and Lyosh...</td>\n",
       "    </tr>\n",
       "    <tr>\n",
       "      <th>1</th>\n",
       "      <td>31186339</td>\n",
       "      <td>The nation of Panem consists of a wealthy Capi...</td>\n",
       "      <td>[The nation of Panem consists of a wealthy Cap...</td>\n",
       "    </tr>\n",
       "  </tbody>\n",
       "</table>\n",
       "</div>"
      ],
      "text/plain": [
       "         id                                               plot  \\\n",
       "0  23890098  Shlykov, a hard-working taxi driver and Lyosha...   \n",
       "1  31186339  The nation of Panem consists of a wealthy Capi...   \n",
       "\n",
       "                                      plot_sentances  \n",
       "0  [Shlykov, a hard-working taxi driver and Lyosh...  \n",
       "1  [The nation of Panem consists of a wealthy Cap...  "
      ]
     },
     "execution_count": 3,
     "metadata": {},
     "output_type": "execute_result"
    }
   ],
   "source": [
    "#Tranform plots into arrays of sentences using the ntlk library\n",
    "df_plots['plot_sentances']= df_plots['plot'].apply(lambda t: tokenize.sent_tokenize(t))\n",
    "df_plots.head(2)"
   ]
  },
  {
   "attachments": {},
   "cell_type": "markdown",
   "metadata": {},
   "source": [
    "To perform sentiment analysis on the sentences stored in the df_plot dataframe, we can use a sentiment analysis tool like the Vader Sentiment Analyzer. Vader is a popular tool for performing sentiment analysis on short, informal text, such as movie plots. \n",
    "\n",
    "We will loop through the sentences in the df_plot dataframe and use the Vader Sentiment Analyzer to compute the sentiment scores and classes for each sentence. It will then add these scores and classes to the dataframe as two new columns: \"plot_scores\" and \"plot_classification.\" The \"plot_scores\" column will contain the continuous sentiment scores for each sentence, ranging from -1 (negative) to 1 (positive), while the \"plot_classification\" column will contain the discrete sentiment class for each sentence: -1 (negative), 0 (neutral), or 1 (positive)."
   ]
  },
  {
   "cell_type": "code",
   "execution_count": 4,
   "metadata": {},
   "outputs": [],
   "source": [
    "# instantiate the sentiment analyzer\n",
    "analyzer = SentimentIntensityAnalyzer()\n",
    "\n",
    "# classify the sentiment into one of 3 classes (positive, negative, neutral)\n",
    "def classify(compound: float):\n",
    "    if compound >= 0.05:\n",
    "        #positive\n",
    "        return 1\n",
    "    elif compound <= -0.05:\n",
    "        #negative\n",
    "        return -1\n",
    "    #neutral\n",
    "    return 0\n",
    "\n",
    "# given a list of sentances, return the result of the analyzer\n",
    "def analyse_text(paragraph, classify_discrete = True): \n",
    "    res = []\n",
    "    for sentence in paragraph:\n",
    "        sentiment_result = analyzer.polarity_scores(sentence)\n",
    "        if classify_discrete:\n",
    "            res.append(classify(sentiment_result['compound']))\n",
    "        else:\n",
    "            res.append(sentiment_result['compound'])\n",
    "    \n",
    "    window = int(len(res)/6)\n",
    "    window = window + 1 if window%2 == 0 else window \n",
    "    \n",
    "    # we utilize a savgol filter, which will smooth the time series (without filtering the resultant time series might be noisy.)\n",
    "    return savgol_filter(res, window_length=window, polyorder=3) if (not classify_discrete and window>3) else res"
   ]
  },
  {
   "cell_type": "code",
   "execution_count": 5,
   "metadata": {},
   "outputs": [],
   "source": [
    "# Compute the plot sentitiment discrete classes and continuous scores (the two different columns described previously)\n",
    "df_plots[\"plot_classification\"] = df_plots[\"plot_sentances\"].apply(lambda t: analyse_text(t))\n",
    "df_plots[\"plot_scores\"] = df_plots[\"plot_sentances\"].apply(lambda t: analyse_text(t, classify_discrete=False))\n",
    "df_plots[\"number_of_sentances\"] = df_plots[\"plot_sentances\"].apply(lambda t: len(t))"
   ]
  },
  {
   "cell_type": "code",
   "execution_count": 293,
   "metadata": {},
   "outputs": [
    {
     "data": {
      "text/html": [
       "<div>\n",
       "<style scoped>\n",
       "    .dataframe tbody tr th:only-of-type {\n",
       "        vertical-align: middle;\n",
       "    }\n",
       "\n",
       "    .dataframe tbody tr th {\n",
       "        vertical-align: top;\n",
       "    }\n",
       "\n",
       "    .dataframe thead th {\n",
       "        text-align: right;\n",
       "    }\n",
       "</style>\n",
       "<table border=\"1\" class=\"dataframe\">\n",
       "  <thead>\n",
       "    <tr style=\"text-align: right;\">\n",
       "      <th></th>\n",
       "      <th>id</th>\n",
       "      <th>plot</th>\n",
       "      <th>plot_sentances</th>\n",
       "      <th>plot_classification</th>\n",
       "      <th>plot_scores</th>\n",
       "      <th>number_of_sentances</th>\n",
       "    </tr>\n",
       "  </thead>\n",
       "  <tbody>\n",
       "    <tr>\n",
       "      <th>0</th>\n",
       "      <td>23890098</td>\n",
       "      <td>Shlykov, a hard-working taxi driver and Lyosha...</td>\n",
       "      <td>[Shlykov, a hard-working taxi driver and Lyosh...</td>\n",
       "      <td>[0]</td>\n",
       "      <td>[0.0083]</td>\n",
       "      <td>1</td>\n",
       "    </tr>\n",
       "    <tr>\n",
       "      <th>1</th>\n",
       "      <td>31186339</td>\n",
       "      <td>The nation of Panem consists of a wealthy Capi...</td>\n",
       "      <td>[The nation of Panem consists of a wealthy Cap...</td>\n",
       "      <td>[0, -1, 1, 0, 0, -1, -1, 1, 1, 1, 0, -1, -1, 0...</td>\n",
       "      <td>[-0.22422929292929272, 0.01196919191919163, 0....</td>\n",
       "      <td>52</td>\n",
       "    </tr>\n",
       "    <tr>\n",
       "      <th>2</th>\n",
       "      <td>20663735</td>\n",
       "      <td>Poovalli Induchoodan  is sentenced for six yea...</td>\n",
       "      <td>[Poovalli Induchoodan  is sentenced for six ye...</td>\n",
       "      <td>[-1, 1, -1, -1, -1, -1, -1, 1, 1, 1, 0, -1, -1...</td>\n",
       "      <td>[-0.8036999999999926, 0.34680000000000144, 0.0...</td>\n",
       "      <td>26</td>\n",
       "    </tr>\n",
       "    <tr>\n",
       "      <th>3</th>\n",
       "      <td>2231378</td>\n",
       "      <td>The Lemon Drop Kid , a New York City swindler,...</td>\n",
       "      <td>[The Lemon Drop Kid , a New York City swindler...</td>\n",
       "      <td>[-1, 1, 1, -1, -1, 0, 0, 1, -1, -1, 1, 0, -1, ...</td>\n",
       "      <td>[-0.08758181818181772, -0.2674106060606062, -0...</td>\n",
       "      <td>49</td>\n",
       "    </tr>\n",
       "    <tr>\n",
       "      <th>4</th>\n",
       "      <td>595909</td>\n",
       "      <td>Seventh-day Adventist Church pastor Michael Ch...</td>\n",
       "      <td>[Seventh-day Adventist Church pastor Michael C...</td>\n",
       "      <td>[1, 1, 1, -1, 1, 0, -1, 1, -1, -1, -1, 1, -1, ...</td>\n",
       "      <td>[0.4019, 0.0772, 0.2732, -0.6367, 0.4215, 0.0,...</td>\n",
       "      <td>15</td>\n",
       "    </tr>\n",
       "  </tbody>\n",
       "</table>\n",
       "</div>"
      ],
      "text/plain": [
       "         id                                               plot  \\\n",
       "0  23890098  Shlykov, a hard-working taxi driver and Lyosha...   \n",
       "1  31186339  The nation of Panem consists of a wealthy Capi...   \n",
       "2  20663735  Poovalli Induchoodan  is sentenced for six yea...   \n",
       "3   2231378  The Lemon Drop Kid , a New York City swindler,...   \n",
       "4    595909  Seventh-day Adventist Church pastor Michael Ch...   \n",
       "\n",
       "                                      plot_sentances  \\\n",
       "0  [Shlykov, a hard-working taxi driver and Lyosh...   \n",
       "1  [The nation of Panem consists of a wealthy Cap...   \n",
       "2  [Poovalli Induchoodan  is sentenced for six ye...   \n",
       "3  [The Lemon Drop Kid , a New York City swindler...   \n",
       "4  [Seventh-day Adventist Church pastor Michael C...   \n",
       "\n",
       "                                 plot_classification  \\\n",
       "0                                                [0]   \n",
       "1  [0, -1, 1, 0, 0, -1, -1, 1, 1, 1, 0, -1, -1, 0...   \n",
       "2  [-1, 1, -1, -1, -1, -1, -1, 1, 1, 1, 0, -1, -1...   \n",
       "3  [-1, 1, 1, -1, -1, 0, 0, 1, -1, -1, 1, 0, -1, ...   \n",
       "4  [1, 1, 1, -1, 1, 0, -1, 1, -1, -1, -1, 1, -1, ...   \n",
       "\n",
       "                                         plot_scores  number_of_sentances  \n",
       "0                                           [0.0083]                    1  \n",
       "1  [-0.22422929292929272, 0.01196919191919163, 0....                   52  \n",
       "2  [-0.8036999999999926, 0.34680000000000144, 0.0...                   26  \n",
       "3  [-0.08758181818181772, -0.2674106060606062, -0...                   49  \n",
       "4  [0.4019, 0.0772, 0.2732, -0.6367, 0.4215, 0.0,...                   15  "
      ]
     },
     "execution_count": 293,
     "metadata": {},
     "output_type": "execute_result"
    }
   ],
   "source": [
    "# display the first 5 elements to view the newly added columns \n",
    "df_plots.head(5)"
   ]
  },
  {
   "cell_type": "markdown",
   "metadata": {},
   "source": [
    "#### Part 1.2: Movie Metadata dataset (pre-processing + merging)"
   ]
  },
  {
   "attachments": {},
   "cell_type": "markdown",
   "metadata": {},
   "source": [
    "Now that we have computed the sentiment scores (story arcs) of the movies present in the plot_summaries (CMU dataset), we will comibine the existing processed data with the movies metadata to have access to more information such as the release date, box office revenue, genres, languages and runtime. "
   ]
  },
  {
   "cell_type": "code",
   "execution_count": 294,
   "metadata": {},
   "outputs": [
    {
     "data": {
      "text/html": [
       "<div>\n",
       "<style scoped>\n",
       "    .dataframe tbody tr th:only-of-type {\n",
       "        vertical-align: middle;\n",
       "    }\n",
       "\n",
       "    .dataframe tbody tr th {\n",
       "        vertical-align: top;\n",
       "    }\n",
       "\n",
       "    .dataframe thead th {\n",
       "        text-align: right;\n",
       "    }\n",
       "</style>\n",
       "<table border=\"1\" class=\"dataframe\">\n",
       "  <thead>\n",
       "    <tr style=\"text-align: right;\">\n",
       "      <th></th>\n",
       "      <th>id</th>\n",
       "      <th>FreebaseId</th>\n",
       "      <th>Title</th>\n",
       "      <th>release date</th>\n",
       "      <th>boxOffice</th>\n",
       "      <th>Runtime</th>\n",
       "      <th>language</th>\n",
       "      <th>country</th>\n",
       "      <th>genres</th>\n",
       "    </tr>\n",
       "  </thead>\n",
       "  <tbody>\n",
       "    <tr>\n",
       "      <th>0</th>\n",
       "      <td>975900</td>\n",
       "      <td>/m/03vyhn</td>\n",
       "      <td>Ghosts of Mars</td>\n",
       "      <td>2001-08-24</td>\n",
       "      <td>14010832.0</td>\n",
       "      <td>98.0</td>\n",
       "      <td>{\"/m/02h40lc\": \"English Language\"}</td>\n",
       "      <td>{\"/m/09c7w0\": \"United States of America\"}</td>\n",
       "      <td>{\"/m/01jfsb\": \"Thriller\", \"/m/06n90\": \"Science...</td>\n",
       "    </tr>\n",
       "    <tr>\n",
       "      <th>1</th>\n",
       "      <td>3196793</td>\n",
       "      <td>/m/08yl5d</td>\n",
       "      <td>Getting Away with Murder: The JonBenét Ramsey ...</td>\n",
       "      <td>2000-02-16</td>\n",
       "      <td>NaN</td>\n",
       "      <td>95.0</td>\n",
       "      <td>{\"/m/02h40lc\": \"English Language\"}</td>\n",
       "      <td>{\"/m/09c7w0\": \"United States of America\"}</td>\n",
       "      <td>{\"/m/02n4kr\": \"Mystery\", \"/m/03bxz7\": \"Biograp...</td>\n",
       "    </tr>\n",
       "    <tr>\n",
       "      <th>2</th>\n",
       "      <td>28463795</td>\n",
       "      <td>/m/0crgdbh</td>\n",
       "      <td>Brun bitter</td>\n",
       "      <td>1988</td>\n",
       "      <td>NaN</td>\n",
       "      <td>83.0</td>\n",
       "      <td>{\"/m/05f_3\": \"Norwegian Language\"}</td>\n",
       "      <td>{\"/m/05b4w\": \"Norway\"}</td>\n",
       "      <td>{\"/m/0lsxr\": \"Crime Fiction\", \"/m/07s9rl0\": \"D...</td>\n",
       "    </tr>\n",
       "    <tr>\n",
       "      <th>3</th>\n",
       "      <td>9363483</td>\n",
       "      <td>/m/0285_cd</td>\n",
       "      <td>White Of The Eye</td>\n",
       "      <td>1987</td>\n",
       "      <td>NaN</td>\n",
       "      <td>110.0</td>\n",
       "      <td>{\"/m/02h40lc\": \"English Language\"}</td>\n",
       "      <td>{\"/m/07ssc\": \"United Kingdom\"}</td>\n",
       "      <td>{\"/m/01jfsb\": \"Thriller\", \"/m/0glj9q\": \"Erotic...</td>\n",
       "    </tr>\n",
       "    <tr>\n",
       "      <th>4</th>\n",
       "      <td>261236</td>\n",
       "      <td>/m/01mrr1</td>\n",
       "      <td>A Woman in Flames</td>\n",
       "      <td>1983</td>\n",
       "      <td>NaN</td>\n",
       "      <td>106.0</td>\n",
       "      <td>{\"/m/04306rv\": \"German Language\"}</td>\n",
       "      <td>{\"/m/0345h\": \"Germany\"}</td>\n",
       "      <td>{\"/m/07s9rl0\": \"Drama\"}</td>\n",
       "    </tr>\n",
       "  </tbody>\n",
       "</table>\n",
       "</div>"
      ],
      "text/plain": [
       "         id  FreebaseId                                              Title  \\\n",
       "0    975900   /m/03vyhn                                     Ghosts of Mars   \n",
       "1   3196793   /m/08yl5d  Getting Away with Murder: The JonBenét Ramsey ...   \n",
       "2  28463795  /m/0crgdbh                                        Brun bitter   \n",
       "3   9363483  /m/0285_cd                                   White Of The Eye   \n",
       "4    261236   /m/01mrr1                                  A Woman in Flames   \n",
       "\n",
       "  release date   boxOffice  Runtime                            language  \\\n",
       "0   2001-08-24  14010832.0     98.0  {\"/m/02h40lc\": \"English Language\"}   \n",
       "1   2000-02-16         NaN     95.0  {\"/m/02h40lc\": \"English Language\"}   \n",
       "2         1988         NaN     83.0  {\"/m/05f_3\": \"Norwegian Language\"}   \n",
       "3         1987         NaN    110.0  {\"/m/02h40lc\": \"English Language\"}   \n",
       "4         1983         NaN    106.0   {\"/m/04306rv\": \"German Language\"}   \n",
       "\n",
       "                                     country  \\\n",
       "0  {\"/m/09c7w0\": \"United States of America\"}   \n",
       "1  {\"/m/09c7w0\": \"United States of America\"}   \n",
       "2                     {\"/m/05b4w\": \"Norway\"}   \n",
       "3             {\"/m/07ssc\": \"United Kingdom\"}   \n",
       "4                    {\"/m/0345h\": \"Germany\"}   \n",
       "\n",
       "                                              genres  \n",
       "0  {\"/m/01jfsb\": \"Thriller\", \"/m/06n90\": \"Science...  \n",
       "1  {\"/m/02n4kr\": \"Mystery\", \"/m/03bxz7\": \"Biograp...  \n",
       "2  {\"/m/0lsxr\": \"Crime Fiction\", \"/m/07s9rl0\": \"D...  \n",
       "3  {\"/m/01jfsb\": \"Thriller\", \"/m/0glj9q\": \"Erotic...  \n",
       "4                            {\"/m/07s9rl0\": \"Drama\"}  "
      ]
     },
     "execution_count": 294,
     "metadata": {},
     "output_type": "execute_result"
    }
   ],
   "source": [
    "# read the movie meta-data dataset\n",
    "df_metadatas = pd.read_csv('MovieSummaries/movie.metadata.tsv',sep='\\t', names=[\"id\", \"FreebaseId\", \"Title\", \"release date\", \"boxOffice\", \"Runtime\", \"language\", \"country\", \"genres\"])\n",
    "df_metadatas.head(5)"
   ]
  },
  {
   "cell_type": "code",
   "execution_count": 295,
   "metadata": {},
   "outputs": [
    {
     "data": {
      "text/html": [
       "<div>\n",
       "<style scoped>\n",
       "    .dataframe tbody tr th:only-of-type {\n",
       "        vertical-align: middle;\n",
       "    }\n",
       "\n",
       "    .dataframe tbody tr th {\n",
       "        vertical-align: top;\n",
       "    }\n",
       "\n",
       "    .dataframe thead th {\n",
       "        text-align: right;\n",
       "    }\n",
       "</style>\n",
       "<table border=\"1\" class=\"dataframe\">\n",
       "  <thead>\n",
       "    <tr style=\"text-align: right;\">\n",
       "      <th></th>\n",
       "      <th>id</th>\n",
       "      <th>plot</th>\n",
       "      <th>release date</th>\n",
       "      <th>Title</th>\n",
       "      <th>boxOffice</th>\n",
       "      <th>plot_classification</th>\n",
       "      <th>plot_scores</th>\n",
       "      <th>country</th>\n",
       "      <th>genres</th>\n",
       "      <th>number_of_sentances</th>\n",
       "      <th>language</th>\n",
       "      <th>Runtime</th>\n",
       "    </tr>\n",
       "  </thead>\n",
       "  <tbody>\n",
       "    <tr>\n",
       "      <th>0</th>\n",
       "      <td>975900</td>\n",
       "      <td>Set in the second half of the 22nd century, th...</td>\n",
       "      <td>2001-08-24</td>\n",
       "      <td>Ghosts of Mars</td>\n",
       "      <td>14010832.0</td>\n",
       "      <td>[1, 1, -1, -1, 1, 0, -1, -1, -1, 0, 1, -1, -1,...</td>\n",
       "      <td>[0.2235, 0.144, -0.5423, -0.296, 0.25, 0.0, -0...</td>\n",
       "      <td>{\"/m/09c7w0\": \"United States of America\"}</td>\n",
       "      <td>{\"/m/01jfsb\": \"Thriller\", \"/m/06n90\": \"Science...</td>\n",
       "      <td>15</td>\n",
       "      <td>{\"/m/02h40lc\": \"English Language\"}</td>\n",
       "      <td>98.0</td>\n",
       "    </tr>\n",
       "    <tr>\n",
       "      <th>1</th>\n",
       "      <td>9363483</td>\n",
       "      <td>A series of murders of rich young women throug...</td>\n",
       "      <td>1987</td>\n",
       "      <td>White Of The Eye</td>\n",
       "      <td>NaN</td>\n",
       "      <td>[-1, 1, 1, -1, -1, -1, 0, 0, -1, -1, 1, 0, 1, ...</td>\n",
       "      <td>[-0.6641833333333406, 0.3856095238095242, 0.41...</td>\n",
       "      <td>{\"/m/07ssc\": \"United Kingdom\"}</td>\n",
       "      <td>{\"/m/01jfsb\": \"Thriller\", \"/m/0glj9q\": \"Erotic...</td>\n",
       "      <td>36</td>\n",
       "      <td>{\"/m/02h40lc\": \"English Language\"}</td>\n",
       "      <td>110.0</td>\n",
       "    </tr>\n",
       "    <tr>\n",
       "      <th>2</th>\n",
       "      <td>261236</td>\n",
       "      <td>Eva, an upper class housewife, becomes frustra...</td>\n",
       "      <td>1983</td>\n",
       "      <td>A Woman in Flames</td>\n",
       "      <td>NaN</td>\n",
       "      <td>[-1, 0, 0, 1, 0, 0, 0, 1, -1, 1, 1, -1, -1, -1...</td>\n",
       "      <td>[-0.7030200000000022, -0.2479199999999998, 0.3...</td>\n",
       "      <td>{\"/m/0345h\": \"Germany\"}</td>\n",
       "      <td>{\"/m/07s9rl0\": \"Drama\"}</td>\n",
       "      <td>24</td>\n",
       "      <td>{\"/m/04306rv\": \"German Language\"}</td>\n",
       "      <td>106.0</td>\n",
       "    </tr>\n",
       "    <tr>\n",
       "      <th>3</th>\n",
       "      <td>18998739</td>\n",
       "      <td>Every hundred years, the evil Morgana  returns...</td>\n",
       "      <td>2002</td>\n",
       "      <td>The Sorcerer's Apprentice</td>\n",
       "      <td>NaN</td>\n",
       "      <td>[-1, -1, 0, 1, 1, -1, -1]</td>\n",
       "      <td>[-0.836, -0.5106, 0.0, 0.6486, 0.3182, -0.3612...</td>\n",
       "      <td>{\"/m/0hzlz\": \"South Africa\"}</td>\n",
       "      <td>{\"/m/0hqxf\": \"Family Film\", \"/m/01hmnh\": \"Fant...</td>\n",
       "      <td>7</td>\n",
       "      <td>{\"/m/02h40lc\": \"English Language\"}</td>\n",
       "      <td>86.0</td>\n",
       "    </tr>\n",
       "    <tr>\n",
       "      <th>4</th>\n",
       "      <td>6631279</td>\n",
       "      <td>Adam, a San Francisco-based artist who works a...</td>\n",
       "      <td>1997-04-04</td>\n",
       "      <td>Little city</td>\n",
       "      <td>NaN</td>\n",
       "      <td>[0, -1, 1, 0, -1, -1, 0, 0, -1]</td>\n",
       "      <td>[-0.0258, -0.3612, 0.6705, 0.0, -0.4404, -0.12...</td>\n",
       "      <td>{\"/m/09c7w0\": \"United States of America\"}</td>\n",
       "      <td>{\"/m/06cvj\": \"Romantic comedy\", \"/m/0hj3n0w\": ...</td>\n",
       "      <td>9</td>\n",
       "      <td>{\"/m/02h40lc\": \"English Language\"}</td>\n",
       "      <td>93.0</td>\n",
       "    </tr>\n",
       "  </tbody>\n",
       "</table>\n",
       "</div>"
      ],
      "text/plain": [
       "         id                                               plot release date  \\\n",
       "0    975900  Set in the second half of the 22nd century, th...   2001-08-24   \n",
       "1   9363483  A series of murders of rich young women throug...         1987   \n",
       "2    261236  Eva, an upper class housewife, becomes frustra...         1983   \n",
       "3  18998739  Every hundred years, the evil Morgana  returns...         2002   \n",
       "4   6631279  Adam, a San Francisco-based artist who works a...   1997-04-04   \n",
       "\n",
       "                       Title   boxOffice  \\\n",
       "0             Ghosts of Mars  14010832.0   \n",
       "1           White Of The Eye         NaN   \n",
       "2          A Woman in Flames         NaN   \n",
       "3  The Sorcerer's Apprentice         NaN   \n",
       "4                Little city         NaN   \n",
       "\n",
       "                                 plot_classification  \\\n",
       "0  [1, 1, -1, -1, 1, 0, -1, -1, -1, 0, 1, -1, -1,...   \n",
       "1  [-1, 1, 1, -1, -1, -1, 0, 0, -1, -1, 1, 0, 1, ...   \n",
       "2  [-1, 0, 0, 1, 0, 0, 0, 1, -1, 1, 1, -1, -1, -1...   \n",
       "3                          [-1, -1, 0, 1, 1, -1, -1]   \n",
       "4                    [0, -1, 1, 0, -1, -1, 0, 0, -1]   \n",
       "\n",
       "                                         plot_scores  \\\n",
       "0  [0.2235, 0.144, -0.5423, -0.296, 0.25, 0.0, -0...   \n",
       "1  [-0.6641833333333406, 0.3856095238095242, 0.41...   \n",
       "2  [-0.7030200000000022, -0.2479199999999998, 0.3...   \n",
       "3  [-0.836, -0.5106, 0.0, 0.6486, 0.3182, -0.3612...   \n",
       "4  [-0.0258, -0.3612, 0.6705, 0.0, -0.4404, -0.12...   \n",
       "\n",
       "                                     country  \\\n",
       "0  {\"/m/09c7w0\": \"United States of America\"}   \n",
       "1             {\"/m/07ssc\": \"United Kingdom\"}   \n",
       "2                    {\"/m/0345h\": \"Germany\"}   \n",
       "3               {\"/m/0hzlz\": \"South Africa\"}   \n",
       "4  {\"/m/09c7w0\": \"United States of America\"}   \n",
       "\n",
       "                                              genres  number_of_sentances  \\\n",
       "0  {\"/m/01jfsb\": \"Thriller\", \"/m/06n90\": \"Science...                   15   \n",
       "1  {\"/m/01jfsb\": \"Thriller\", \"/m/0glj9q\": \"Erotic...                   36   \n",
       "2                            {\"/m/07s9rl0\": \"Drama\"}                   24   \n",
       "3  {\"/m/0hqxf\": \"Family Film\", \"/m/01hmnh\": \"Fant...                    7   \n",
       "4  {\"/m/06cvj\": \"Romantic comedy\", \"/m/0hj3n0w\": ...                    9   \n",
       "\n",
       "                             language  Runtime  \n",
       "0  {\"/m/02h40lc\": \"English Language\"}     98.0  \n",
       "1  {\"/m/02h40lc\": \"English Language\"}    110.0  \n",
       "2   {\"/m/04306rv\": \"German Language\"}    106.0  \n",
       "3  {\"/m/02h40lc\": \"English Language\"}     86.0  \n",
       "4  {\"/m/02h40lc\": \"English Language\"}     93.0  "
      ]
     },
     "execution_count": 295,
     "metadata": {},
     "output_type": "execute_result"
    }
   ],
   "source": [
    "# Merge the two dataframes based on the Movie Wikipedia ID\n",
    "processed_df = df_metadatas.merge(df_plots, left_on=\"id\", right_on='id')[['id', 'plot', 'release date', 'Title', 'boxOffice', 'plot_classification', 'plot_scores', \"country\", \"genres\", \"number_of_sentances\", \"language\", \"Runtime\"]]\n",
    "processed_df.head(5)"
   ]
  },
  {
   "cell_type": "code",
   "execution_count": 296,
   "metadata": {},
   "outputs": [
    {
     "name": "stdout",
     "output_type": "stream",
     "text": [
      "The initial size of the dataset : 42204\n",
      "The size of the dataset after removing movies that have plot sentances less than 5: 28033\n",
      "The size of the dataset after removing movies that have no revenue values: 6450\n"
     ]
    }
   ],
   "source": [
    "# count the number of movies that we already have in the dataset after the merge \n",
    "initial_size_of_the_dataset = len(processed_df)\n",
    "print(f\"The initial size of the dataset : {initial_size_of_the_dataset}\")\n",
    "\n",
    "# remove the movies that have plot sentances lower than 5 \n",
    "processed_df = processed_df[processed_df[\"number_of_sentances\"]>5]\n",
    "size_of_the_dataset = len(processed_df)\n",
    "print(f\"The size of the dataset after removing movies that have plot sentances less than 5: {size_of_the_dataset}\")\n",
    "\n",
    "# drop the rows that have no box office revenues (we are interrested in the profitability of story arcs; only for the profitability study) \n",
    "boxoffice_df = processed_df.dropna(subset=[\"boxOffice\"])\n",
    "size_of_the_dataset = len(boxoffice_df)\n",
    "print(f\"The size of the dataset after removing movies that have no revenue values: {size_of_the_dataset}\")\n"
   ]
  },
  {
   "attachments": {},
   "cell_type": "markdown",
   "metadata": {},
   "source": [
    "Let us visualize the distribution of the number of sentances present in a plot."
   ]
  },
  {
   "cell_type": "code",
   "execution_count": 297,
   "metadata": {},
   "outputs": [
    {
     "data": {
      "text/plain": [
       "Text(0.5, 1.0, 'Histogram in (log scale) of the distributions of the number of sentances ')"
      ]
     },
     "execution_count": 297,
     "metadata": {},
     "output_type": "execute_result"
    },
    {
     "data": {
      "image/png": "[encoded data removed]",
      "text/plain": [
       "<Figure size 432x288 with 1 Axes>"
      ]
     },
     "metadata": {
      "needs_background": "light"
     },
     "output_type": "display_data"
    }
   ],
   "source": [
    "hist_plot = sns.histplot(data=processed_df, x = \"number_of_sentances\", log_scale=True,  bins=30)\n",
    "hist_plot.set_title(\"Histogram in (log scale) of the distributions of the number of sentances \")"
   ]
  },
  {
   "attachments": {},
   "cell_type": "markdown",
   "metadata": {},
   "source": [
    "Let us visualize the distribution of the boxOffice present in the plot."
   ]
  },
  {
   "cell_type": "code",
   "execution_count": 298,
   "metadata": {},
   "outputs": [
    {
     "data": {
      "text/plain": [
       "Text(0.5, 1.0, 'Histogram in (log scale) of the distributions of the Box Office Revenue')"
      ]
     },
     "execution_count": 298,
     "metadata": {},
     "output_type": "execute_result"
    },
    {
     "data": {
      "image/png": "[encoded data removed]",
      "text/plain": [
       "<Figure size 432x288 with 1 Axes>"
      ]
     },
     "metadata": {
      "needs_background": "light"
     },
     "output_type": "display_data"
    }
   ],
   "source": [
    "hist_plot = sns.histplot(data=processed_df, x = \"boxOffice\", log_scale=True, bins=100)\n",
    "hist_plot.set_title(\"Histogram in (log scale) of the distributions of the Box Office Revenue\")"
   ]
  },
  {
   "attachments": {},
   "cell_type": "markdown",
   "metadata": {},
   "source": [
    "Movies can be classified into various genres based on their shared themes, settings, characters, and story elements. Some popular genres include action, comedy, drama, horror, romance, and science fiction. These genres serve as helpful categorizations for films, allowing audiences and filmmakers to understand the type of content they can expect. For instance, a horror movie is likely to feature elements of suspense, fear, and tension. In this context, it would be useful to identify the most common genres present in the CMU dataset and use each genre as a separate dataset for analysis, as the emotional arc of a movie is often influenced by its genre."
   ]
  },
  {
   "cell_type": "code",
   "execution_count": 299,
   "metadata": {},
   "outputs": [],
   "source": [
    "def get_unique_elements(feature):\n",
    "    # this function takes as input the feature column and return a list of all the unique elements in the list\n",
    "    feature_vector = []\n",
    "    for sample in feature:\n",
    "        feature_vector.extend(json.loads(sample).values())\n",
    "\n",
    "    return list(set(feature_vector))\n",
    "\n",
    "# get the distinct genres present in the dataset\n",
    "unique_genre_vector = get_unique_elements(processed_df[\"genres\"].values)\n",
    "\n",
    "# initialize a feature vector\n",
    "feature = [0]*len(unique_genre_vector)\n",
    "\n",
    "# increment the index that corresponds to the genre present\n",
    "for sample_id, sample in processed_df.iterrows():\n",
    "    list_of_features_present = list(json.loads(sample[\"genres\"]).values())\n",
    "    for feature_name in list_of_features_present:\n",
    "        feature[unique_genre_vector.index(feature_name)]+=1\n",
    "\n",
    "genres_dataframe = pd.DataFrame({\"genres\": unique_genre_vector, \"count\":feature})\n",
    "genres_dataframe = genres_dataframe.sort_values(by=\"count\", ascending=False)\n"
   ]
  },
  {
   "cell_type": "code",
   "execution_count": 300,
   "metadata": {},
   "outputs": [
    {
     "data": {
      "image/png": "[encoded data removed]",
      "text/plain": [
       "<Figure size 432x288 with 1 Axes>"
      ]
     },
     "metadata": {
      "needs_background": "light"
     },
     "output_type": "display_data"
    }
   ],
   "source": [
    "genres_dataframe = genres_dataframe[genres_dataframe[\"count\"]>1000]\n",
    "\n",
    "# barplots\n",
    "barplot = sns.barplot(data=genres_dataframe, x=\"genres\", y=\"count\")\n",
    "barplot.set_title(\"Bar plot of the counts of various genres present in the processed dataset\")\n",
    "\n",
    "plt.xticks(rotation=90)\n",
    "plt.show()"
   ]
  },
  {
   "attachments": {},
   "cell_type": "markdown",
   "metadata": {},
   "source": [
    "Since movie emotional arcs can be heavily influenced by genre, it is important to consider this factor when analyzing the data. To do this, we can divide our dataset into separate dataframes for each genre of interest, ensuring that each dataframe contains only movies of that specific genre. However, it is common for movies to belong to multiple genres, so it is important to split the dataset in a mutually exclusive manner. This means that when we are constructing a dataframe for a specific genre, we should only include movies that do not belong to any other genre of interest."
   ]
  },
  {
   "cell_type": "code",
   "execution_count": 301,
   "metadata": {
    "tags": []
   },
   "outputs": [],
   "source": [
    "genres_of_interest =  [\"drama\", \"comedy\", \"thriller\", \"horror\", \"crime thriller\", \"action\", \"comedy film\"]\n",
    "\n",
    "# In this part, we create different dataframes for the most common genres (1. Drama, 2. Comedy, 3. Romance, 4. Action/Thriller)\n",
    "def is_needed_genre(genre_movie: Dict[str, str],genres_to_match: str):\n",
    "        \n",
    "        # get list of genres present in the movie\n",
    "        list_of_genres_in_movie = list(genre_movie.values())\n",
    "\n",
    "        # get list of genres to discard to avoid duplicates\n",
    "        genres_to_discard = [genre for genre in genres_of_interest if genre not in genres_to_match]\n",
    "        \n",
    "        # flags to be used\n",
    "        contains_needed_genre = False\n",
    "        contains_not_needed_genres = False\n",
    "        \n",
    "        # iterate over all genres present in the movies\n",
    "        for genre in list_of_genres_in_movie:\n",
    "            # check if there is a match\n",
    "            \n",
    "            if (genre.lower() in genres_to_match):\n",
    "                contains_needed_genre = True\n",
    "            \n",
    "            if (genre.lower() in genres_to_discard):\n",
    "                contains_not_needed_genres = True\n",
    " \n",
    "        # return True only if meets the following criteria\n",
    "        return (contains_needed_genre) and (not contains_not_needed_genres)\n",
    "\n",
    "# construct the 4 different datasets \n",
    "processed_df[\"action\"] = processed_df['genres'].apply(lambda genres: is_needed_genre(json.loads(genres), [\"action\", \"thriller\", \"crime thriller\"]))\n",
    "processed_df[\"drama\"] = processed_df['genres'].apply(lambda genres: is_needed_genre(json.loads(genres), [\"drama\"]))\n",
    "processed_df[\"comedy\"] = processed_df['genres'].apply(lambda genres: is_needed_genre(json.loads(genres), [\"comedy\", \"comedy film\"]))\n",
    "processed_df[\"horror\"] = processed_df['genres'].apply(lambda genres: is_needed_genre(json.loads(genres), [\"horror\"]))"
   ]
  },
  {
   "cell_type": "code",
   "execution_count": 302,
   "metadata": {},
   "outputs": [],
   "source": [
    "# create the action dataframe\n",
    "action_df = processed_df[processed_df[\"action\"]].copy().drop([\"action\", \"comedy\", \"drama\", \"horror\"], axis=1)\n",
    "\n",
    "# create the romance dataframe\n",
    "horror_df = processed_df[processed_df[\"horror\"]].copy().drop([\"action\", \"comedy\", \"drama\", \"horror\"], axis=1)\n",
    "\n",
    "# create the drama dataframe\n",
    "drama_df = processed_df[processed_df[\"drama\"]].copy().drop([\"action\", \"comedy\", \"drama\", \"horror\"], axis=1)\n",
    "\n",
    "# create the comedy dataframe\n",
    "comedy_df = processed_df[processed_df[\"comedy\"]].copy().drop([\"action\", \"comedy\", \"drama\", \"horror\"], axis=1)"
   ]
  },
  {
   "cell_type": "code",
   "execution_count": 303,
   "metadata": {},
   "outputs": [],
   "source": [
    "# form the dataset loader\n",
    "dataset_by_genre = {\"Action\": action_df.copy(), \"Horror\": horror_df.copy(), \"Drama\":drama_df.copy(), \"Comedy\":comedy_df.copy()}"
   ]
  },
  {
   "cell_type": "code",
   "execution_count": 304,
   "metadata": {},
   "outputs": [
    {
     "name": "stdout",
     "output_type": "stream",
     "text": [
      "The size of the action dataset is 2476\n",
      "The size of the romance dataset is 1273\n",
      "The size of the drama dataset is 7511\n",
      "The size of the comedy dataset is 4602\n"
     ]
    }
   ],
   "source": [
    "# Let us visualize the size of the constructed dataset\n",
    "print(f\"The size of the action dataset is {len(action_df)}\")\n",
    "print(f\"The size of the romance dataset is {len(horror_df)}\")\n",
    "print(f\"The size of the drama dataset is {len(drama_df)}\")\n",
    "print(f\"The size of the comedy dataset is {len(comedy_df)}\")"
   ]
  },
  {
   "attachments": {},
   "cell_type": "markdown",
   "metadata": {},
   "source": [
    "With the separate dataframes for each genre, we can now visualize the emotional arc of a randomly chosen movie from each genre. "
   ]
  },
  {
   "cell_type": "code",
   "execution_count": 305,
   "metadata": {},
   "outputs": [
    {
     "data": {
      "text/plain": [
       "Text(0.04, 0.5, 'Sentiment Value')"
      ]
     },
     "execution_count": 305,
     "metadata": {},
     "output_type": "execute_result"
    },
    {
     "data": {
      "image/png": "[encoded data removed]",
      "text/plain": [
       "<Figure size 504x504 with 4 Axes>"
      ]
     },
     "metadata": {
      "needs_background": "light"
     },
     "output_type": "display_data"
    }
   ],
   "source": [
    "# now let us visualize different movie arcs for each genre (a sample from each)\n",
    "fig, axis = plt.subplots(2,2, figsize=(7,7), sharey=True)\n",
    "# plot the random movie arc\n",
    "axis[0,0].plot(list(action_df.iloc[0][\"plot_scores\"]), color=\"orange\")\n",
    "axis[0,0].set_title(\"Action Movie Arc\")\n",
    "\n",
    "axis[0,1].plot(list(horror_df.iloc[10][\"plot_scores\"]))\n",
    "axis[0,1].set_title(\"Horror Movie Arc\")\n",
    "\n",
    "axis[1,0].plot(list(drama_df.iloc[5][\"plot_scores\"]), color=\"purple\")\n",
    "axis[1,0].set_title(\"Drama Movie Arc\")\n",
    "\n",
    "axis[1,1].plot(list(comedy_df.iloc[10][\"plot_scores\"]), color=\"green\")\n",
    "axis[1,1].set_title(\"Comedy Movie Arc\")\n",
    "\n",
    "fig.text(0.5, 0.04, \"Sentance Number (Temporal)\", ha=\"center\")\n",
    "fig.text(0.04, 0.5, \"Sentiment Value\", va=\"center\", rotation=\"vertical\")\n"
   ]
  },
  {
   "attachments": {},
   "cell_type": "markdown",
   "metadata": {},
   "source": [
    "Visualizing the emotional arc of a single movie can be noisy and not representative of the overall trend. To get a more accurate picture of the typical emotional arc for a genre, it is helpful to compute the average sentiment scores for all the movies in the genre. However, this can be challenging due to the fact that movies have different lengths and the sentiment scores may be unevenly distributed over time.\n",
    "\n",
    "One way to address this issue is to use the tslearn library, which contains tools for computing the typical (barycenter) of time series of different lengths. To compute the typical emotional arc for a genre, we can use tslearn to compute the barycenter of the sentiment scores for all the movies in the genre. This will give us a more accurate representation of the typical emotional arc for the genre, taking into account the fact that different movies have different lengths."
   ]
  },
  {
   "cell_type": "code",
   "execution_count": 306,
   "metadata": {},
   "outputs": [],
   "source": [
    "def form_features(series_frame: pd.Series):\n",
    "    dictionary = series_frame.to_dict()\n",
    "    list_values = [list(emotional_arc) for emotional_arc in dictionary.values() if len(list(emotional_arc))>2]\n",
    "    return to_time_series_dataset(list_values)\n",
    "\n",
    "def get_most_common_movie_arc_using_softdtw(series_frame):\n",
    "    centers =  softdtw_barycenter(form_features(series_frame))  \n",
    "    return centers"
   ]
  },
  {
   "cell_type": "code",
   "execution_count": null,
   "metadata": {},
   "outputs": [],
   "source": [
    "# Averaging using tslearn library\n",
    "\n",
    "# Visualize the most common movie arc in each genre (by taking average of all the datapoints in that genre)\n",
    "typical_action_movie = get_most_common_movie_arc_using_softdtw(action_df[\"plot_scores\"])\n",
    "\n",
    "typical_horror_movie = get_most_common_movie_arc_using_softdtw(horror_df[\"plot_scores\"])\n",
    "\n",
    "typical_drama_movie = get_most_common_movie_arc_using_softdtw(drama_df[\"plot_scores\"])\n",
    "\n",
    "typical_comedy_movie = get_most_common_movie_arc_using_softdtw(comedy_df[\"plot_scores\"])\n"
   ]
  },
  {
   "cell_type": "code",
   "execution_count": null,
   "metadata": {},
   "outputs": [],
   "source": [
    "fig, axis = plt.subplots(2,2, figsize=(7,7), sharey=True)\n",
    "axis[0,0].plot(typical_action_movie, color=\"orange\")\n",
    "axis[0,0].set_title(\"Action Movie Arc\")\n",
    "\n",
    "axis[0,1].plot(typical_horror_movie)\n",
    "axis[0,1].set_title(\"Horror Movie Arc\")\n",
    "\n",
    "axis[1,0].plot(typical_drama_movie, color=\"purple\")\n",
    "axis[1,0].set_title(\"Drama Movie Arc\")\n",
    "\n",
    "axis[1,1].plot(typical_comedy_movie, color=\"green\")\n",
    "axis[1,1].set_title(\"Comedy Movie Arc\")\n",
    "\n",
    "\n",
    "fig.subplots_adjust(hspace=0.5)\n",
    "fig.text(0.5, 0.04, \"Sentance Number (Temporal)\", ha=\"center\")\n",
    "fig.text(0.04, 0.5, \"Sentiment Value\", va=\"center\", rotation=\"vertical\")"
   ]
  },
  {
   "attachments": {},
   "cell_type": "markdown",
   "metadata": {},
   "source": [
    "#### Part 1.3: Clustering Analysis of the Story Arcs"
   ]
  },
  {
   "attachments": {},
   "cell_type": "markdown",
   "metadata": {},
   "source": [
    "To cluster the emotional arcs of movies by genre, we can use the tslearn library, which provides tools for clustering time series data. In our analysis, we will consider two different representations of the time series: (1) continuous values ranging from -1 to 1, and (2) discrete classes (-1, 0, and 1). We will use the Silhouette score as a metric to evaluate the quality of the clusters.\n",
    "\n",
    "With that, we performed a grid search with the following combinations: <br>\n",
    "\n",
    "-1- TimeSeries Kmeans, Soft Dynamic Time Wrapping (soft-dtw) as a metric, continuous features and varying the K value from 3 to 6. <br>\n",
    "-2- TimeSeries Kmeans, Soft Dynamic Time Wrapping (soft-dtw) as a metric, discrete features and varying the K value from 3 to 6. <br>\n",
    "\n",
    "After performing the grid search and evaluating the Silhouette scores for each combination, we can choose the combination that maximizes the score as the optimal solution for our analysis. We can then use this combination to cluster the emotional arcs of movies by genre and visualize the resulting clusters.\n",
    "\n",
    "It is worth noting that the Kernal Kmeans algorithm, which is provided by the tslearn library, can be computationally intensive and may take a long time to run on large datasets. It takes around 8 hours to cluster 1 genre and hence accordingly it takes 128 hours to execute the analysis proposed. In our analysis, we found that the TimeSeries Kmeans algorithm with the soft-dtw distance metric provided similar results in a more efficient manner. We stored the results of our analysis in a pickle file in the generated folder for future reference (for both methods).\n"
   ]
  },
  {
   "cell_type": "code",
   "execution_count": 307,
   "metadata": {},
   "outputs": [],
   "source": [
    "# Clustering Analysis\n",
    "def timeseries_kmeans(data, number_of_clusters):\n",
    "    timeseries_kmeans = TimeSeriesKMeans(n_clusters=number_of_clusters, metric=\"softdtw\")\n",
    "    return timeseries_kmeans.fit_predict(form_features(data))\n"
   ]
  },
  {
   "attachments": {},
   "cell_type": "markdown",
   "metadata": {},
   "source": [
    "To analyze the profitability and ratings of different emotional story arcs, it is helpful to have access to information about the box office revenues of the movies. Therefore, it may be necessary to drop movies from the dataset that do not have this information available."
   ]
  },
  {
   "cell_type": "code",
   "execution_count": 308,
   "metadata": {},
   "outputs": [],
   "source": [
    "cluster_analysis_dataloader = {}\n",
    "for genre in list(dataset_by_genre.keys()):\n",
    "    genre_dataframe = dataset_by_genre[genre].dropna(subset=[\"boxOffice\"])\n",
    "    cluster_analysis_dataloader[genre] = genre_dataframe"
   ]
  },
  {
   "cell_type": "code",
   "execution_count": 309,
   "metadata": {},
   "outputs": [
    {
     "name": "stdout",
     "output_type": "stream",
     "text": [
      "The size of the Action Movies dataset after the processing step is 634\n",
      "The size of the Horror Movies dataset after the processing step is 177\n",
      "The size of the Drama Movies dataset after the processing step is 1396\n",
      "The size of the Comedy Movies dataset after the processing step is 1184\n"
     ]
    }
   ],
   "source": [
    "for genre in cluster_analysis_dataloader.keys():\n",
    "    print(f\"The size of the {genre} Movies dataset after the processing step is {len(cluster_analysis_dataloader[genre])}\")"
   ]
  },
  {
   "attachments": {},
   "cell_type": "markdown",
   "metadata": {},
   "source": [
    "To find the optimal feature to cluster on and the optimal number of clusters, we can run Timeseries Kmeans clustering on both features while repeating the clustering for diffrent number of clusters."
   ]
  },
  {
   "cell_type": "code",
   "execution_count": 310,
   "metadata": {},
   "outputs": [],
   "source": [
    "read_data_from_pickle = True\n",
    "\n",
    "if not read_data_from_pickle:\n",
    "    # use features\n",
    "    clustering_label = {\"Action\": {\"continuous_labels\": [], \"discrete_labels\":[]}, \n",
    "                                            \"Drama\": {\"continuous_labels\": [], \"discrete_labels\":[] },\n",
    "                                            \"Comedy\": {\"continuous_labels\": [], \"discrete_labels\":[]},\n",
    "                                            \"Horror\": {\"continuous_labels\": [], \"discrete_labels\":[]}}\n",
    "\n",
    "    # perform clustering\n",
    "    for number_of_clusters in range(3,7):\n",
    "        for genre in cluster_analysis_dataloader.keys():\n",
    "            # genre dataframe\n",
    "            genre_dataframe = cluster_analysis_dataloader[genre]\n",
    "\n",
    "            # continuous features\n",
    "            clustering_label[genre][\"continuous_labels\"].append(timeseries_kmeans(genre_dataframe[\"plot_scores\"], number_of_clusters))\n",
    "\n",
    "            # discrete features\n",
    "            clustering_label[genre][\"discrete_labels\"].append(timeseries_kmeans(genre_dataframe[\"plot_classification\"], number_of_clusters))\n",
    "else:\n",
    "    with open('generated/clustering_results.pickle', 'rb') as handle:\n",
    "        clustering_label = pickle.load(handle)"
   ]
  },
  {
   "attachments": {},
   "cell_type": "markdown",
   "metadata": {},
   "source": [
    "To evaluate the quality of the clusters produced by Timeseries Kmeans clustering, we can use the Silhouette score as a metric. The Silhouette score measures how well-separated the clusters are and how similar the points within a cluster are. A high Silhouette score indicates that the clusters are well-defined and the points within a cluster are similar, while a low Silhouette score indicates that the clusters are poorly defined or that the points within a cluster are dissimilar."
   ]
  },
  {
   "cell_type": "code",
   "execution_count": 313,
   "metadata": {},
   "outputs": [],
   "source": [
    "if not read_data_from_pickle:\n",
    "    clustering_silhouette_score = {\"Action\": [],\"Drama\":[], \"Comedy\": [], \"Horror\": []}\n",
    "    for genre in clustering_label.keys():\n",
    "        for number_of_clusters in range(3,7):\n",
    "            clustering_silhouette_score[genre].append(silhouette_score(cluster_analysis_dataloader[genre][\"plot_scores\"].values, clustering_label[genre][\"continuous_labels\"][number_of_clusters-3], \"softdtw\"))\n",
    "else:\n",
    "    with open('generated/clustering_silhouette_score.pickle', 'rb') as handle:\n",
    "        clustering_silhouette_score = pickle.load(handle) "
   ]
  },
  {
   "cell_type": "code",
   "execution_count": 312,
   "metadata": {},
   "outputs": [],
   "source": [
    "if not read_data_from_pickle:\n",
    "    discrete_clustering_silhouette_score = {\"Action\": [],\"Drama\":[], \"Comedy\": [], \"Horror\": []}\n",
    "    for genre in clustering_label.keys():\n",
    "        for number_of_clusters in range(3,7):\n",
    "            discrete_clustering_silhouette_score[genre].append(silhouette_score(cluster_analysis_dataloader[genre][\"plot_classification\"].values, clustering_label[genre][\"discrete_labels\"][number_of_clusters-3], \"softdtw\"))\n",
    "else:\n",
    "    with open('generated/discrete_clustering_silhouette_score.pickle', 'rb') as handle:\n",
    "        clustering_silhouette_score = pickle.load(handle) "
   ]
  },
  {
   "attachments": {},
   "cell_type": "markdown",
   "metadata": {},
   "source": [
    "In order to visualize the Silhouette score results for the different number of clusters and different features, we plot them below, "
   ]
  },
  {
   "cell_type": "code",
   "execution_count": 314,
   "metadata": {},
   "outputs": [
    {
     "data": {
      "image/png": "[encoded data removed]",
      "text/plain": [
       "<Figure size 504x504 with 4 Axes>"
      ]
     },
     "metadata": {
      "needs_background": "light"
     },
     "output_type": "display_data"
    }
   ],
   "source": [
    "# plot the silhouette score\n",
    "fig, axis = plt.subplots(2,2, figsize=(7,7), sharey=True)\n",
    "\n",
    "# X_values\n",
    "x_values = np.arange(3,7)\n",
    "\n",
    "for index, genre in enumerate(clustering_silhouette_score.keys()):\n",
    "    # Clustering Silhoutte scores\n",
    "    axis[int(index/2),int(index%2)].plot(x_values, clustering_silhouette_score[genre], label = \"continuous features\")\n",
    "    axis[int(index/2),int(index%2)].plot(x_values, discrete_clustering_silhouette_score[genre], label = \"discrete features\")\n",
    "    axis[int(index/2),int(index%2)].legend()\n",
    "    axis[int(index/2),int(index%2)].set_title(f\"{genre} silhouette score\")\n"
   ]
  },
  {
   "cell_type": "code",
   "execution_count": null,
   "metadata": {},
   "outputs": [],
   "source": [
    "for genre in cluster_analysis_dataloader.keys():\n",
    "    cluster_analysis_dataloader[genre][\"cluster_id\"] = clustering_label[genre][\"continuous_labels\"][0]"
   ]
  },
  {
   "cell_type": "code",
   "execution_count": null,
   "metadata": {},
   "outputs": [],
   "source": [
    "fig, axis = plt.subplots(2,2, figsize=(10,5), sharey=True)\n",
    "fig.tight_layout() \n",
    "\n",
    "# visualize the distribution of the various sentiments using bar plots\n",
    "for index, genre in enumerate(cluster_analysis_dataloader.keys()):\n",
    "    head =  cluster_analysis_dataloader[genre]['cluster_id'].value_counts().loc[[0, 1, 2]]\n",
    "    axis[int(index/2),index%2].bar([\"cluster_1\", \"cluster_2\", \"cluster_3\"], head.values, color=(0.2, 0.4, 0.6))\n",
    "    axis[int(index/2),index%2].set_title(f\"{genre} Movies\")\n",
    "    \n",
    "fig.subplots_adjust(hspace=0.5)\n",
    "fig.text(0.5, 0.00, \"Cluster ID\", ha=\"center\")\n",
    "fig.text(0.0, 0.5, \"Number of Movies\", va=\"center\", rotation=\"vertical\")"
   ]
  },
  {
   "cell_type": "code",
   "execution_count": null,
   "metadata": {},
   "outputs": [],
   "source": [
    "fig = plt.figure(figsize = (10,15))\n",
    "subfigs = fig.subfigures(nrows=4, ncols=1)\n",
    "\n",
    "\n",
    "for index, jointed_genres in enumerate(zip(cluster_analysis_dataloader.keys(), subfigs)):\n",
    "    jointed_genres[1].suptitle(f\"{jointed_genres[0]} Movies\")\n",
    "    groued_dataset = cluster_analysis_dataloader[jointed_genres[0]].groupby(\"cluster_id\")\n",
    "    colors = plt.rcParams[\"axes.prop_cycle\"]()\n",
    "\n",
    "    # create 1x3 subplots per subfig\n",
    "    axs = jointed_genres[1].subplots(nrows=1, ncols=3, sharex=True, sharey=True)\n",
    "    for key in groued_dataset.groups.keys():\n",
    "\n",
    "        # get color\n",
    "        c = next(colors)[\"color\"]\n",
    "        common_featurs= get_most_common_movie_arc_using_softdtw(groued_dataset.get_group(key)[\"plot_scores\"])\n",
    "\n",
    "        # filter value\n",
    "        axs[key].plot(common_featurs, color=c)\n",
    "        axs[key].set_title(f\"cluster {key + 1}\")\n",
    "\n",
    "# common axis label\n",
    "fig.supxlabel('Sentance Number')\n",
    "fig.supylabel('Sentiment Value')\n",
    "fig.subplots_adjust(hspace=0.5)"
   ]
  },
  {
   "cell_type": "markdown",
   "metadata": {},
   "source": [
    "To conclude on this part, we were able to construct a data processing pipeline that will allow us to analyze the sentiment of the movies and the various story arcs present in each genre. "
   ]
  },
  {
   "cell_type": "markdown",
   "metadata": {},
   "source": [
    "### Part 2: From the provided dataset to our sicentific question"
   ]
  },
  {
   "attachments": {},
   "cell_type": "markdown",
   "metadata": {},
   "source": [
    "We'd want to examine and answer multiple scientific questions now that we've studied and visualized the CMU Corpus dataset. These are the questions:\n",
    "\n",
    "* What is the effect of the presence of emotions on the success of the movie, do emotional movies have a higher IMDB rating? Does the effect differ between genres?\n",
    "\n",
    "* What is the effect of the positive/negative emotions on the success of the movie, do movies that are predominently positive (more than 50% of the lines are positive) have a higher IMDB rating? or is the opposite effect true? and do the observed effect vary per genre? \n",
    "\n",
    "* What is the most profitable movie arc per genre, is their a clear winner among the various clusters?\n",
    "\n",
    "* What is the most rated movie arc per genre, is their a clear winner among the various clusters?\n",
    "\n",
    "* Does the most typical movie arc change over time? If so, what are the various movie arcs that take place in various time periods, and what are their profitability and rating?\n",
    "\n",
    "In order to answer the above posed questions, we need to construct the needed dataframes before running any statstical tests to answer our questions. In this section, we will construct the various needed datasets and we will perform the extensive analysis to answer the above questions.\n",
    "\n",
    "Accordingly, based on the questions posed, we can see that we divide the pre-processing step into two parts; movie sentiment dataframe construction, ratings and box office revenue dataframe construction."
   ]
  },
  {
   "attachments": {},
   "cell_type": "markdown",
   "metadata": {},
   "source": [
    "#### Sentiment pre-processing and Movie plot classification"
   ]
  },
  {
   "attachments": {},
   "cell_type": "markdown",
   "metadata": {},
   "source": [
    "To classify movies based on sentiment and type, we follow these steps:\n",
    "\n",
    "Movie Sentiment:\n",
    "\n",
    "* We count the number of lines classified as negative, neutral, and positive.\n",
    "* If the number of lines in a certain class is more than half the total number of lines, the movie is classified as corresponding to that class.\n",
    "\n",
    "Movie Type:\n",
    "\n",
    "* Based on the Movie Sentiment classification, if the movie is classified as positive or negative, it is considered an emotional movie. If it is classified as neutral, it is considered non-emotional.\n"
   ]
  },
  {
   "cell_type": "code",
   "execution_count": 317,
   "metadata": {},
   "outputs": [
    {
     "data": {
      "text/html": [
       "<div>\n",
       "<style scoped>\n",
       "    .dataframe tbody tr th:only-of-type {\n",
       "        vertical-align: middle;\n",
       "    }\n",
       "\n",
       "    .dataframe tbody tr th {\n",
       "        vertical-align: top;\n",
       "    }\n",
       "\n",
       "    .dataframe thead th {\n",
       "        text-align: right;\n",
       "    }\n",
       "</style>\n",
       "<table border=\"1\" class=\"dataframe\">\n",
       "  <thead>\n",
       "    <tr style=\"text-align: right;\">\n",
       "      <th></th>\n",
       "      <th>id</th>\n",
       "      <th>plot</th>\n",
       "      <th>release date</th>\n",
       "      <th>Title</th>\n",
       "      <th>boxOffice</th>\n",
       "      <th>plot_classification</th>\n",
       "      <th>plot_scores</th>\n",
       "      <th>country</th>\n",
       "      <th>genres</th>\n",
       "      <th>number_of_sentances</th>\n",
       "      <th>language</th>\n",
       "      <th>Runtime</th>\n",
       "      <th>negative_score</th>\n",
       "      <th>neutral_score</th>\n",
       "      <th>positive_score</th>\n",
       "      <th>emotion_score</th>\n",
       "    </tr>\n",
       "  </thead>\n",
       "  <tbody>\n",
       "    <tr>\n",
       "      <th>1</th>\n",
       "      <td>9363483</td>\n",
       "      <td>A series of murders of rich young women throug...</td>\n",
       "      <td>1987</td>\n",
       "      <td>White Of The Eye</td>\n",
       "      <td>NaN</td>\n",
       "      <td>[-1, 1, 1, -1, -1, -1, 0, 0, -1, -1, 1, 0, 1, ...</td>\n",
       "      <td>[-0.6641833333333406, 0.3856095238095242, 0.41...</td>\n",
       "      <td>{\"/m/07ssc\": \"United Kingdom\"}</td>\n",
       "      <td>{\"/m/01jfsb\": \"Thriller\", \"/m/0glj9q\": \"Erotic...</td>\n",
       "      <td>36</td>\n",
       "      <td>{\"/m/02h40lc\": \"English Language\"}</td>\n",
       "      <td>110.0</td>\n",
       "      <td>20</td>\n",
       "      <td>6</td>\n",
       "      <td>10</td>\n",
       "      <td>-0.181695</td>\n",
       "    </tr>\n",
       "    <tr>\n",
       "      <th>7</th>\n",
       "      <td>11250635</td>\n",
       "      <td>The story starts as one of the robots flies i...</td>\n",
       "      <td>NaN</td>\n",
       "      <td>The Mechanical Monsters</td>\n",
       "      <td>NaN</td>\n",
       "      <td>[0, 0, 0, 0, 1, 1, 0, 0, 0, 1, -1, 1, 1, -1, -...</td>\n",
       "      <td>[-0.0025414285714281545, 0.01016571428571429, ...</td>\n",
       "      <td>{\"/m/09c7w0\": \"United States of America\"}</td>\n",
       "      <td>{\"/m/06n90\": \"Science Fiction\", \"/m/03k9fj\": \"...</td>\n",
       "      <td>26</td>\n",
       "      <td>{\"/m/02h40lc\": \"English Language\"}</td>\n",
       "      <td>NaN</td>\n",
       "      <td>9</td>\n",
       "      <td>7</td>\n",
       "      <td>10</td>\n",
       "      <td>0.043239</td>\n",
       "    </tr>\n",
       "    <tr>\n",
       "      <th>14</th>\n",
       "      <td>9633533</td>\n",
       "      <td>Professor Kurian Fernandez , a convict escapes...</td>\n",
       "      <td>1989</td>\n",
       "      <td>Vandanam</td>\n",
       "      <td>NaN</td>\n",
       "      <td>[1, -1, 1, 0, 1, -1, 0, -1, 1, -1, -1, 1, 0, 0...</td>\n",
       "      <td>[0.0706871428571403, -0.28134857142857195, -0....</td>\n",
       "      <td>{\"/m/03rk0\": \"India\"}</td>\n",
       "      <td>{\"/m/02kdv5l\": \"Action\"}</td>\n",
       "      <td>33</td>\n",
       "      <td>{\"/m/0999q\": \"Malayalam Language\"}</td>\n",
       "      <td>168.0</td>\n",
       "      <td>14</td>\n",
       "      <td>8</td>\n",
       "      <td>11</td>\n",
       "      <td>-0.065971</td>\n",
       "    </tr>\n",
       "  </tbody>\n",
       "</table>\n",
       "</div>"
      ],
      "text/plain": [
       "          id                                               plot release date  \\\n",
       "1    9363483  A series of murders of rich young women throug...         1987   \n",
       "7   11250635   The story starts as one of the robots flies i...          NaN   \n",
       "14   9633533  Professor Kurian Fernandez , a convict escapes...         1989   \n",
       "\n",
       "                      Title  boxOffice  \\\n",
       "1          White Of The Eye        NaN   \n",
       "7   The Mechanical Monsters        NaN   \n",
       "14                 Vandanam        NaN   \n",
       "\n",
       "                                  plot_classification  \\\n",
       "1   [-1, 1, 1, -1, -1, -1, 0, 0, -1, -1, 1, 0, 1, ...   \n",
       "7   [0, 0, 0, 0, 1, 1, 0, 0, 0, 1, -1, 1, 1, -1, -...   \n",
       "14  [1, -1, 1, 0, 1, -1, 0, -1, 1, -1, -1, 1, 0, 0...   \n",
       "\n",
       "                                          plot_scores  \\\n",
       "1   [-0.6641833333333406, 0.3856095238095242, 0.41...   \n",
       "7   [-0.0025414285714281545, 0.01016571428571429, ...   \n",
       "14  [0.0706871428571403, -0.28134857142857195, -0....   \n",
       "\n",
       "                                      country  \\\n",
       "1              {\"/m/07ssc\": \"United Kingdom\"}   \n",
       "7   {\"/m/09c7w0\": \"United States of America\"}   \n",
       "14                      {\"/m/03rk0\": \"India\"}   \n",
       "\n",
       "                                               genres  number_of_sentances  \\\n",
       "1   {\"/m/01jfsb\": \"Thriller\", \"/m/0glj9q\": \"Erotic...                   36   \n",
       "7   {\"/m/06n90\": \"Science Fiction\", \"/m/03k9fj\": \"...                   26   \n",
       "14                           {\"/m/02kdv5l\": \"Action\"}                   33   \n",
       "\n",
       "                              language  Runtime  negative_score  \\\n",
       "1   {\"/m/02h40lc\": \"English Language\"}    110.0              20   \n",
       "7   {\"/m/02h40lc\": \"English Language\"}      NaN               9   \n",
       "14  {\"/m/0999q\": \"Malayalam Language\"}    168.0              14   \n",
       "\n",
       "    neutral_score  positive_score  emotion_score  \n",
       "1               6              10      -0.181695  \n",
       "7               7              10       0.043239  \n",
       "14              8              11      -0.065971  "
      ]
     },
     "execution_count": 317,
     "metadata": {},
     "output_type": "execute_result"
    }
   ],
   "source": [
    "# for each genre, get the negative score, neutral score and positive score\n",
    "for dataset in dataset_by_genre.values():\n",
    "    # get the negative scores\n",
    "    dataset[\"negative_score\"] = dataset[\"plot_classification\"].apply(lambda x: np.sum(np.array(x) == -1))\n",
    "\n",
    "    # get the neutral scores\n",
    "    dataset[\"neutral_score\"] = dataset[\"plot_classification\"].apply(lambda x: np.sum(np.array(x) == 0))\n",
    "\n",
    "    # get the positive scores\n",
    "    dataset[\"positive_score\"] = dataset[\"plot_classification\"].apply(lambda x: np.sum(np.array(x) == 1))\n",
    "\n",
    "    # movie emotion score\n",
    "    dataset[\"emotion_score\"] = dataset[\"plot_scores\"].apply(lambda x: np.mean(x))\n",
    "\n",
    "# visualize one the dataframe\n",
    "dataset_by_genre['Action'].head(3)\n"
   ]
  },
  {
   "cell_type": "code",
   "execution_count": 318,
   "metadata": {},
   "outputs": [
    {
     "data": {
      "text/html": [
       "<div>\n",
       "<style scoped>\n",
       "    .dataframe tbody tr th:only-of-type {\n",
       "        vertical-align: middle;\n",
       "    }\n",
       "\n",
       "    .dataframe tbody tr th {\n",
       "        vertical-align: top;\n",
       "    }\n",
       "\n",
       "    .dataframe thead th {\n",
       "        text-align: right;\n",
       "    }\n",
       "</style>\n",
       "<table border=\"1\" class=\"dataframe\">\n",
       "  <thead>\n",
       "    <tr style=\"text-align: right;\">\n",
       "      <th></th>\n",
       "      <th>id</th>\n",
       "      <th>plot</th>\n",
       "      <th>release date</th>\n",
       "      <th>Title</th>\n",
       "      <th>boxOffice</th>\n",
       "      <th>plot_classification</th>\n",
       "      <th>plot_scores</th>\n",
       "      <th>country</th>\n",
       "      <th>genres</th>\n",
       "      <th>number_of_sentances</th>\n",
       "      <th>language</th>\n",
       "      <th>Runtime</th>\n",
       "      <th>negative_score</th>\n",
       "      <th>neutral_score</th>\n",
       "      <th>positive_score</th>\n",
       "      <th>emotion_score</th>\n",
       "      <th>movie_sentiment</th>\n",
       "      <th>movie_type</th>\n",
       "    </tr>\n",
       "  </thead>\n",
       "  <tbody>\n",
       "    <tr>\n",
       "      <th>1</th>\n",
       "      <td>9363483</td>\n",
       "      <td>A series of murders of rich young women throug...</td>\n",
       "      <td>1987</td>\n",
       "      <td>White Of The Eye</td>\n",
       "      <td>NaN</td>\n",
       "      <td>[-1, 1, 1, -1, -1, -1, 0, 0, -1, -1, 1, 0, 1, ...</td>\n",
       "      <td>[-0.6641833333333406, 0.3856095238095242, 0.41...</td>\n",
       "      <td>{\"/m/07ssc\": \"United Kingdom\"}</td>\n",
       "      <td>{\"/m/01jfsb\": \"Thriller\", \"/m/0glj9q\": \"Erotic...</td>\n",
       "      <td>36</td>\n",
       "      <td>{\"/m/02h40lc\": \"English Language\"}</td>\n",
       "      <td>110.0</td>\n",
       "      <td>20</td>\n",
       "      <td>6</td>\n",
       "      <td>10</td>\n",
       "      <td>-0.181695</td>\n",
       "      <td>negative_movie</td>\n",
       "      <td>emotional</td>\n",
       "    </tr>\n",
       "    <tr>\n",
       "      <th>24</th>\n",
       "      <td>4951456</td>\n",
       "      <td>A Japanese businessman sees a woman being grop...</td>\n",
       "      <td>1989</td>\n",
       "      <td>Kinjite: Forbidden Subjects</td>\n",
       "      <td>3416846.0</td>\n",
       "      <td>[0, 1, 0, -1, 0, 0, 0, 0, -1, 0, -1, -1, 1, -1]</td>\n",
       "      <td>[0.0, 0.2732, 0.0, -0.5927, 0.0, 0.0, 0.0, 0.0...</td>\n",
       "      <td>{\"/m/09c7w0\": \"United States of America\"}</td>\n",
       "      <td>{\"/m/0lsxr\": \"Crime Fiction\", \"/m/03btsm8\": \"A...</td>\n",
       "      <td>14</td>\n",
       "      <td>{\"/m/02h40lc\": \"English Language\"}</td>\n",
       "      <td>97.0</td>\n",
       "      <td>5</td>\n",
       "      <td>7</td>\n",
       "      <td>2</td>\n",
       "      <td>-0.218286</td>\n",
       "      <td>neutral_movie</td>\n",
       "      <td>non_emotional</td>\n",
       "    </tr>\n",
       "    <tr>\n",
       "      <th>122</th>\n",
       "      <td>6703617</td>\n",
       "      <td>In this film, which is based loosely on the an...</td>\n",
       "      <td>2008-04-04</td>\n",
       "      <td>The Forbidden Kingdom</td>\n",
       "      <td>127906624.0</td>\n",
       "      <td>[1, 0, -1, -1, -1, -1, -1, 0, 1, 0, -1, 1, 1, ...</td>\n",
       "      <td>[0.7200333333333386, -0.2102333333333325, -0.5...</td>\n",
       "      <td>{\"/m/09c7w0\": \"United States of America\", \"/m/...</td>\n",
       "      <td>{\"/m/08322\": \"Wuxia\", \"/m/0hj3n2k\": \"Fantasy A...</td>\n",
       "      <td>36</td>\n",
       "      <td>{\"/m/0653m\": \"Standard Mandarin\", \"/m/02h40lc\"...</td>\n",
       "      <td>105.0</td>\n",
       "      <td>18</td>\n",
       "      <td>6</td>\n",
       "      <td>12</td>\n",
       "      <td>-0.118141</td>\n",
       "      <td>negative_movie</td>\n",
       "      <td>emotional</td>\n",
       "    </tr>\n",
       "    <tr>\n",
       "      <th>208</th>\n",
       "      <td>24282238</td>\n",
       "      <td>Yamraaj is the story of two thieves Birju  and...</td>\n",
       "      <td>1998-07-31</td>\n",
       "      <td>Yamraaj</td>\n",
       "      <td>NaN</td>\n",
       "      <td>[1, -1, 1, -1, -1, 1]</td>\n",
       "      <td>[0.0516, -0.0516, 0.1154, -0.3182, -0.3612, 0....</td>\n",
       "      <td>{\"/m/03rk0\": \"India\"}</td>\n",
       "      <td>{\"/m/0lsxr\": \"Crime Fiction\", \"/m/02kdv5l\": \"A...</td>\n",
       "      <td>6</td>\n",
       "      <td>{\"/m/03k50\": \"Hindi Language\"}</td>\n",
       "      <td>NaN</td>\n",
       "      <td>3</td>\n",
       "      <td>0</td>\n",
       "      <td>3</td>\n",
       "      <td>-0.020600</td>\n",
       "      <td>positive_movie</td>\n",
       "      <td>emotional</td>\n",
       "    </tr>\n",
       "    <tr>\n",
       "      <th>269</th>\n",
       "      <td>9678161</td>\n",
       "      <td>The film deals with student strength. Shiva , ...</td>\n",
       "      <td>1996</td>\n",
       "      <td>Maanbumigu Maanavan</td>\n",
       "      <td>NaN</td>\n",
       "      <td>[1, 1, 1, -1, 1, -1, 1, -1]</td>\n",
       "      <td>[0.4939, 0.9623, 0.4767, -0.8126, 0.2023, -0.8...</td>\n",
       "      <td>{\"/m/03rk0\": \"India\"}</td>\n",
       "      <td>{\"/m/02kdv5l\": \"Action\"}</td>\n",
       "      <td>8</td>\n",
       "      <td>{\"/m/07c9s\": \"Tamil Language\"}</td>\n",
       "      <td>139.0</td>\n",
       "      <td>3</td>\n",
       "      <td>0</td>\n",
       "      <td>5</td>\n",
       "      <td>0.044562</td>\n",
       "      <td>positive_movie</td>\n",
       "      <td>emotional</td>\n",
       "    </tr>\n",
       "  </tbody>\n",
       "</table>\n",
       "</div>"
      ],
      "text/plain": [
       "           id                                               plot release date  \\\n",
       "1     9363483  A series of murders of rich young women throug...         1987   \n",
       "24    4951456  A Japanese businessman sees a woman being grop...         1989   \n",
       "122   6703617  In this film, which is based loosely on the an...   2008-04-04   \n",
       "208  24282238  Yamraaj is the story of two thieves Birju  and...   1998-07-31   \n",
       "269   9678161  The film deals with student strength. Shiva , ...         1996   \n",
       "\n",
       "                           Title    boxOffice  \\\n",
       "1               White Of The Eye          NaN   \n",
       "24   Kinjite: Forbidden Subjects    3416846.0   \n",
       "122        The Forbidden Kingdom  127906624.0   \n",
       "208                      Yamraaj          NaN   \n",
       "269          Maanbumigu Maanavan          NaN   \n",
       "\n",
       "                                   plot_classification  \\\n",
       "1    [-1, 1, 1, -1, -1, -1, 0, 0, -1, -1, 1, 0, 1, ...   \n",
       "24     [0, 1, 0, -1, 0, 0, 0, 0, -1, 0, -1, -1, 1, -1]   \n",
       "122  [1, 0, -1, -1, -1, -1, -1, 0, 1, 0, -1, 1, 1, ...   \n",
       "208                              [1, -1, 1, -1, -1, 1]   \n",
       "269                        [1, 1, 1, -1, 1, -1, 1, -1]   \n",
       "\n",
       "                                           plot_scores  \\\n",
       "1    [-0.6641833333333406, 0.3856095238095242, 0.41...   \n",
       "24   [0.0, 0.2732, 0.0, -0.5927, 0.0, 0.0, 0.0, 0.0...   \n",
       "122  [0.7200333333333386, -0.2102333333333325, -0.5...   \n",
       "208  [0.0516, -0.0516, 0.1154, -0.3182, -0.3612, 0....   \n",
       "269  [0.4939, 0.9623, 0.4767, -0.8126, 0.2023, -0.8...   \n",
       "\n",
       "                                               country  \\\n",
       "1                       {\"/m/07ssc\": \"United Kingdom\"}   \n",
       "24           {\"/m/09c7w0\": \"United States of America\"}   \n",
       "122  {\"/m/09c7w0\": \"United States of America\", \"/m/...   \n",
       "208                              {\"/m/03rk0\": \"India\"}   \n",
       "269                              {\"/m/03rk0\": \"India\"}   \n",
       "\n",
       "                                                genres  number_of_sentances  \\\n",
       "1    {\"/m/01jfsb\": \"Thriller\", \"/m/0glj9q\": \"Erotic...                   36   \n",
       "24   {\"/m/0lsxr\": \"Crime Fiction\", \"/m/03btsm8\": \"A...                   14   \n",
       "122  {\"/m/08322\": \"Wuxia\", \"/m/0hj3n2k\": \"Fantasy A...                   36   \n",
       "208  {\"/m/0lsxr\": \"Crime Fiction\", \"/m/02kdv5l\": \"A...                    6   \n",
       "269                           {\"/m/02kdv5l\": \"Action\"}                    8   \n",
       "\n",
       "                                              language  Runtime  \\\n",
       "1                   {\"/m/02h40lc\": \"English Language\"}    110.0   \n",
       "24                  {\"/m/02h40lc\": \"English Language\"}     97.0   \n",
       "122  {\"/m/0653m\": \"Standard Mandarin\", \"/m/02h40lc\"...    105.0   \n",
       "208                     {\"/m/03k50\": \"Hindi Language\"}      NaN   \n",
       "269                     {\"/m/07c9s\": \"Tamil Language\"}    139.0   \n",
       "\n",
       "     negative_score  neutral_score  positive_score  emotion_score  \\\n",
       "1                20              6              10      -0.181695   \n",
       "24                5              7               2      -0.218286   \n",
       "122              18              6              12      -0.118141   \n",
       "208               3              0               3      -0.020600   \n",
       "269               3              0               5       0.044562   \n",
       "\n",
       "    movie_sentiment     movie_type  \n",
       "1    negative_movie      emotional  \n",
       "24    neutral_movie  non_emotional  \n",
       "122  negative_movie      emotional  \n",
       "208  positive_movie      emotional  \n",
       "269  positive_movie      emotional  "
      ]
     },
     "execution_count": 318,
     "metadata": {},
     "output_type": "execute_result"
    }
   ],
   "source": [
    "# for each genre, classify the plot as neutral, negative and positive\n",
    "\n",
    "# Classify if the movie is an emotional movie or not\n",
    "def classify_emotional(sentiment):\n",
    "    if(sentiment == \"neutral_movie\"):\n",
    "        return 'non_emotional'\n",
    "    elif sentiment in [\"negative_movie\", \"positive_movie\"]:\n",
    "        return 'emotional'\n",
    "\n",
    "for dataset in dataset_by_genre.values():\n",
    "    # classify \n",
    "    dataset.loc[(dataset[\"neutral_score\"]>=0.5*dataset[\"number_of_sentances\"]), \"movie_sentiment\"] = 'neutral_movie'\n",
    "    dataset.loc[(dataset[\"negative_score\"]>=0.5*dataset[\"number_of_sentances\"]),\"movie_sentiment\"] = 'negative_movie'\n",
    "    dataset.loc[(dataset[\"positive_score\"]>=0.5*dataset[\"number_of_sentances\"]),\"movie_sentiment\"] = 'positive_movie'\n",
    "    dataset['movie_type'] = dataset['movie_sentiment'].apply(lambda s : classify_emotional(s))\n",
    "\n",
    "    # we drop all movies that are not classified\n",
    "    dataset.dropna(subset=[\"movie_type\"], inplace=True)\n",
    "\n",
    "# visualize one dataframe (Action Dataframe)\n",
    "dataset_by_genre['Action'].head(5)"
   ]
  },
  {
   "attachments": {},
   "cell_type": "markdown",
   "metadata": {},
   "source": [
    "Having classified the movie plots as emotional or non-emotional, we can now visualize the distribution of movie types within each genre."
   ]
  },
  {
   "cell_type": "code",
   "execution_count": 319,
   "metadata": {},
   "outputs": [
    {
     "data": {
      "image/png": "[encoded data removed]",
      "text/plain": [
       "<Figure size 432x504 with 4 Axes>"
      ]
     },
     "metadata": {
      "needs_background": "light"
     },
     "output_type": "display_data"
    }
   ],
   "source": [
    "fig, axs = plt.subplots(2,2,figsize=(6, 7), sharey=True)\n",
    "for index, dataset in enumerate(list(dataset_by_genre.keys())):  \n",
    "    head =  dataset_by_genre[dataset]['movie_type'].value_counts().loc[[\"emotional\", \"non_emotional\"]]\n",
    "    axs[int(index/2),index%2].bar(head.index, head.values, color=[\"tab:blue\", \"tab:orange\"])  \n",
    "    axs[int(index/2),index%2].set_title(dataset + \" Movies\")\n",
    "    axs[int(index/2),index%2].set(xlabel=None)\n",
    "fig.tight_layout()"
   ]
  },
  {
   "attachments": {},
   "cell_type": "markdown",
   "metadata": {},
   "source": [
    "As can be seen from the above figure, the emotional movies are more predimonent compared to non-emotional movies in all genres. "
   ]
  },
  {
   "attachments": {},
   "cell_type": "markdown",
   "metadata": {},
   "source": [
    "With that given, we can also visualize the distribution of negative, neutral and positive sentiments in all genres."
   ]
  },
  {
   "cell_type": "code",
   "execution_count": 320,
   "metadata": {},
   "outputs": [
    {
     "data": {
      "text/plain": [
       "Text(0.0, 0.5, 'Number of Movies')"
      ]
     },
     "execution_count": 320,
     "metadata": {},
     "output_type": "execute_result"
    },
    {
     "data": {
      "image/png": "[encoded data removed]",
      "text/plain": [
       "<Figure size 720x360 with 4 Axes>"
      ]
     },
     "metadata": {
      "needs_background": "light"
     },
     "output_type": "display_data"
    }
   ],
   "source": [
    "fig, axis = plt.subplots(2,2, figsize=(10,5), sharey=True)\n",
    "fig.tight_layout() \n",
    "\n",
    "# visualize the distribution of the various sentiments using bar plots\n",
    "for index, dataset in enumerate(dataset_by_genre.keys()):\n",
    "    head =  dataset_by_genre[dataset]['movie_sentiment'].value_counts().loc[[\"negative_movie\", \"neutral_movie\", \"positive_movie\"]]\n",
    "    axis[int(index/2),index%2].bar(head.index, head.values, color=[\"tab:red\", \"tab:orange\", \"tab:green\"])\n",
    "    axis[int(index/2),index%2].set_title(f\"{dataset} Movies\")\n",
    "    \n",
    "fig.subplots_adjust(hspace=0.5)\n",
    "fig.text(0.5, 0.00, \"Type of Movie\", ha=\"center\")\n",
    "fig.text(0.0, 0.5, \"Number of Movies\", va=\"center\", rotation=\"vertical\")"
   ]
  },
  {
   "attachments": {},
   "cell_type": "markdown",
   "metadata": {},
   "source": [
    "As we can see from the above bar plot: <br>\n",
    "\n",
    "* Negative Movies are more prevalent in Action, Drama and horror genres. <br>\n",
    "* Positive Movies are more present in Comedy Movies. <br>\n",
    "* Neutral Movies are the least prevalent in all the studied genres. <br>\n",
    "\n",
    "Based on these findings, it seems that the skewed distribution of movie counts in each genre may be due to the success of movies in terms of ratings and profitability. It is possible that positive movies are more successful in the comedy genre, while the opposite may be true for drama, horror, and action movies. Do positive movies tend to do better in the comedy category compared to negative movies, while negative movies may perform better in the drama, horror, and action genres? <br>\n",
    "\n",
    "We will perform a matched observational study (to deal with hidden confounds) to provide a possible explanation.  \n"
   ]
  },
  {
   "attachments": {},
   "cell_type": "markdown",
   "metadata": {},
   "source": [
    "#### Introducing and pre-processing the IMDB ratings"
   ]
  },
  {
   "attachments": {},
   "cell_type": "markdown",
   "metadata": {},
   "source": [
    "In our analysis, we quantify the success of the movie based on both its profitability and rating. The profitability of the movie is given by the CMU Movie Metadata dataset, while the ratings are fetched from the IMDB Dataset. The IMDB Dataset doesn't contain the freebase ID found in the CMU Movie Dataset, hence in order to join the two datasets, we use the original Title of the movie as a key. In addition to that, since the same movie can include multiple versions based on the language, we compute the average weighted sum of the ratings of all the different variations of the same movie to overall rating of the movie found in the CMU Movie dataset.  "
   ]
  },
  {
   "cell_type": "code",
   "execution_count": 321,
   "metadata": {},
   "outputs": [
    {
     "ename": "",
     "evalue": "",
     "output_type": "error",
     "traceback": [
      "\u001b[1;31mThe Kernel crashed while executing code in the the current cell or a previous cell. Please review the code in the cell(s) to identify a possible cause of the failure. Click <a href='https://aka.ms/vscodeJupyterKernelCrash'>here</a> for more info. View Jupyter <a href='command:jupyter.viewOutput'>log</a> for further details."
     ]
    },
    {
     "ename": "",
     "evalue": "",
     "output_type": "error",
     "traceback": [
      "\u001b[1;31mCanceled future for execute_request message before replies were done"
     ]
    }
   ],
   "source": [
    "#load the movie title dataset\n",
    "df_name_basics = pd.read_csv('IMDB/titles.tsv', sep = '\\t', low_memory =False)"
   ]
  },
  {
   "cell_type": "code",
   "execution_count": null,
   "metadata": {},
   "outputs": [],
   "source": [
    "#load the movie rating dataset\n",
    "df_ratings = pd.read_csv('IMDB/ratings.tsv', sep = '\\t')"
   ]
  },
  {
   "cell_type": "code",
   "execution_count": null,
   "metadata": {},
   "outputs": [],
   "source": [
    "# only choose the rows which correspond to a data of a movie\n",
    "df_title = df_name_basics[df_name_basics['titleType'] == 'movie']"
   ]
  },
  {
   "cell_type": "code",
   "execution_count": null,
   "metadata": {},
   "outputs": [],
   "source": [
    "#merge the dataset with the titles and the dataset with the ratings\n",
    "df_imdb = df_title.merge(df_ratings, left_on='tconst', right_on='tconst')"
   ]
  },
  {
   "cell_type": "code",
   "execution_count": null,
   "metadata": {},
   "outputs": [],
   "source": [
    "#create datasets of average ratings of a movie considering the ratings of movies with titles in different language\n",
    "\n",
    "# get the the IMDB dataset and specifically utilize (1) original title (2) average rating (3) number of votes (4) primary title\n",
    "df_imdb= df_imdb[['originalTitle', 'averageRating', 'numVotes', 'primaryTitle']] #contains all ratings for every movie\n",
    "df_imdb['multiplication'] = df_imdb['averageRating']*df_imdb['numVotes']\n",
    "\n",
    "\n",
    "grouped = pd.DataFrame()\n",
    "grouped['sum_of_mult'] = df_imdb[['originalTitle', 'multiplication']].groupby('originalTitle').sum()\n",
    "grouped['sum_of_vote'] = df_imdb[['originalTitle', 'numVotes']].groupby('originalTitle').sum()\n",
    "grouped['average_rating'] = grouped['sum_of_mult']/grouped['sum_of_vote']\n",
    "\n",
    "grouped = grouped.reset_index(level=0)\n",
    "grouped.drop(['sum_of_mult'], axis =1).head()\n",
    "\n",
    "ratings_genre_df = {\"Action\": pd.DataFrame(), \"horror\": pd.DataFrame(), \"Drama\":pd.DataFrame(), \"Comedy\":pd.DataFrame()}\n",
    "\n",
    "#average ratings for every genre\n",
    "for dataset in dataset_by_genre.keys():\n",
    "    ratings_genre_df[dataset] = grouped.merge(dataset_by_genre[dataset], left_on = 'originalTitle', right_on = 'Title')\n"
   ]
  },
  {
   "cell_type": "code",
   "execution_count": null,
   "metadata": {},
   "outputs": [],
   "source": [
    "ratings_genre_df[\"Action\"].head(3)"
   ]
  },
  {
   "cell_type": "markdown",
   "metadata": {},
   "source": [
    "#### Part 2.1: Emotional vs Non-emotional movies (ratings)"
   ]
  },
  {
   "cell_type": "code",
   "execution_count": null,
   "metadata": {},
   "outputs": [],
   "source": [
    "processed_ratings_emotional_df={}\n",
    "\n",
    "# classify the movie and compute the average rating of the emotional movie and of the non emotional movie\n",
    "for index, genre in enumerate(dataset_by_genre.keys()):\n",
    "    # merge the current dataframe with the ratings dataframe\n",
    "    processed_ratings_emotional_df[genre] = dataset_by_genre[genre][['id', 'movie_type', 'release date', 'country', 'genres', 'Runtime', 'language', 'emotion_score', 'movie_sentiment', 'boxOffice']].merge(ratings_genre_df[genre][['id', 'average_rating', 'sum_of_vote']], left_on='id', right_on='id')\n",
    "    \n",
    "    #take only the ratings if there is at least 100 voters and compute average of rating\n",
    "    processed_ratings_emotional_df[genre] = processed_ratings_emotional_df[genre][processed_ratings_emotional_df[genre]['sum_of_vote'] >= 100]\n",
    "    processed_ratings_emotional_df[genre].reset_index(inplace=True)"
   ]
  },
  {
   "cell_type": "code",
   "execution_count": null,
   "metadata": {},
   "outputs": [],
   "source": [
    "fig, axs = plt.subplots(2,2,figsize=(6, 7))\n",
    "for index, dataset in enumerate(processed_ratings_emotional_df.keys()):  \n",
    "    # average ratings per group\n",
    "    mean_ratings_movie_type = processed_ratings_emotional_df[dataset].copy().groupby('movie_type').mean()\n",
    "    mean_ratings_movie_type.reset_index(inplace=True)\n",
    "    \n",
    "    # sns barplot displaying the average rating per movie type (emotional vs non-emotional)\n",
    "    sns.barplot(x=\"movie_type\", y=\"average_rating\", data=mean_ratings_movie_type, ax=axs[int(index/2),index%2], palette=\"Set2\")\n",
    "    axs[int(index/2),index%2].set_title(dataset + \" Movies\")\n",
    "    axs[int(index/2),index%2].set(xlabel=None)\n",
    "fig.tight_layout()"
   ]
  },
  {
   "cell_type": "code",
   "execution_count": null,
   "metadata": {},
   "outputs": [],
   "source": [
    "fig, axs = plt.subplots(2,2, figsize=(15, 5))\n",
    "\n",
    "for index, genre in enumerate(processed_ratings_emotional_df.keys()):\n",
    "    genre_dataframe = processed_ratings_emotional_df[genre].copy()\n",
    "    genre_dataframe[\"release_year\"] = pd.to_datetime(genre_dataframe['release date']).dt.year\n",
    "    mean_box_cluster = genre_dataframe.groupby(['movie_type', 'release_year']).mean()\n",
    "    mean_box_cluster.reset_index(inplace=True)\n",
    "    sns.lineplot(x=\"release_year\", y=\"average_rating\", data=mean_box_cluster, hue=\"movie_type\",  palette=\"Set2\", ax=axs[int(index/2),index%2])\n",
    "    axs[int(index/2),index%2].set_title(genre + \" Movies\")\n",
    "fig.tight_layout()\n"
   ]
  },
  {
   "cell_type": "code",
   "execution_count": null,
   "metadata": {},
   "outputs": [],
   "source": [
    "fig, axs = plt.subplots(2,2, figsize=(15, 5))\n",
    "\n",
    "for index, genre in enumerate(processed_ratings_emotional_df.keys()):\n",
    "    genre_dataframe = processed_ratings_emotional_df[genre].copy()\n",
    "    genre_dataframe[\"release_year\"] = pd.to_datetime(genre_dataframe['release date']).dt.year\n",
    "    mean_box_cluster = genre_dataframe.groupby(['movie_type', 'release_year']).count()\n",
    "    mean_box_cluster.reset_index(inplace=True)\n",
    "    sns.lineplot(x=\"release_year\", y=\"id\", data=mean_box_cluster, hue=\"movie_type\",  palette=\"Set2\", ax=axs[int(index/2),index%2])\n",
    "    axs[int(index/2),index%2].set_title(genre + \" Movies\")\n",
    "fig.tight_layout()"
   ]
  },
  {
   "attachments": {},
   "cell_type": "markdown",
   "metadata": {},
   "source": [
    "Now that we have classified the movies into emotional/non-emotional, we can now performed a matched study (since our data is collected from observation; real-world data). The matched study consists of matching each movie that is emotional with a movie that is not-emotional based on similar runtime and emotion score. This can remove certain confounds that can affect both (1) the success of the movie and (2) the movie being emotional or not."
   ]
  },
  {
   "cell_type": "code",
   "execution_count": null,
   "metadata": {},
   "outputs": [],
   "source": [
    "emotional_dataset = {}\n",
    "non_emotional_dataset = {}\n",
    "\n",
    "for genre in list(processed_ratings_emotional_df.keys()):\n",
    "    dataset = processed_ratings_emotional_df[genre]\n",
    "    emotional_dataset[genre] = dataset[dataset[\"movie_type\"]==\"emotional\"]\n",
    "    non_emotional_dataset[genre] = dataset[dataset[\"movie_type\"]==\"non_emotional\"]\n",
    "    print(f\"The size of the emotional dataset of {genre} movies is of {len(emotional_dataset[genre])}\")\n",
    "    print(f\"The size of the un-emotional dataset of {genre} movies is of {len(non_emotional_dataset[genre])}\\n\")"
   ]
  },
  {
   "cell_type": "code",
   "execution_count": null,
   "metadata": {},
   "outputs": [],
   "source": [
    "# list of ids to be used to track the matches\n",
    "matched_emotional_ids = defaultdict(lambda: [])\n",
    "matched_non_emotional_ids = defaultdict(lambda: [])\n",
    "\n",
    "# iterate over all genres \n",
    "for genre in emotional_dataset.keys():\n",
    "    for emotional_id, emotional_dataframe in emotional_dataset[genre].iterrows():\n",
    "        for non_emotional_id, non_emotional_dataframe in non_emotional_dataset[genre].iterrows():\n",
    "            if abs(emotional_dataframe[\"Runtime\"] - non_emotional_dataframe[\"Runtime\"])<20 and (abs(emotional_dataframe[\"emotion_score\"] - non_emotional_dataframe[\"emotion_score\"]))>0.05 and non_emotional_id not in matched_non_emotional_ids[genre]:\n",
    "                matched_emotional_ids[genre].append(int(emotional_id))\n",
    "                matched_non_emotional_ids[genre].append(int(non_emotional_id))\n",
    "                break"
   ]
  },
  {
   "cell_type": "code",
   "execution_count": null,
   "metadata": {},
   "outputs": [],
   "source": [
    "matched_dataset_per_genre = {}\n",
    "for genre in list(non_emotional_dataset.keys()):\n",
    "    # concatenate the two dataframes (by correctly choosing the matched rows) and for the correct genres\n",
    "    matched_dataset_per_genre[genre] = pd.concat([processed_ratings_emotional_df[genre].iloc[matched_non_emotional_ids[genre]], processed_ratings_emotional_df[genre].iloc[matched_emotional_ids[genre]]])"
   ]
  },
  {
   "cell_type": "code",
   "execution_count": null,
   "metadata": {},
   "outputs": [],
   "source": [
    "for genre in matched_dataset_per_genre.keys():\n",
    "    print(f\"The length of matched candidates in {genre} Movies is {int(len(matched_dataset_per_genre[genre])/2)}\")\n"
   ]
  },
  {
   "cell_type": "code",
   "execution_count": null,
   "metadata": {},
   "outputs": [],
   "source": [
    "nbr_of_samples = 10000\n",
    "\n",
    "# construct a N samples of size N \n",
    "def bootstrap_CI(data, nbr_draws):\n",
    "    means = np.zeros(nbr_draws)\n",
    "    data = np.array(data)\n",
    "\n",
    "    for n in range(nbr_draws):\n",
    "        # sample a dataset of sie N\n",
    "        indices = np.random.randint(0, len(data), len(data))\n",
    "\n",
    "        # form the dataset\n",
    "        data_tmp = data[indices] \n",
    "        \n",
    "        # compute the arithmetic mean\n",
    "        means[n] = np.nanmean(data_tmp)\n",
    "    return [np.nanpercentile(means, 2.5),np.nanpercentile(means, 97.5)], np.mean(means)"
   ]
  },
  {
   "cell_type": "code",
   "execution_count": null,
   "metadata": {},
   "outputs": [],
   "source": [
    "emotional_movies_metrics = {\"Action\" : {\"Mean\" : 0, \"Confidence Interval\" : []}, \n",
    "                            \"Horror\" : {\"Mean\" : 0, \"Confidence Interval\" : []}, \n",
    "                            \"Drama\" : {\"Mean\" : 0, \"Confidence Interval\" : []}, \n",
    "                            \"Comedy\" : {\"Mean\" : 0, \"Confidence Interval\" : []}}\n",
    "\n",
    "non_emotional_movie_metrics = {\"Action\" : {\"Mean\" : 0, \"Confidence Interval\" : []}, \n",
    "                               \"Horror\" : {\"Mean\" : 0, \"Confidence Interval\" : []}, \n",
    "                               \"Drama\" : {\"Mean\" : 0, \"Confidence Interval\" : []}, \n",
    "                               \"Comedy\" : {\"Mean\" : 0, \"Confidence Interval\" : []}}\n",
    "\n",
    "pvalues_difference = {\"Action\" : 0, \"Horror\" : 0, \"Drama\" : 0, \"Comedy\" : 0}\n",
    "\n",
    "for genre in matched_dataset_per_genre.keys():\n",
    "    # get the genre matched dataframe\n",
    "    genre_dataframe = matched_dataset_per_genre[genre]\n",
    "\n",
    "    # get the emotional movies of that genre\n",
    "    emotional_data = genre_dataframe[genre_dataframe[\"movie_type\"] == \"emotional\"]\n",
    "\n",
    "    # get the non emotional movies of that genre\n",
    "    non_emotional_data= genre_dataframe[genre_dataframe[\"movie_type\"] == \"non_emotional\"]\n",
    "\n",
    "    # emotional metrics\n",
    "    emotional_movies_metrics[genre][\"Confidence Interval\"], emotional_movies_metrics[genre][\"Mean\"] = bootstrap_CI(emotional_data[\"average_rating\"].values, nbr_of_samples)\n",
    "    \n",
    "    # non emotional metrics\n",
    "    non_emotional_movie_metrics[genre][\"Confidence Interval\"], non_emotional_movie_metrics[genre][\"Mean\"] = bootstrap_CI(non_emotional_data[\"average_rating\"].values, nbr_of_samples)\n",
    "    \n",
    "    # pvalues of the independant t-test\n",
    "    pvalues_difference[genre] = stats.ttest_ind(emotional_data[\"average_rating\"] , non_emotional_data[\"average_rating\"]).pvalue"
   ]
  },
  {
   "cell_type": "code",
   "execution_count": null,
   "metadata": {},
   "outputs": [],
   "source": [
    "for genre in emotional_movies_metrics.keys() :\n",
    "    print(f\"In {genre} movies\")\n",
    "    print(f\"\\tThe average rating for emotional movies is {emotional_movies_metrics[genre]['Mean']} and with the confidence {emotional_movies_metrics[genre]['Confidence Interval']}\")\n",
    "\n",
    "    print(f\"\\tThe average rating for non-emotional movies is {non_emotional_movie_metrics[genre]['Mean']} and with the confidence {non_emotional_movie_metrics[genre]['Confidence Interval']}\")\n",
    "\n",
    "    print(f\"\\tThe pvalues for the non emotional and emotional movies is {pvalues_difference[genre]}\\n\")"
   ]
  },
  {
   "cell_type": "markdown",
   "metadata": {},
   "source": [
    "#### Part 2.2: Positive vs Negative movies (ratings)"
   ]
  },
  {
   "cell_type": "code",
   "execution_count": null,
   "metadata": {},
   "outputs": [],
   "source": [
    "ratings_pn_df = dataset_by_genre.copy()\n",
    "fig, axs = plt.subplots(2,2,figsize=(6, 7))\n",
    "\n",
    "# filter the movie, we take only negative and positive movies and compute the average rating\n",
    "for index, dataset in enumerate(ratings_pn_df.keys()):\n",
    "\n",
    "    #filter the movie\n",
    "    ratings_pn_df[dataset] = ratings_pn_df[dataset][(ratings_pn_df[dataset]['movie_sentiment'] == \"negative_movie\") | (ratings_pn_df[dataset]['movie_sentiment'] == \"positive_movie\")]\n",
    "    ratings_pn_df[dataset] = ratings_pn_df[dataset][['id', 'movie_sentiment']].merge(ratings_genre_df[dataset][['id', 'average_rating', 'sum_of_vote']], left_on='id', right_on='id')\n",
    "    \n",
    "    #take only the ratings if there is at least 100 voters and compute average of rating\n",
    "    ratings_pn_df[dataset] = ratings_pn_df[dataset][ratings_pn_df[dataset]['sum_of_vote'] >= 100][['movie_sentiment', 'average_rating']]\n",
    "    mean_ratings_pn = ratings_pn_df[dataset].copy().groupby('movie_sentiment').mean()\n",
    "    mean_ratings_pn.reset_index(inplace=True)\n",
    "    sns.barplot(x=\"movie_sentiment\", y=\"average_rating\", data=mean_ratings_pn, ax=axs[int(index/2),index%2], palette=\"Set2\")\n",
    "    axs[int(index/2),index%2].set_title(dataset + \" Movies\")\n",
    "\n",
    "fig.tight_layout()"
   ]
  },
  {
   "cell_type": "code",
   "execution_count": null,
   "metadata": {},
   "outputs": [],
   "source": [
    "fig, axs = plt.subplots(2,2, figsize=(15, 5))\n",
    "\n",
    "for index, genre in enumerate(processed_ratings_emotional_df.keys()):\n",
    "    genre_dataframe = processed_ratings_emotional_df[genre].copy()\n",
    "    genre_dataframe = genre_dataframe[genre_dataframe[\"movie_sentiment\"].str.contains(\"neutral_movie\") == False]\n",
    "    genre_dataframe[\"release_year\"] = pd.to_datetime(genre_dataframe['release date']).dt.year\n",
    "    mean_box_cluster = genre_dataframe.groupby(['movie_sentiment', 'release_year']).mean()\n",
    "    mean_box_cluster.reset_index(inplace=True)\n",
    "    sns.lineplot(x=\"release_year\", y=\"average_rating\", data=mean_box_cluster, hue=\"movie_sentiment\",  palette=\"Set2\", ax=axs[int(index/2),index%2])\n",
    "    axs[int(index/2),index%2].set_title(genre + \" Movies\")\n",
    "fig.tight_layout()"
   ]
  },
  {
   "cell_type": "code",
   "execution_count": null,
   "metadata": {},
   "outputs": [],
   "source": [
    "fig, axs = plt.subplots(2,2, figsize=(15, 5))\n",
    "\n",
    "for index, genre in enumerate(processed_ratings_emotional_df.keys()):\n",
    "    genre_dataframe = processed_ratings_emotional_df[genre].copy()\n",
    "    genre_dataframe = genre_dataframe[genre_dataframe[\"movie_sentiment\"].str.contains(\"neutral_movie\") == False]\n",
    "    genre_dataframe[\"release_year\"] = pd.to_datetime(genre_dataframe['release date']).dt.year\n",
    "    mean_box_cluster = genre_dataframe.groupby(['movie_sentiment', 'release_year']).count()\n",
    "    mean_box_cluster.reset_index(inplace=True)\n",
    "    sns.lineplot(x=\"release_year\", y=\"id\", data=mean_box_cluster, hue=\"movie_sentiment\",  palette=\"Set2\", ax=axs[int(index/2),index%2])\n",
    "    axs[int(index/2),index%2].set_title(genre + \" Movies\")\n",
    "fig.tight_layout()"
   ]
  },
  {
   "cell_type": "code",
   "execution_count": null,
   "metadata": {},
   "outputs": [],
   "source": [
    "# create the two datasets is before and is after\n",
    "positive_dataset = {}\n",
    "negative_dataset = {}\n",
    "\n",
    "for genre in list(processed_ratings_emotional_df.keys()):\n",
    "    dataset = processed_ratings_emotional_df[genre]\n",
    "    positive_dataset[genre] = dataset[dataset[\"movie_sentiment\"]==\"positive_movie\"]\n",
    "    negative_dataset[genre] = dataset[dataset[\"movie_sentiment\"]==\"negative_movie\"]\n",
    "    print(f\"The size of the positive dataset of {genre} movies is of {len(positive_dataset[genre])}\")\n",
    "    print(f\"The size of the negative dataset of {genre} movies is of {len(negative_dataset[genre])}\\n\")"
   ]
  },
  {
   "cell_type": "code",
   "execution_count": null,
   "metadata": {},
   "outputs": [],
   "source": [
    "# list of ids to be used to track the matches\n",
    "matched_positive_ids = defaultdict(lambda: [])\n",
    "matched_negative_ids = defaultdict(lambda: [])\n",
    "\n",
    "# iterate over all genres \n",
    "for genre in list(positive_dataset.keys()):\n",
    "    for positive_id, positive_dataframe in positive_dataset[genre].iterrows():\n",
    "        for negative_id, negative_dataframe in negative_dataset[genre].iterrows():\n",
    "            if abs(positive_dataframe[\"Runtime\"] - negative_dataframe[\"Runtime\"])<20 and (abs(positive_dataframe[\"emotion_score\"] - abs(negative_dataframe[\"emotion_score\"])))<0.05 and negative_id not in matched_negative_ids[genre]:\n",
    "                matched_positive_ids[genre].append(int(positive_id))\n",
    "                matched_negative_ids[genre].append(int(negative_id))\n",
    "                break"
   ]
  },
  {
   "cell_type": "code",
   "execution_count": null,
   "metadata": {},
   "outputs": [],
   "source": [
    "matched_positive_negative_per_genre = {}\n",
    "for genre in list(non_emotional_dataset.keys()):\n",
    "    # concatenate the two dataframes (by correctly choosing the matched rows) and for the correct genres\n",
    "    matched_positive_negative_per_genre[genre] = pd.concat([processed_ratings_emotional_df[genre].iloc[matched_positive_ids[genre]], processed_ratings_emotional_df[genre].iloc[matched_negative_ids[genre]]])"
   ]
  },
  {
   "cell_type": "code",
   "execution_count": null,
   "metadata": {},
   "outputs": [],
   "source": [
    "for genre in matched_positive_negative_per_genre.keys():\n",
    "    print(f\"The length of matched candidates in {genre} Movies is {int(len(matched_positive_negative_per_genre[genre])/2)}\")"
   ]
  },
  {
   "cell_type": "code",
   "execution_count": null,
   "metadata": {},
   "outputs": [],
   "source": [
    "positive_movies_metrics = {\"Action\" : {\"Mean\" : 0, \"Confidence Interval\" : []}, \n",
    "                            \"Horror\" : {\"Mean\" : 0, \"Confidence Interval\" : []}, \n",
    "                            \"Drama\" : {\"Mean\" : 0, \"Confidence Interval\" : []}, \n",
    "                            \"Comedy\" : {\"Mean\" : 0, \"Confidence Interval\" : []}}\n",
    "\n",
    "negative_movie_metrics = {\"Action\" : {\"Mean\" : 0, \"Confidence Interval\" : []}, \n",
    "                               \"Horror\" : {\"Mean\" : 0, \"Confidence Interval\" : []}, \n",
    "                               \"Drama\" : {\"Mean\" : 0, \"Confidence Interval\" : []}, \n",
    "                               \"Comedy\" : {\"Mean\" : 0, \"Confidence Interval\" : []}}\n",
    "\n",
    "pvalues_difference = {\"Action\" : 0, \"Horror\" : 0, \"Drama\" : 0, \"Comedy\" : 0}\n",
    "\n",
    "for genre in matched_positive_negative_per_genre.keys():\n",
    "    # get the genre matched dataframe\n",
    "    genre_dataframe = matched_positive_negative_per_genre[genre]\n",
    "\n",
    "    # get the emotional movies of that genre\n",
    "    positive_data = genre_dataframe[genre_dataframe[\"movie_sentiment\"] == \"positive_movie\"]\n",
    "\n",
    "    # get the non emotional movies of that genre\n",
    "    negative_data= genre_dataframe[genre_dataframe[\"movie_sentiment\"] == \"negative_movie\"]\n",
    "\n",
    "    # emotional metrics\n",
    "    positive_movies_metrics[genre][\"Confidence Interval\"], positive_movies_metrics[genre][\"Mean\"] = bootstrap_CI(positive_data[\"average_rating\"].values, nbr_of_samples)\n",
    "    \n",
    "    # non emotional metrics\n",
    "    negative_movie_metrics[genre][\"Confidence Interval\"], negative_movie_metrics[genre][\"Mean\"] = bootstrap_CI(negative_data[\"average_rating\"].values, nbr_of_samples)\n",
    "    \n",
    "    # pvalues of the independant t-test\n",
    "    pvalues_difference[genre] = stats.ttest_ind(positive_data[\"average_rating\"] , negative_data[\"average_rating\"]).pvalue"
   ]
  },
  {
   "cell_type": "code",
   "execution_count": null,
   "metadata": {},
   "outputs": [],
   "source": [
    "for genre in matched_positive_negative_per_genre.keys() :\n",
    "    print(f\"In {genre} movies\")\n",
    "    print(f\"\\tThe average rating for positive movies is {positive_movies_metrics[genre]['Mean']} and with the confidence {positive_movies_metrics[genre]['Confidence Interval']}\")\n",
    "\n",
    "    print(f\"\\tThe average rating for negative movies is {negative_movie_metrics[genre]['Mean']} and with the confidence {negative_movie_metrics[genre]['Confidence Interval']}\")\n",
    "\n",
    "    print(f\"\\tThe pvalues for the positive and negative movies is {pvalues_difference[genre]}\\n\")"
   ]
  },
  {
   "cell_type": "markdown",
   "metadata": {},
   "source": [
    "#### Part 2.3: Most profitable movie arc per genre (box office)"
   ]
  },
  {
   "cell_type": "markdown",
   "metadata": {},
   "source": [
    "In this section, we build the dataframes to analyze the profitability of the movie arcs. In order to do so, we utilize the boxOffice revenues."
   ]
  },
  {
   "cell_type": "code",
   "execution_count": null,
   "metadata": {},
   "outputs": [],
   "source": [
    "#Standartization of boxOffice\n",
    "boxOffice_df = processed_df.copy()\n",
    "boxOffice_df.dropna(subset='boxOffice', inplace=True)\n",
    "boxOffice_df['country'] = boxOffice_df['country'].apply(lambda d: list(json.loads(d).values()))\n",
    "boxOffice_df['one'] = boxOffice_df['country'].apply(lambda d: len(d)==1)\n",
    "boxOffice_df = boxOffice_df[boxOffice_df['one'] ]\n",
    "boxOffice_df.drop(['one'], axis = 1, inplace=True)\n",
    "boxOffice_df['country'] = boxOffice_df['country'].apply(lambda d: d[0])\n",
    "\n",
    "#Standartization the boxOffice by country\n",
    "m_df= boxOffice_df.drop(['boxOffice'], axis=1)\n",
    "m_df = boxOffice_df[['country', 'boxOffice']].groupby('country').transform(lambda x: (x - x.mean()) / x.std()).join(m_df)\n",
    "m_df.dropna(subset=['boxOffice'], inplace=True)\n",
    "m_df = m_df[['id', 'boxOffice']]\n",
    "m_df.shape[0]"
   ]
  },
  {
   "cell_type": "code",
   "execution_count": null,
   "metadata": {},
   "outputs": [],
   "source": [
    "m_df.head()"
   ]
  },
  {
   "cell_type": "code",
   "execution_count": null,
   "metadata": {},
   "outputs": [],
   "source": [
    "fig, axs = plt.subplots(2,2, figsize=(15, 5))\n",
    "norm_df = {\"Action\": pd.DataFrame(), \"Horror\": pd.DataFrame(), \"Drama\":pd.DataFrame(), \"Comedy\":pd.DataFrame()}\n",
    "\n",
    "# draw the average of boxOffice by year for each cluster of each movie genre\n",
    "for index, dataset in enumerate(dataset_by_genre.keys()):\n",
    "    norm_df[dataset] = dataset_by_genre[dataset].drop(['boxOffice'], axis=1).merge(m_df, left_on='id', right_on='id')\n",
    "\n",
    "    # transform the release date into year date\n",
    "    norm_df[dataset]['release date'] = pd.to_datetime(norm_df[dataset]['release date'])\n",
    "    norm_df[dataset]['release date'] = norm_df[dataset]['release date'].dt.year\n",
    "    print(norm_df[dataset].shape[0])\n",
    "    norm_df[dataset].dropna(subset=['release date'],  inplace=True)\n",
    "    print(norm_df[dataset].shape[0])\n",
    "    \n",
    "    # Compute the average of boxOffice by year and by cluster\n",
    "    norm_df[dataset] = norm_df[dataset][['cluster_id', 'release date', 'boxOffice']]\n",
    "    mean_box_cluster = norm_df[dataset].copy().groupby(['cluster_id', 'release date']).mean()\n",
    "    mean_box_cluster.reset_index(inplace=True)\n",
    "    sns.lineplot(x=\"release date\", y=\"boxOffice\", data=mean_box_cluster, hue=\"cluster_id\",  palette=\"Set2\", ax=axs[int(index/2),index%2])\n",
    "    axs[int(index/2),index%2].set_title(dataset + \" Movies\")\n",
    "\n",
    "fig.tight_layout()"
   ]
  },
  {
   "cell_type": "markdown",
   "metadata": {},
   "source": [
    "We can clearly observe the varitation of the boxOffice revenue over time for each movie arc cluster. In Milestone 3, we will check whether a significant variation exist by (1) displaying the error plots and (2) performing heterogeneity tests."
   ]
  },
  {
   "cell_type": "code",
   "execution_count": null,
   "metadata": {},
   "outputs": [],
   "source": [
    "quartile_df = norm_df.copy()\n",
    "init_map = {\"MeanCluster0\" : 0, \"Confidence_IntervalCluster0\" : [], \"MeanCluster1\" : 0, \"Confidence_IntervalCluster1\" : [], \"pvalue\" : 0}\n",
    "init_list = [init_map.copy(), init_map.copy(), init_map.copy(), init_map.copy()]\n",
    "quartile_map = {\"Action\" : init_list.copy(), \"Horror\" : init_list.copy(), \"Drama\" : init_list.copy(), \"Comedy\" : init_list.copy()}\n",
    "fig = plt.figure(figsize = (16,16), constrained_layout=True)\n",
    "subfigs = fig.subfigures(nrows=4, ncols=1, hspace=10.0, wspace=0.07)\n",
    "for dataset in zip(norm_df.keys(), subfigs) :\n",
    "    quartile_df[dataset[0]][\"quartile\"] = pd.qcut(quartile_df[dataset[0]][\"release date\"], q = 4, labels=False)\n",
    "    dataset[1].suptitle(f\"{dataset[0]} Movies\", y = 1.0)\n",
    "    axs = dataset[1].subplots(nrows=1, ncols=4, sharex=True, sharey=True)\n",
    "    for i in range(4) :\n",
    "        qi_df = quartile_df[dataset[0]][quartile_df[dataset[0]][\"quartile\"] == i][['cluster_id', 'boxOffice', 'release date']]\n",
    "        minYear= qi_df['release date'].min()\n",
    "        maxYear = qi_df['release date'].max()\n",
    "        qi_cluster0 = qi_df[qi_df[\"cluster_id\"] == 0][['boxOffice']]\n",
    "        qi_cluster1 = qi_df[qi_df[\"cluster_id\"] == 1][['boxOffice']]\n",
    "        quartile_map[dataset[0]][i][\"Confidence_IntervalCluster0\"], quartile_map[dataset[0]][i][\"MeanCluster0\"] = bootstrap_CI(qi_cluster0, nbr_of_samples)\n",
    "        quartile_map[dataset[0]][i][\"Confidence_IntervalCluster1\"], quartile_map[dataset[0]][i][\"MeanCluster1\"] = bootstrap_CI(qi_cluster1, nbr_of_samples)\n",
    "        quartile_map[dataset[0]][i][\"pvalue\"] = stats.ttest_ind(qi_cluster0, qi_cluster1).pvalue\n",
    "        mean_boxOffice_cluster = qi_df.copy()[['cluster_id', 'boxOffice']].groupby('cluster_id').mean()\n",
    "        mean_boxOffice_cluster.reset_index(inplace=True)\n",
    "        sns.barplot(x=\"cluster_id\", y=\"boxOffice\", data=mean_boxOffice_cluster, ax=axs[i], palette=\"Set2\")\n",
    "        axs[i].set_title(f\"Q{i} [{minYear}, {maxYear}]\")\n",
    "\n",
    "        \n",
    "fig.supxlabel('Cluster')\n",
    "fig.supylabel('Average normalized BoxOffice')\n",
    "fig.subplots_adjust(hspace=10.5)\n",
    "        \n",
    "        "
   ]
  },
  {
   "cell_type": "code",
   "execution_count": null,
   "metadata": {},
   "outputs": [],
   "source": [
    "\n",
    "def printStats(dataset) :\n",
    "    print(f\"In {dataset} Movies : \")\n",
    "    for i in range(4) :\n",
    "        print(f\"In the period defined by the quartile {i} : \")\n",
    "        m = quartile_map[dataset][i][\"MeanCluster0\"]\n",
    "        print(f\"The average normalized boxOffice in the cluster 0 is {m}\")\n",
    "        ci = quartile_map[dataset][i][\"Confidence_IntervalCluster0\"]\n",
    "        print(f\"The confidence interval in the cluster 0 is {ci}\")\n",
    "        m = quartile_map[dataset][i][\"MeanCluster1\"]\n",
    "        print(f\"The average normalized boxOffice in the cluster 1 is {m}\")\n",
    "        ci = quartile_map[dataset][i][\"Confidence_IntervalCluster1\"]\n",
    "        print(f\"The confidence interval in the cluster 1 is {ci}\")\n",
    "        p = quartile_map[dataset][i][\"pvalue\"]\n",
    "        print(f\"The pvalue between this 2 clusters is {p}\")"
   ]
  },
  {
   "cell_type": "code",
   "execution_count": null,
   "metadata": {},
   "outputs": [],
   "source": [
    "printStats(\"Action\")"
   ]
  },
  {
   "cell_type": "code",
   "execution_count": null,
   "metadata": {},
   "outputs": [],
   "source": [
    "printStats(\"Horror\")"
   ]
  },
  {
   "cell_type": "code",
   "execution_count": null,
   "metadata": {},
   "outputs": [],
   "source": [
    "printStats(\"Drama\")"
   ]
  },
  {
   "cell_type": "code",
   "execution_count": null,
   "metadata": {},
   "outputs": [],
   "source": [
    "printStats(\"Comedy\")"
   ]
  },
  {
   "cell_type": "markdown",
   "metadata": {},
   "source": [
    "#### Part 2.4: Most rated movie arc per genre (ratings)"
   ]
  },
  {
   "cell_type": "code",
   "execution_count": null,
   "metadata": {},
   "outputs": [],
   "source": [
    "ratings_cluster_df = {\"Action\": pd.DataFrame(), \"Horror\": pd.DataFrame(), \"Drama\":pd.DataFrame(), \"Comedy\":pd.DataFrame()}\n",
    "fig, axs = plt.subplots(2,2, figsize=(6, 7))\n",
    "\n",
    "#Compute the average rating for each cluster of each movie genre\n",
    "for index, dataset in enumerate(dataset_by_genre.keys()):\n",
    "    ratings_cluster_df[dataset] = grouped.merge(dataset_by_genre[dataset], left_on = 'originalTitle', right_on = 'Title')\n",
    "    \n",
    "    #take only the ratings if there is at least 100 voters and compute average of rating\n",
    "    ratings_cluster_df[dataset] = ratings_cluster_df[dataset][ratings_cluster_df[dataset]['sum_of_vote'] >= 100][['cluster_id', 'average_rating']]\n",
    "    mean_ratings_cluster = ratings_cluster_df[dataset].copy().groupby('cluster_id').mean()\n",
    "    mean_ratings_cluster.reset_index(inplace=True)\n",
    "    sns.barplot(x=\"cluster_id\", y=\"average_rating\", data=mean_ratings_cluster, ax=axs[int(index/2),index%2], palette=\"Set2\")\n",
    "    axs[int(index/2),index%2].set_title(dataset + \" Movies\")\n",
    "\n",
    "fig.tight_layout()"
   ]
  },
  {
   "cell_type": "markdown",
   "metadata": {},
   "source": [
    "\n",
    "Now we can observe the average of the ratings for each movie arc cluster. In Milestone 3, we analyze the displayed plots and perform significance tests to rank the different movie arc clusters present."
   ]
  },
  {
   "cell_type": "code",
   "execution_count": null,
   "metadata": {},
   "outputs": [],
   "source": [
    "cluster0_movies = ratings_cluster_df.copy()\n",
    "cluster1_movies = ratings_cluster_df.copy()\n",
    "cluster0_mc = {\"Action\" : {\"Mean\" : 0, \"Confidence Interval\" : []}, \"Horror\" : {\"Mean\" : 0, \"Confidence Interval\" : []}, \"Drama\" : {\"Mean\" : 0, \"Confidence Interval\" : []}, \"Comedy\" : {\"Mean\" : 0, \"Confidence Interval\" : []}}\n",
    "cluster1_mc = {\"Action\" : {\"Mean\" : 0, \"Confidence Interval\" : []}, \"Horror\" : {\"Mean\" : 0, \"Confidence Interval\" : []}, \"Drama\" : {\"Mean\" : 0, \"Confidence Interval\" : []}, \"Comedy\" : {\"Mean\" : 0, \"Confidence Interval\" : []}}\n",
    "pvalues_cluster01 = {\"Action\" : 0, \"Horror\" : 0, \"Drama\" : 0, \"Comedy\" : 0}\n",
    "for dataset in emo_movies.keys() :\n",
    "    cluster0_movies[dataset] = cluster0_movies[dataset][cluster0_movies[dataset][\"cluster_id\"] == 0]\n",
    "    cluster1_movies[dataset] = cluster1_movies[dataset][cluster1_movies[dataset][\"cluster_id\"] == 1]\n",
    "    cluster0_mc[dataset][\"Confidence Interval\"], cluster0_mc[dataset][\"Mean\"] = bootstrap_CI(cluster0_movies[dataset][\"average_rating\"], nbr_of_samples)\n",
    "    cluster1_mc[dataset][\"Confidence Interval\"], cluster1_mc[dataset][\"Mean\"] = bootstrap_CI(cluster1_movies[dataset][\"average_rating\"], nbr_of_samples)\n",
    "    pvalues_cluster01[dataset] = stats.ttest_ind(cluster0_movies[dataset][\"average_rating\"] , cluster1_movies[dataset][\"average_rating\"]).pvalue"
   ]
  },
  {
   "cell_type": "code",
   "execution_count": null,
   "metadata": {},
   "outputs": [],
   "source": [
    "for dataset in cluster0_movies.keys() :\n",
    "    print(f\"In {dataset} movies : \")\n",
    "    ci = cluster0_mc[dataset][\"Confidence Interval\"]\n",
    "    print(f\"For Positive movies the confidence interval is {ci}\")\n",
    "    ci = cluster1_mc[dataset][\"Confidence Interval\"]\n",
    "    print(f\"For Negative movies the confidence interval is {ci}\")\n",
    "    print(f\"The pvalues for the negative and positive movies is {pvalues_cluster01[dataset]}\")"
   ]
  }
 ],
 "metadata": {
  "kernelspec": {
   "display_name": "base",
   "language": "python",
   "name": "python3"
  },
  "language_info": {
   "codemirror_mode": {
    "name": "ipython",
    "version": 3
   },
   "file_extension": ".py",
   "mimetype": "text/x-python",
   "name": "python",
   "nbconvert_exporter": "python",
   "pygments_lexer": "ipython3",
   "version": "3.9.12"
  },
  "vscode": {
   "interpreter": {
    "hash": "e28b144620c4d623d94042c2e69c63fcf6b3693ac8ae89d9d540220aea70627f"
   }
  }
 },
 "nbformat": 4,
 "nbformat_minor": 4
}
